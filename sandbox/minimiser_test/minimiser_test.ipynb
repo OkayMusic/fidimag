{
 "cells": [
  {
   "cell_type": "code",
   "execution_count": 1,
   "metadata": {},
   "outputs": [],
   "source": [
    "import matplotlib.pyplot as plt\n",
    "import fidimag\n",
    "import fidimag.common.constant as C\n",
    "import numpy as np\n",
    "%matplotlib inline\n",
    "plt.style.use('../lato_style.mplstyle')"
   ]
  },
  {
   "cell_type": "code",
   "execution_count": 2,
   "metadata": {},
   "outputs": [],
   "source": [
    "# System parameters\n",
    "L = 100\n",
    "\n",
    "# Some atomistic parameters\n",
    "J = 5.88 * C.meV\n",
    "D = 1.56 * C.meV\n",
    "Ku = 0.41 * C.meV\n",
    "mus = 3 * C.mu_B\n",
    "\n",
    "# Lattice constants (in nm)\n",
    "a = 0.2715\n",
    "az = 0.408\n",
    "\n",
    "# Magnetic field in Tesla\n",
    "B = 2\n",
    "\n",
    "# Free electron gyrom ratio\n",
    "gamma = 1.76e11\n"
   ]
  },
  {
   "cell_type": "code",
   "execution_count": 3,
   "metadata": {},
   "outputs": [
    {
     "data": {
      "text/plain": [
       "<module 'fidimag' from '/home/david/git/fidimag/fidimag/__init__.py'>"
      ]
     },
     "execution_count": 3,
     "metadata": {},
     "output_type": "execute_result"
    }
   ],
   "source": [
    "import imp\n",
    "imp.reload(fidimag)"
   ]
  },
  {
   "cell_type": "code",
   "execution_count": 4,
   "metadata": {},
   "outputs": [],
   "source": [
    "nx, ny, nz = 100, 1, 1\n",
    "dx, dy, dz = a, a, az\n",
    "\n",
    "mesh = fidimag.common.CuboidMesh(nx=nx, ny=ny, nz=nz, dx=dx, dy=dy, dz=dz, \n",
    "                                periodicity=(False, False, False),\n",
    "                                unit_length=1e-9)\n"
   ]
  },
  {
   "cell_type": "code",
   "execution_count": 5,
   "metadata": {},
   "outputs": [],
   "source": [
    "sim = fidimag.atomistic.Sim(mesh, name='one_dim', driver='steepest_descent')\n",
    "       \n",
    "# Define the magnetisation\n",
    "sim.set_mu_s(mus)\n",
    "\n",
    "# Add the magnetic interactions\n",
    "sim.add(fidimag.atomistic.Exchange(J))\n",
    "sim.add(fidimag.atomistic.Anisotropy(Ku, axis=(0, 0, 1)))\n",
    "sim.add(fidimag.atomistic.DMI(D, dmi_type='interfacial'))\n",
    "sim.add(fidimag.atomistic.Zeeman((0, 0, B)))\n",
    "\n",
    "xs = mesh.coordinates[:, 0]\n",
    "centre_x = (xs.max() + xs.min()) * 0.5 + xs.min() \n",
    "       \n",
    "def m_initial(r):\n",
    "    x, y, z = r[0], r[1], r[2]\n",
    "    if np.abs(x - centre_x) < 2:\n",
    "        return (0, 0.1, -.9)\n",
    "    else:\n",
    "        return (0, 0.1, .9)\n",
    "\n",
    "# sim.set_m((0.1, 0, 0.9))\n",
    "sim.set_m(m_initial)"
   ]
  },
  {
   "cell_type": "code",
   "execution_count": 6,
   "metadata": {},
   "outputs": [
    {
     "data": {
      "text/plain": [
       "[<matplotlib.lines.Line2D at 0x7f1f077caa58>]"
      ]
     },
     "execution_count": 6,
     "metadata": {},
     "output_type": "execute_result"
    },
    {
     "data": {
      "image/png": "[encoded data removed]",
      "text/plain": [
       "<matplotlib.figure.Figure at 0x7f1f09806780>"
      ]
     },
     "metadata": {},
     "output_type": "display_data"
    }
   ],
   "source": [
    "plt.plot(sim.mesh.coordinates[:, 0], sim.spin.reshape(-1, 3)[:, 2], 'o-')"
   ]
  },
  {
   "cell_type": "code",
   "execution_count": 7,
   "metadata": {
    "scrolled": true
   },
   "outputs": [
    {
     "name": "stdout",
     "output_type": "stream",
     "text": [
      "#max_tau=0.0001   max_dm=0          counter=0\n",
      "#max_tau=0.0001   max_dm=0          counter=1\n"
     ]
    }
   ],
   "source": [
    "sim.driver.minimize(max_count=5000, stopping_dm=1e-10)"
   ]
  },
  {
   "cell_type": "code",
   "execution_count": 8,
   "metadata": {},
   "outputs": [
    {
     "data": {
      "text/plain": [
       "[<matplotlib.lines.Line2D at 0x7f1f07717ba8>]"
      ]
     },
     "execution_count": 8,
     "metadata": {},
     "output_type": "execute_result"
    },
    {
     "data": {
      "image/png": "[encoded data removed]",
      "text/plain": [
       "<matplotlib.figure.Figure at 0x7f1f077b4c50>"
      ]
     },
     "metadata": {},
     "output_type": "display_data"
    }
   ],
   "source": [
    "plt.plot(sim.mesh.coordinates[:, 0], sim.spin.reshape(-1, 3)[:, 0], 'o-')"
   ]
  },
  {
   "cell_type": "markdown",
   "metadata": {},
   "source": [
    "## LLG"
   ]
  },
  {
   "cell_type": "code",
   "execution_count": 9,
   "metadata": {},
   "outputs": [],
   "source": [
    "sim = fidimag.atomistic.Sim(mesh, name='one_dim', driver='llg')\n",
    "       \n",
    "# Define the magnetisation\n",
    "sim.set_mu_s(mus)\n",
    "\n",
    "# Add the magnetic interactions\n",
    "sim.add(fidimag.atomistic.Exchange(J))\n",
    "sim.add(fidimag.atomistic.Anisotropy(Ku, axis=(0, 0, 1)))\n",
    "sim.add(fidimag.atomistic.DMI(D, dmi_type='interfacial'))\n",
    "sim.add(fidimag.atomistic.Zeeman((0, 0, B)))\n",
    "\n",
    "xs = mesh.coordinates[:, 0]\n",
    "centre_x = (xs.max() + xs.min()) * 0.5 + xs.min() \n",
    "       \n",
    "def m_initial(r):\n",
    "    x, y, z = r[0], r[1], r[2]\n",
    "    if np.abs(x - centre_x) < 2:\n",
    "        return (0, 0.1, -.9)\n",
    "    else:\n",
    "        return (0, 0.1, .9)\n",
    "\n",
    "# sim.set_m((0.1, 0, 0.9))\n",
    "sim.set_m(m_initial)"
   ]
  },
  {
   "cell_type": "code",
   "execution_count": 10,
   "metadata": {},
   "outputs": [
    {
     "data": {
      "text/plain": [
       "[<matplotlib.lines.Line2D at 0x7f1f09803a90>]"
      ]
     },
     "execution_count": 10,
     "metadata": {},
     "output_type": "execute_result"
    },
    {
     "data": {
      "image/png": "[encoded data removed]",
      "text/plain": [
       "<matplotlib.figure.Figure at 0x7f1f076d2400>"
      ]
     },
     "metadata": {},
     "output_type": "display_data"
    }
   ],
   "source": [
    "plt.plot(sim.mesh.coordinates[:, 0], sim.spin.reshape(-1, 3)[:, 2], 'o-')"
   ]
  },
  {
   "cell_type": "code",
   "execution_count": 11,
   "metadata": {},
   "outputs": [
    {
     "name": "stdout",
     "output_type": "stream",
     "text": [
      "#1    t=1e-11    dt=1e-11 max_dmdt=1.77\n",
      "#2    t=3.53e-10 dt=3.43e-10 max_dmdt=1.77\n",
      "#3    t=3.79e-09 dt=3.43e-09 max_dmdt=1.77\n",
      "#4    t=3.81e-08 dt=3.43e-08 max_dmdt=1.77\n",
      "#5    t=3.81e-07 dt=3.43e-07 max_dmdt=1.77\n",
      "#6    t=3.81e-06 dt=3.43e-06 max_dmdt=1.77\n",
      "#7    t=2.51e-05 dt=2.13e-05 max_dmdt=1.77\n",
      "#8    t=8.19e-05 dt=5.67e-05 max_dmdt=1.77\n",
      "#9    t=0.000197 dt=0.000115 max_dmdt=1.77\n",
      "#10   t=0.000417 dt=0.00022 max_dmdt=1.77\n",
      "#11   t=0.000637 dt=0.00022 max_dmdt=1.77\n",
      "#12   t=0.000856 dt=0.00022 max_dmdt=1.77\n",
      "#13   t=0.00108  dt=0.00022 max_dmdt=1.77\n",
      "#14   t=0.00161  dt=0.000532 max_dmdt=1.78\n",
      "#15   t=0.00214  dt=0.000532 max_dmdt=1.78\n",
      "#16   t=0.00267  dt=0.000532 max_dmdt=1.78\n",
      "#17   t=0.0032   dt=0.000532 max_dmdt=1.78\n",
      "#18   t=0.00374  dt=0.000532 max_dmdt=1.79\n",
      "#19   t=0.00483  dt=0.00109 max_dmdt=1.79\n",
      "#20   t=0.00591  dt=0.00109 max_dmdt=1.8\n",
      "#21   t=0.007    dt=0.00109 max_dmdt=1.8\n",
      "#22   t=0.00809  dt=0.00109 max_dmdt=1.81\n",
      "#23   t=0.00918  dt=0.00109 max_dmdt=1.82\n",
      "#24   t=0.0109   dt=0.0017 max_dmdt=1.82\n",
      "#25   t=0.0126   dt=0.0017 max_dmdt=1.83\n",
      "#26   t=0.0143   dt=0.0017 max_dmdt=1.84\n",
      "#27   t=0.016    dt=0.0017 max_dmdt=1.85\n",
      "#28   t=0.0177   dt=0.0017 max_dmdt=1.86\n",
      "#29   t=0.0203   dt=0.00262 max_dmdt=1.87\n",
      "#30   t=0.0229   dt=0.00262 max_dmdt=1.88\n",
      "#31   t=0.027    dt=0.00405 max_dmdt=1.9\n",
      "#32   t=0.031    dt=0.00405 max_dmdt=1.92\n",
      "#33   t=0.0351   dt=0.00405 max_dmdt=1.95\n",
      "#34   t=0.0391   dt=0.00405 max_dmdt=1.97\n",
      "#35   t=0.0432   dt=0.00405 max_dmdt=1.99\n",
      "#36   t=0.0472   dt=0.00405 max_dmdt=2.01\n",
      "#37   t=0.0513   dt=0.00405 max_dmdt=2.03\n",
      "#38   t=0.0553   dt=0.00405 max_dmdt=2.05\n",
      "#39   t=0.0594   dt=0.00405 max_dmdt=2.07\n",
      "#40   t=0.0658   dt=0.0064 max_dmdt=2.1\n",
      "#41   t=0.0722   dt=0.0064 max_dmdt=2.13\n",
      "#42   t=0.0786   dt=0.0064 max_dmdt=2.16\n",
      "#43   t=0.085    dt=0.0064 max_dmdt=2.19\n",
      "#44   t=0.0913   dt=0.0064 max_dmdt=2.22\n",
      "#45   t=0.0977   dt=0.0064 max_dmdt=2.24\n",
      "#46   t=0.104    dt=0.0064 max_dmdt=2.27\n",
      "#47   t=0.111    dt=0.0064 max_dmdt=2.29\n",
      "#48   t=0.117    dt=0.0064 max_dmdt=2.31\n",
      "#49   t=0.123    dt=0.0064 max_dmdt=2.32\n",
      "#50   t=0.13     dt=0.0064 max_dmdt=2.34\n",
      "#51   t=0.136    dt=0.0064 max_dmdt=2.35\n",
      "#52   t=0.143    dt=0.0064 max_dmdt=2.36\n",
      "#53   t=0.149    dt=0.0064 max_dmdt=2.37\n",
      "#54   t=0.155    dt=0.0064 max_dmdt=2.37\n",
      "#55   t=0.162    dt=0.0064 max_dmdt=2.37\n",
      "#56   t=0.168    dt=0.0064 max_dmdt=2.37\n",
      "#57   t=0.174    dt=0.0064 max_dmdt=2.36\n",
      "#58   t=0.181    dt=0.0064 max_dmdt=2.35\n",
      "#59   t=0.187    dt=0.0064 max_dmdt=2.34\n",
      "#60   t=0.194    dt=0.0064 max_dmdt=2.32\n",
      "#61   t=0.2      dt=0.0064 max_dmdt=2.3\n",
      "#62   t=0.206    dt=0.0064 max_dmdt=2.28\n",
      "#63   t=0.213    dt=0.0064 max_dmdt=2.25\n",
      "#64   t=0.219    dt=0.0064 max_dmdt=2.22\n",
      "#65   t=0.226    dt=0.0064 max_dmdt=2.19\n",
      "#66   t=0.232    dt=0.0064 max_dmdt=2.16\n",
      "#67   t=0.238    dt=0.0064 max_dmdt=2.12\n",
      "#68   t=0.245    dt=0.0064 max_dmdt=2.08\n",
      "#69   t=0.251    dt=0.0064 max_dmdt=2.04\n",
      "#70   t=0.258    dt=0.0064 max_dmdt=2\n",
      "#71   t=0.264    dt=0.0064 max_dmdt=1.95\n",
      "#72   t=0.27     dt=0.0064 max_dmdt=1.91\n",
      "#73   t=0.277    dt=0.0064 max_dmdt=1.86\n",
      "#74   t=0.283    dt=0.0064 max_dmdt=1.81\n",
      "#75   t=0.29     dt=0.0064 max_dmdt=1.77\n",
      "#76   t=0.296    dt=0.0064 max_dmdt=1.72\n",
      "#77   t=0.302    dt=0.0064 max_dmdt=1.67\n",
      "#78   t=0.309    dt=0.0064 max_dmdt=1.62\n",
      "#79   t=0.315    dt=0.0064 max_dmdt=1.6\n",
      "#80   t=0.322    dt=0.0064 max_dmdt=1.59\n",
      "#81   t=0.328    dt=0.0064 max_dmdt=1.58\n",
      "#82   t=0.334    dt=0.0064 max_dmdt=1.57\n",
      "#83   t=0.341    dt=0.0064 max_dmdt=1.55\n",
      "#84   t=0.347    dt=0.0064 max_dmdt=1.53\n",
      "#85   t=0.354    dt=0.0064 max_dmdt=1.52\n",
      "#86   t=0.36     dt=0.0064 max_dmdt=1.5\n",
      "#87   t=0.366    dt=0.0064 max_dmdt=1.47\n",
      "#88   t=0.376    dt=0.00964 max_dmdt=1.45\n",
      "#89   t=0.386    dt=0.00964 max_dmdt=1.41\n",
      "#90   t=0.395    dt=0.00964 max_dmdt=1.37\n",
      "#91   t=0.405    dt=0.00964 max_dmdt=1.34\n",
      "#92   t=0.415    dt=0.00964 max_dmdt=1.3\n",
      "#93   t=0.424    dt=0.00964 max_dmdt=1.26\n",
      "#94   t=0.434    dt=0.00964 max_dmdt=1.22\n",
      "#95   t=0.443    dt=0.00964 max_dmdt=1.18\n",
      "#96   t=0.453    dt=0.00964 max_dmdt=1.14\n",
      "#97   t=0.463    dt=0.00964 max_dmdt=1.11\n",
      "#98   t=0.472    dt=0.00964 max_dmdt=1.07\n",
      "#99   t=0.482    dt=0.00964 max_dmdt=1.03\n",
      "#100  t=0.492    dt=0.00964 max_dmdt=0.997\n",
      "#101  t=0.501    dt=0.00964 max_dmdt=0.963\n",
      "#102  t=0.511    dt=0.00964 max_dmdt=0.93\n",
      "#103  t=0.521    dt=0.00964 max_dmdt=0.907\n",
      "#104  t=0.53     dt=0.00964 max_dmdt=0.89\n",
      "#105  t=0.54     dt=0.00964 max_dmdt=0.874\n",
      "#106  t=0.549    dt=0.00964 max_dmdt=0.857\n",
      "#107  t=0.559    dt=0.00964 max_dmdt=0.84\n",
      "#108  t=0.569    dt=0.00964 max_dmdt=0.823\n",
      "#109  t=0.578    dt=0.00964 max_dmdt=0.807\n",
      "#110  t=0.588    dt=0.00964 max_dmdt=0.791\n",
      "#111  t=0.598    dt=0.00964 max_dmdt=0.775\n",
      "#112  t=0.607    dt=0.00964 max_dmdt=0.759\n",
      "#113  t=0.617    dt=0.00964 max_dmdt=0.744\n",
      "#114  t=0.627    dt=0.00964 max_dmdt=0.728\n",
      "#115  t=0.636    dt=0.00964 max_dmdt=0.713\n",
      "#116  t=0.651    dt=0.0145 max_dmdt=0.695\n",
      "#117  t=0.665    dt=0.0145 max_dmdt=0.674\n",
      "#118  t=0.68     dt=0.0145 max_dmdt=0.653\n",
      "#119  t=0.694    dt=0.0145 max_dmdt=0.633\n",
      "#120  t=0.708    dt=0.0145 max_dmdt=0.614\n",
      "#121  t=0.723    dt=0.0145 max_dmdt=0.595\n",
      "#122  t=0.737    dt=0.0145 max_dmdt=0.577\n",
      "#123  t=0.752    dt=0.0145 max_dmdt=0.56\n",
      "#124  t=0.766    dt=0.0145 max_dmdt=0.543\n",
      "#125  t=0.781    dt=0.0145 max_dmdt=0.527\n",
      "#126  t=0.795    dt=0.0145 max_dmdt=0.512\n",
      "#127  t=0.81     dt=0.0145 max_dmdt=0.502\n",
      "#128  t=0.824    dt=0.0145 max_dmdt=0.495\n",
      "#129  t=0.839    dt=0.0145 max_dmdt=0.489\n",
      "#130  t=0.853    dt=0.0145 max_dmdt=0.482\n",
      "#131  t=0.867    dt=0.0145 max_dmdt=0.475\n",
      "#132  t=0.882    dt=0.0145 max_dmdt=0.469\n",
      "#133  t=0.896    dt=0.0145 max_dmdt=0.462\n",
      "#134  t=0.911    dt=0.0145 max_dmdt=0.456\n",
      "#135  t=0.925    dt=0.0145 max_dmdt=0.449\n",
      "#136  t=0.94     dt=0.0145 max_dmdt=0.443\n",
      "#137  t=0.954    dt=0.0145 max_dmdt=0.436\n",
      "#138  t=0.969    dt=0.0145 max_dmdt=0.43\n",
      "#139  t=0.983    dt=0.0145 max_dmdt=0.424\n",
      "#140  t=1.01     dt=0.0219 max_dmdt=0.416\n",
      "#141  t=1.03     dt=0.0219 max_dmdt=0.407\n",
      "#142  t=1.05     dt=0.0219 max_dmdt=0.398\n",
      "#143  t=1.07     dt=0.0219 max_dmdt=0.389\n",
      "#144  t=1.09     dt=0.0219 max_dmdt=0.381\n",
      "#145  t=1.11     dt=0.0219 max_dmdt=0.373\n",
      "#146  t=1.14     dt=0.0219 max_dmdt=0.365\n",
      "#147  t=1.16     dt=0.0219 max_dmdt=0.357\n",
      "#148  t=1.18     dt=0.0219 max_dmdt=0.35\n",
      "#149  t=1.2      dt=0.0219 max_dmdt=0.342\n",
      "#150  t=1.22     dt=0.0219 max_dmdt=0.335\n",
      "#151  t=1.25     dt=0.0219 max_dmdt=0.329\n",
      "#152  t=1.27     dt=0.0219 max_dmdt=0.322\n",
      "#153  t=1.29     dt=0.0219 max_dmdt=0.315\n",
      "#154  t=1.31     dt=0.0219 max_dmdt=0.309\n",
      "#155  t=1.33     dt=0.0219 max_dmdt=0.303\n",
      "#156  t=1.36     dt=0.0219 max_dmdt=0.297\n",
      "#157  t=1.38     dt=0.0219 max_dmdt=0.292\n",
      "#158  t=1.4      dt=0.0219 max_dmdt=0.286\n",
      "#159  t=1.42     dt=0.0219 max_dmdt=0.281\n",
      "#160  t=1.44     dt=0.0219 max_dmdt=0.276\n",
      "#161  t=1.46     dt=0.0219 max_dmdt=0.271\n",
      "#162  t=1.49     dt=0.0219 max_dmdt=0.266\n",
      "#163  t=1.51     dt=0.0219 max_dmdt=0.261\n",
      "#164  t=1.54     dt=0.0331 max_dmdt=0.256\n",
      "#165  t=1.57     dt=0.0331 max_dmdt=0.249\n",
      "#166  t=1.61     dt=0.0331 max_dmdt=0.245\n",
      "#167  t=1.64     dt=0.0331 max_dmdt=0.242\n",
      "#168  t=1.67     dt=0.0331 max_dmdt=0.239\n",
      "#169  t=1.71     dt=0.0331 max_dmdt=0.237\n",
      "#170  t=1.74     dt=0.0331 max_dmdt=0.234\n",
      "#171  t=1.77     dt=0.0331 max_dmdt=0.232\n",
      "#172  t=1.81     dt=0.0331 max_dmdt=0.23\n",
      "#173  t=1.84     dt=0.0331 max_dmdt=0.227\n",
      "#174  t=1.87     dt=0.0331 max_dmdt=0.226\n",
      "#175  t=1.91     dt=0.0331 max_dmdt=0.224\n",
      "#176  t=1.94     dt=0.0331 max_dmdt=0.222\n",
      "#177  t=1.97     dt=0.0331 max_dmdt=0.22\n",
      "#178  t=2.01     dt=0.0331 max_dmdt=0.219\n",
      "#179  t=2.04     dt=0.0331 max_dmdt=0.217\n",
      "#180  t=2.07     dt=0.0331 max_dmdt=0.216\n",
      "#181  t=2.1      dt=0.0331 max_dmdt=0.214\n",
      "#182  t=2.14     dt=0.0331 max_dmdt=0.213\n",
      "#183  t=2.17     dt=0.0331 max_dmdt=0.212\n",
      "#184  t=2.2      dt=0.0331 max_dmdt=0.211\n",
      "#185  t=2.25     dt=0.0502 max_dmdt=0.209\n",
      "#186  t=2.3      dt=0.0502 max_dmdt=0.208\n",
      "#187  t=2.35     dt=0.0502 max_dmdt=0.207\n",
      "#188  t=2.4      dt=0.0502 max_dmdt=0.205\n",
      "#189  t=2.45     dt=0.0502 max_dmdt=0.204\n",
      "#190  t=2.5      dt=0.0502 max_dmdt=0.203\n",
      "#191  t=2.56     dt=0.0502 max_dmdt=0.202\n",
      "#192  t=2.61     dt=0.0502 max_dmdt=0.201\n",
      "#193  t=2.66     dt=0.0502 max_dmdt=0.2\n",
      "#194  t=2.71     dt=0.0502 max_dmdt=0.199\n",
      "#195  t=2.76     dt=0.0502 max_dmdt=0.198\n",
      "#196  t=2.81     dt=0.0502 max_dmdt=0.197\n",
      "#197  t=2.86     dt=0.0502 max_dmdt=0.197\n",
      "#198  t=2.91     dt=0.0502 max_dmdt=0.196\n",
      "#199  t=2.96     dt=0.0502 max_dmdt=0.195\n",
      "#200  t=3.01     dt=0.0502 max_dmdt=0.195\n",
      "#201  t=3.06     dt=0.0502 max_dmdt=0.194\n",
      "#202  t=3.11     dt=0.0502 max_dmdt=0.193\n",
      "#203  t=3.16     dt=0.0502 max_dmdt=0.193\n",
      "#204  t=3.21     dt=0.0502 max_dmdt=0.192\n",
      "#205  t=3.26     dt=0.0502 max_dmdt=0.192\n",
      "#206  t=3.31     dt=0.0502 max_dmdt=0.191\n",
      "#207  t=3.36     dt=0.0502 max_dmdt=0.19\n",
      "#208  t=3.41     dt=0.0502 max_dmdt=0.19\n",
      "#209  t=3.46     dt=0.0502 max_dmdt=0.189\n",
      "#210  t=3.51     dt=0.0502 max_dmdt=0.189\n",
      "#211  t=3.56     dt=0.0502 max_dmdt=0.188\n",
      "#212  t=3.63     dt=0.0763 max_dmdt=0.188\n",
      "#213  t=3.71     dt=0.0763 max_dmdt=0.187\n",
      "#214  t=3.79     dt=0.0763 max_dmdt=0.186\n",
      "#215  t=3.86     dt=0.0763 max_dmdt=0.185\n",
      "#216  t=3.94     dt=0.0763 max_dmdt=0.184\n",
      "#217  t=4.02     dt=0.0763 max_dmdt=0.183\n",
      "#218  t=4.09     dt=0.0763 max_dmdt=0.182\n",
      "#219  t=4.17     dt=0.0763 max_dmdt=0.181\n",
      "#220  t=4.24     dt=0.0763 max_dmdt=0.18\n",
      "#221  t=4.32     dt=0.0763 max_dmdt=0.179\n",
      "#222  t=4.4      dt=0.0763 max_dmdt=0.178\n",
      "#223  t=4.47     dt=0.0763 max_dmdt=0.177\n",
      "#224  t=4.55     dt=0.0763 max_dmdt=0.176\n",
      "#225  t=4.63     dt=0.0763 max_dmdt=0.175\n",
      "#226  t=4.7      dt=0.0763 max_dmdt=0.173\n",
      "#227  t=4.78     dt=0.0763 max_dmdt=0.172\n",
      "#228  t=4.86     dt=0.0763 max_dmdt=0.171\n",
      "#229  t=4.93     dt=0.0763 max_dmdt=0.169\n",
      "#230  t=5.01     dt=0.0763 max_dmdt=0.168\n",
      "#231  t=5.08     dt=0.0763 max_dmdt=0.166\n",
      "#232  t=5.16     dt=0.0763 max_dmdt=0.165\n",
      "#233  t=5.24     dt=0.0763 max_dmdt=0.163\n",
      "#234  t=5.31     dt=0.0763 max_dmdt=0.163\n",
      "#235  t=5.39     dt=0.0763 max_dmdt=0.163\n",
      "#236  t=5.47     dt=0.0763 max_dmdt=0.163\n",
      "#237  t=5.54     dt=0.0763 max_dmdt=0.162\n",
      "#238  t=5.66     dt=0.115 max_dmdt=0.162\n",
      "#239  t=5.77     dt=0.115 max_dmdt=0.161\n",
      "#240  t=5.89     dt=0.115 max_dmdt=0.16\n",
      "#241  t=6        dt=0.115 max_dmdt=0.159\n",
      "#242  t=6.12     dt=0.115 max_dmdt=0.158\n",
      "#243  t=6.23     dt=0.115 max_dmdt=0.157\n",
      "#244  t=6.35     dt=0.115 max_dmdt=0.156\n",
      "#245  t=6.46     dt=0.115 max_dmdt=0.155\n",
      "#246  t=6.58     dt=0.115 max_dmdt=0.153\n",
      "#247  t=6.69     dt=0.115 max_dmdt=0.152\n",
      "#248  t=6.81     dt=0.115 max_dmdt=0.15\n",
      "#249  t=6.92     dt=0.115 max_dmdt=0.148\n",
      "#250  t=7.04     dt=0.115 max_dmdt=0.146\n",
      "#251  t=7.15     dt=0.115 max_dmdt=0.144\n",
      "#252  t=7.27     dt=0.115 max_dmdt=0.142\n",
      "#253  t=7.38     dt=0.115 max_dmdt=0.14\n",
      "#254  t=7.5      dt=0.115 max_dmdt=0.138\n",
      "#255  t=7.61     dt=0.115 max_dmdt=0.136\n"
     ]
    },
    {
     "name": "stdout",
     "output_type": "stream",
     "text": [
      "#256  t=7.73     dt=0.115 max_dmdt=0.133\n",
      "#257  t=7.84     dt=0.115 max_dmdt=0.131\n",
      "#258  t=7.96     dt=0.115 max_dmdt=0.129\n",
      "#259  t=8.07     dt=0.115 max_dmdt=0.126\n",
      "#260  t=8.19     dt=0.115 max_dmdt=0.124\n",
      "#261  t=8.3      dt=0.115 max_dmdt=0.121\n",
      "#262  t=8.42     dt=0.115 max_dmdt=0.12\n",
      "#263  t=8.53     dt=0.115 max_dmdt=0.118\n",
      "#264  t=8.65     dt=0.115 max_dmdt=0.117\n",
      "#265  t=8.76     dt=0.115 max_dmdt=0.116\n",
      "#266  t=8.88     dt=0.115 max_dmdt=0.114\n",
      "#267  t=8.99     dt=0.115 max_dmdt=0.113\n",
      "#268  t=9.11     dt=0.115 max_dmdt=0.111\n",
      "#269  t=9.22     dt=0.115 max_dmdt=0.109\n",
      "#270  t=9.34     dt=0.115 max_dmdt=0.108\n",
      "#271  t=9.45     dt=0.115 max_dmdt=0.106\n",
      "#272  t=9.57     dt=0.115 max_dmdt=0.104\n",
      "#273  t=9.68     dt=0.115 max_dmdt=0.102\n",
      "#274  t=9.8      dt=0.115 max_dmdt=0.101\n",
      "#275  t=9.91     dt=0.115 max_dmdt=0.0988\n",
      "#276  t=10       dt=0.115 max_dmdt=0.0969\n",
      "#277  t=10.1     dt=0.115 max_dmdt=0.095\n",
      "#278  t=10.3     dt=0.115 max_dmdt=0.0931\n",
      "#279  t=10.4     dt=0.115 max_dmdt=0.0912\n",
      "#280  t=10.5     dt=0.115 max_dmdt=0.0893\n",
      "#281  t=10.6     dt=0.115 max_dmdt=0.0874\n",
      "#282  t=10.7     dt=0.115 max_dmdt=0.0855\n",
      "#283  t=10.9     dt=0.179 max_dmdt=0.083\n",
      "#284  t=11.1     dt=0.179 max_dmdt=0.0801\n",
      "#285  t=11.3     dt=0.179 max_dmdt=0.0771\n",
      "#286  t=11.4     dt=0.179 max_dmdt=0.0742\n",
      "#287  t=11.6     dt=0.179 max_dmdt=0.0714\n",
      "#288  t=11.8     dt=0.179 max_dmdt=0.0685\n",
      "#289  t=12       dt=0.179 max_dmdt=0.0658\n",
      "#290  t=12.2     dt=0.179 max_dmdt=0.0631\n",
      "#291  t=12.3     dt=0.179 max_dmdt=0.0605\n",
      "#292  t=12.5     dt=0.179 max_dmdt=0.0579\n",
      "#293  t=12.7     dt=0.179 max_dmdt=0.0554\n",
      "#294  t=12.9     dt=0.179 max_dmdt=0.053\n",
      "#295  t=13       dt=0.179 max_dmdt=0.0506\n",
      "#296  t=13.2     dt=0.179 max_dmdt=0.0484\n",
      "#297  t=13.4     dt=0.179 max_dmdt=0.0462\n",
      "#298  t=13.6     dt=0.179 max_dmdt=0.0441\n",
      "#299  t=13.8     dt=0.179 max_dmdt=0.042\n",
      "#300  t=13.9     dt=0.179 max_dmdt=0.0401\n",
      "#301  t=14.1     dt=0.179 max_dmdt=0.0382\n",
      "#302  t=14.3     dt=0.179 max_dmdt=0.0364\n",
      "#303  t=14.5     dt=0.179 max_dmdt=0.0347\n",
      "#304  t=14.7     dt=0.179 max_dmdt=0.033\n",
      "#305  t=14.8     dt=0.179 max_dmdt=0.0314\n",
      "#306  t=15       dt=0.179 max_dmdt=0.0299\n",
      "#307  t=15.2     dt=0.179 max_dmdt=0.0285\n",
      "#308  t=15.4     dt=0.179 max_dmdt=0.0272\n",
      "#309  t=15.6     dt=0.179 max_dmdt=0.026\n",
      "#310  t=15.7     dt=0.179 max_dmdt=0.0248\n",
      "#311  t=15.9     dt=0.179 max_dmdt=0.0237\n",
      "#312  t=16.1     dt=0.179 max_dmdt=0.0226\n",
      "#313  t=16.3     dt=0.179 max_dmdt=0.0215\n",
      "#314  t=16.5     dt=0.179 max_dmdt=0.0205\n",
      "#315  t=16.6     dt=0.179 max_dmdt=0.0195\n",
      "#316  t=16.8     dt=0.179 max_dmdt=0.0186\n",
      "#317  t=17       dt=0.179 max_dmdt=0.0177\n",
      "#318  t=17.2     dt=0.179 max_dmdt=0.0168\n",
      "#319  t=17.3     dt=0.179 max_dmdt=0.016\n",
      "#320  t=17.5     dt=0.179 max_dmdt=0.0152\n",
      "#321  t=17.7     dt=0.179 max_dmdt=0.0145\n",
      "#322  t=18       dt=0.282 max_dmdt=0.0136\n",
      "#323  t=18.3     dt=0.282 max_dmdt=0.0125\n",
      "#324  t=18.6     dt=0.282 max_dmdt=0.0116\n",
      "#325  t=18.8     dt=0.282 max_dmdt=0.0107\n",
      "#326  t=19.1     dt=0.282 max_dmdt=0.00983\n"
     ]
    }
   ],
   "source": [
    "sim.driver.do_precession = False\n",
    "sim.relax()"
   ]
  },
  {
   "cell_type": "code",
   "execution_count": 12,
   "metadata": {},
   "outputs": [
    {
     "data": {
      "text/plain": [
       "[<matplotlib.lines.Line2D at 0x7f1f06e841d0>]"
      ]
     },
     "execution_count": 12,
     "metadata": {},
     "output_type": "execute_result"
    },
    {
     "data": {
      "image/png": "[encoded data removed]",
      "text/plain": [
       "<matplotlib.figure.Figure at 0x7f1f07739240>"
      ]
     },
     "metadata": {},
     "output_type": "display_data"
    }
   ],
   "source": [
    "plt.plot(sim.mesh.coordinates[:, 0], sim.spin.reshape(-1, 3)[:, 0], 'o-')"
   ]
  },
  {
   "cell_type": "markdown",
   "metadata": {},
   "source": [
    "# 2D skyrmion"
   ]
  },
  {
   "cell_type": "code",
   "execution_count": 13,
   "metadata": {},
   "outputs": [],
   "source": [
    "nx, ny, nz = 15, 15, 1\n",
    "dx, dy, dz = a, a, az\n",
    "\n",
    "mesh = fidimag.common.CuboidMesh(nx=nx, ny=ny, nz=nz, dx=dx, dy=dy, dz=dz, \n",
    "                                periodicity=(False, False, False),\n",
    "                                unit_length=1e-9)\n",
    "xs = mesh.coordinates[:, 0]\n",
    "ys = mesh.coordinates[:, 1]\n",
    "centre_x = (xs.max() + xs.min()) * 0.5 + xs.min() "
   ]
  },
  {
   "cell_type": "code",
   "execution_count": 14,
   "metadata": {},
   "outputs": [],
   "source": [
    "sim = fidimag.atomistic.Sim(mesh, name='one_dim', driver='llg')\n",
    "       \n",
    "# Define the magnetisation\n",
    "def material(r):\n",
    "    x, y = r[0] - centre_x, r[1] - centre_x\n",
    "    \n",
    "    if x ** 2 + y ** 2 < (np.max(xs) - centre_x) ** 2:\n",
    "        return mus\n",
    "    else:\n",
    "        return 0\n",
    "    \n",
    "# sim.set_mu_s(material)\n",
    "sim.set_mu_s(mus)\n",
    "\n",
    "# Add the magnetic interactions\n",
    "sim.add(fidimag.atomistic.Exchange(J))\n",
    "sim.add(fidimag.atomistic.Anisotropy(Ku, axis=(0, 0, 1)))\n",
    "sim.add(fidimag.atomistic.DMI(D, dmi_type='interfacial'))\n",
    "sim.add(fidimag.atomistic.Zeeman((0, 0, B)))\n",
    "    \n",
    "def m_initial(r):\n",
    "    x, y = r[0] - centre_x, r[1] - centre_x\n",
    "    if x ** 2 + y ** 2 < 1 ** 2:\n",
    "        return (0, 0, -1)\n",
    "    else:\n",
    "        return (0, 0, 1)\n",
    "\n",
    "# sim.set_m(m_initial)\n",
    "sim.set_m((0, 0, 1))"
   ]
  },
  {
   "cell_type": "code",
   "execution_count": 15,
   "metadata": {},
   "outputs": [
    {
     "data": {
      "text/plain": [
       "<matplotlib.collections.PathCollection at 0x7f1f06e41b70>"
      ]
     },
     "execution_count": 15,
     "metadata": {},
     "output_type": "execute_result"
    },
    {
     "data": {
      "image/png": "[encoded data removed]",
      "text/plain": [
       "<matplotlib.figure.Figure at 0x7f1f06ead710>"
      ]
     },
     "metadata": {},
     "output_type": "display_data"
    }
   ],
   "source": [
    "plt.figure(figsize=(5, 5))\n",
    "plt.scatter(xs, ys, c=sim.spin.reshape(-1, 3)[:, 2], s=20, marker='s')"
   ]
  },
  {
   "cell_type": "code",
   "execution_count": 16,
   "metadata": {},
   "outputs": [],
   "source": [
    "%%capture\n",
    "sim.driver.do_precession = False\n",
    "sim.driver.relax()"
   ]
  },
  {
   "cell_type": "code",
   "execution_count": 17,
   "metadata": {},
   "outputs": [
    {
     "data": {
      "text/plain": [
       "<matplotlib.quiver.Quiver at 0x7f1f06e478d0>"
      ]
     },
     "execution_count": 17,
     "metadata": {},
     "output_type": "execute_result"
    },
    {
     "data": {
      "image/png": "[encoded data removed]",
      "text/plain": [
       "<matplotlib.figure.Figure at 0x7f1f06e47ba8>"
      ]
     },
     "metadata": {},
     "output_type": "display_data"
    }
   ],
   "source": [
    "plt.figure(figsize=(6, 6))\n",
    "plt.scatter(xs, ys, c=sim.spin.reshape(-1, 3)[:, 2], vmin=-1, vmax=1)\n",
    "\n",
    "plt.quiver(xs, ys, sim.spin.reshape(-1, 3)[:, 0], sim.spin.reshape(-1, 3)[:, 1])"
   ]
  },
  {
   "cell_type": "markdown",
   "metadata": {},
   "source": [
    "## Steepest Descent"
   ]
  },
  {
   "cell_type": "code",
   "execution_count": 18,
   "metadata": {},
   "outputs": [],
   "source": [
    "nx, ny, nz = 20, 20, 1\n",
    "dx, dy, dz = a, a, az\n",
    "\n",
    "mesh = fidimag.common.CuboidMesh(nx=nx, ny=ny, nz=nz, dx=dx, dy=dy, dz=dz, \n",
    "                                periodicity=(False, False, False),\n",
    "                                unit_length=1e-9)\n",
    "xs = mesh.coordinates[:, 0]\n",
    "ys = mesh.coordinates[:, 1]\n",
    "centre_x = (xs.max() + xs.min()) * 0.5 + xs.min() "
   ]
  },
  {
   "cell_type": "code",
   "execution_count": 19,
   "metadata": {},
   "outputs": [],
   "source": [
    "sim = fidimag.atomistic.Sim(mesh, name='two_dim', driver='steepest_descent')\n",
    "       \n",
    "# Define the magnetisation\n",
    "def material(r):\n",
    "    x, y = r[0] - centre_x, r[1] - centre_x\n",
    "    \n",
    "    if x ** 2 + y ** 2 < (np.max(xs) - centre_x) ** 2:\n",
    "        return mus\n",
    "    else:\n",
    "        return 0\n",
    "    \n",
    "# sim.set_mu_s(material)\n",
    "sim.set_mu_s(mus)\n",
    "\n",
    "# Add the magnetic interactions\n",
    "sim.add(fidimag.atomistic.Exchange(J))\n",
    "sim.add(fidimag.atomistic.Anisotropy(Ku, axis=(0, 0, 1)))\n",
    "sim.add(fidimag.atomistic.DMI(D, dmi_type='interfacial'))\n",
    "sim.add(fidimag.atomistic.Zeeman((0, 0, B)))\n",
    "       \n",
    "def m_initial(r):\n",
    "    x, y = r[0] - centre_x, r[1] - centre_x\n",
    "    if x ** 2 + y ** 2 < 1:\n",
    "        return (0, 0, -1)\n",
    "    else:\n",
    "        return (0, 0, 1)\n",
    "\n",
    "# sim.set_m(m_initial)\n",
    "sim.set_m((0, 0, 1))"
   ]
  },
  {
   "cell_type": "code",
   "execution_count": 20,
   "metadata": {},
   "outputs": [
    {
     "data": {
      "text/plain": [
       "<matplotlib.collections.PathCollection at 0x7f1f06d8c630>"
      ]
     },
     "execution_count": 20,
     "metadata": {},
     "output_type": "execute_result"
    },
    {
     "data": {
      "image/png": "[encoded data removed]",
      "text/plain": [
       "<matplotlib.figure.Figure at 0x7f1f06dc5978>"
      ]
     },
     "metadata": {},
     "output_type": "display_data"
    }
   ],
   "source": [
    "plt.figure(figsize=(2, 2))\n",
    "plt.scatter(xs, ys, c=sim.spin.reshape(-1, 3)[:, 2])"
   ]
  },
  {
   "cell_type": "code",
   "execution_count": 21,
   "metadata": {
    "scrolled": true
   },
   "outputs": [
    {
     "name": "stdout",
     "output_type": "stream",
     "text": [
      "#max_tau=0.0001   max_dm=0          counter=0\n",
      "#max_tau=0.0001   max_dm=0          counter=1\n"
     ]
    }
   ],
   "source": [
    "\n",
    "sim.driver.minimize(max_count=20000, stopping_dm=1e-11)"
   ]
  },
  {
   "cell_type": "code",
   "execution_count": 22,
   "metadata": {},
   "outputs": [
    {
     "data": {
      "text/plain": [
       "<matplotlib.quiver.Quiver at 0x7f1f06d92400>"
      ]
     },
     "execution_count": 22,
     "metadata": {},
     "output_type": "execute_result"
    },
    {
     "name": "stderr",
     "output_type": "stream",
     "text": [
      "/home/david/anaconda3/lib/python3.5/site-packages/matplotlib/quiver.py:666: RuntimeWarning: divide by zero encountered in double_scalars\n",
      "  length = a * (widthu_per_lenu / (self.scale * self.width))\n",
      "/home/david/anaconda3/lib/python3.5/site-packages/matplotlib/quiver.py:666: RuntimeWarning: invalid value encountered in multiply\n",
      "  length = a * (widthu_per_lenu / (self.scale * self.width))\n",
      "/home/david/anaconda3/lib/python3.5/site-packages/matplotlib/quiver.py:719: RuntimeWarning: invalid value encountered in less\n",
      "  short = np.repeat(length < minsh, 8, axis=1)\n",
      "/home/david/anaconda3/lib/python3.5/site-packages/matplotlib/quiver.py:733: RuntimeWarning: invalid value encountered in less\n",
      "  tooshort = length < self.minlength\n"
     ]
    },
    {
     "data": {
      "image/png": "[encoded data removed]",
      "text/plain": [
       "<matplotlib.figure.Figure at 0x7f1f06d8c9b0>"
      ]
     },
     "metadata": {},
     "output_type": "display_data"
    }
   ],
   "source": [
    "plt.figure(figsize=(6, 6))\n",
    "plt.scatter(xs, ys, c=sim.spin.reshape(-1, 3)[:, 2], vmin=-1, vmax=1)\n",
    "\n",
    "plt.quiver(xs, ys, sim.spin.reshape(-1, 3)[:, 0], sim.spin.reshape(-1, 3)[:, 1])"
   ]
  },
  {
   "cell_type": "code",
   "execution_count": 23,
   "metadata": {},
   "outputs": [
    {
     "data": {
      "text/plain": [
       "20"
      ]
     },
     "execution_count": 23,
     "metadata": {},
     "output_type": "execute_result"
    }
   ],
   "source": [
    "sim.mesh.nx"
   ]
  },
  {
   "cell_type": "code",
   "execution_count": 24,
   "metadata": {},
   "outputs": [
    {
     "name": "stdout",
     "output_type": "stream",
     "text": [
      "[0. 0. 1.]\n",
      "[0. 0. 1.]\n",
      "[0. 0. 1.]\n",
      "[0. 0. 1.]\n",
      "[0. 0. 1.]\n",
      "[0. 0. 1.]\n",
      "[0. 0. 1.]\n",
      "[0. 0. 1.]\n",
      "[0. 0. 1.]\n",
      "[0. 0. 1.]\n",
      "[0. 0. 1.]\n",
      "[0. 0. 1.]\n",
      "[0. 0. 1.]\n",
      "[0. 0. 1.]\n",
      "[0. 0. 1.]\n",
      "[0. 0. 1.]\n",
      "[0. 0. 1.]\n",
      "[0. 0. 1.]\n",
      "[0. 0. 1.]\n",
      "[0. 0. 1.]\n",
      "[0. 0. 1.]\n",
      "[0. 0. 1.]\n",
      "[0. 0. 1.]\n",
      "[0. 0. 1.]\n",
      "[0. 0. 1.]\n",
      "[0. 0. 1.]\n",
      "[0. 0. 1.]\n",
      "[0. 0. 1.]\n",
      "[0. 0. 1.]\n",
      "[0. 0. 1.]\n",
      "[0. 0. 1.]\n",
      "[0. 0. 1.]\n",
      "[0. 0. 1.]\n",
      "[0. 0. 1.]\n",
      "[0. 0. 1.]\n",
      "[0. 0. 1.]\n",
      "[0. 0. 1.]\n",
      "[0. 0. 1.]\n",
      "[0. 0. 1.]\n",
      "[0. 0. 1.]\n",
      "[0. 0. 1.]\n",
      "[0. 0. 1.]\n",
      "[0. 0. 1.]\n",
      "[0. 0. 1.]\n",
      "[0. 0. 1.]\n",
      "[0. 0. 1.]\n",
      "[0. 0. 1.]\n",
      "[0. 0. 1.]\n",
      "[0. 0. 1.]\n",
      "[0. 0. 1.]\n",
      "[0. 0. 1.]\n",
      "[0. 0. 1.]\n",
      "[0. 0. 1.]\n",
      "[0. 0. 1.]\n",
      "[0. 0. 1.]\n",
      "[0. 0. 1.]\n",
      "[0. 0. 1.]\n",
      "[0. 0. 1.]\n",
      "[0. 0. 1.]\n",
      "[0. 0. 1.]\n",
      "[0. 0. 1.]\n",
      "[0. 0. 1.]\n",
      "[0. 0. 1.]\n",
      "[0. 0. 1.]\n",
      "[0. 0. 1.]\n",
      "[0. 0. 1.]\n",
      "[0. 0. 1.]\n",
      "[0. 0. 1.]\n",
      "[0. 0. 1.]\n",
      "[0. 0. 1.]\n",
      "[0. 0. 1.]\n",
      "[0. 0. 1.]\n",
      "[0. 0. 1.]\n",
      "[0. 0. 1.]\n",
      "[0. 0. 1.]\n",
      "[0. 0. 1.]\n",
      "[0. 0. 1.]\n",
      "[0. 0. 1.]\n",
      "[0. 0. 1.]\n",
      "[0. 0. 1.]\n",
      "[0. 0. 1.]\n",
      "[0. 0. 1.]\n",
      "[0. 0. 1.]\n",
      "[0. 0. 1.]\n",
      "[0. 0. 1.]\n",
      "[0. 0. 1.]\n",
      "[0. 0. 1.]\n",
      "[0. 0. 1.]\n",
      "[0. 0. 1.]\n",
      "[0. 0. 1.]\n",
      "[0. 0. 1.]\n",
      "[0. 0. 1.]\n",
      "[0. 0. 1.]\n",
      "[0. 0. 1.]\n",
      "[0. 0. 1.]\n",
      "[0. 0. 1.]\n",
      "[0. 0. 1.]\n",
      "[0. 0. 1.]\n",
      "[0. 0. 1.]\n",
      "[0. 0. 1.]\n",
      "[0. 0. 1.]\n",
      "[0. 0. 1.]\n",
      "[0. 0. 1.]\n",
      "[0. 0. 1.]\n",
      "[0. 0. 1.]\n",
      "[0. 0. 1.]\n",
      "[0. 0. 1.]\n",
      "[0. 0. 1.]\n",
      "[0. 0. 1.]\n",
      "[0. 0. 1.]\n",
      "[0. 0. 1.]\n",
      "[0. 0. 1.]\n",
      "[0. 0. 1.]\n",
      "[0. 0. 1.]\n",
      "[0. 0. 1.]\n",
      "[0. 0. 1.]\n",
      "[0. 0. 1.]\n",
      "[0. 0. 1.]\n",
      "[0. 0. 1.]\n",
      "[0. 0. 1.]\n",
      "[0. 0. 1.]\n",
      "[0. 0. 1.]\n",
      "[0. 0. 1.]\n",
      "[0. 0. 1.]\n",
      "[0. 0. 1.]\n",
      "[0. 0. 1.]\n",
      "[0. 0. 1.]\n",
      "[0. 0. 1.]\n",
      "[0. 0. 1.]\n",
      "[0. 0. 1.]\n",
      "[0. 0. 1.]\n",
      "[0. 0. 1.]\n",
      "[0. 0. 1.]\n",
      "[0. 0. 1.]\n",
      "[0. 0. 1.]\n",
      "[0. 0. 1.]\n",
      "[0. 0. 1.]\n",
      "[0. 0. 1.]\n",
      "[0. 0. 1.]\n",
      "[0. 0. 1.]\n",
      "[0. 0. 1.]\n",
      "[0. 0. 1.]\n",
      "[0. 0. 1.]\n",
      "[0. 0. 1.]\n",
      "[0. 0. 1.]\n",
      "[0. 0. 1.]\n",
      "[0. 0. 1.]\n",
      "[0. 0. 1.]\n",
      "[0. 0. 1.]\n",
      "[0. 0. 1.]\n",
      "[0. 0. 1.]\n",
      "[0. 0. 1.]\n",
      "[0. 0. 1.]\n",
      "[0. 0. 1.]\n",
      "[0. 0. 1.]\n",
      "[0. 0. 1.]\n",
      "[0. 0. 1.]\n",
      "[0. 0. 1.]\n",
      "[0. 0. 1.]\n",
      "[0. 0. 1.]\n",
      "[0. 0. 1.]\n",
      "[0. 0. 1.]\n",
      "[0. 0. 1.]\n",
      "[0. 0. 1.]\n",
      "[0. 0. 1.]\n",
      "[0. 0. 1.]\n",
      "[0. 0. 1.]\n",
      "[0. 0. 1.]\n",
      "[0. 0. 1.]\n",
      "[0. 0. 1.]\n",
      "[0. 0. 1.]\n",
      "[0. 0. 1.]\n",
      "[0. 0. 1.]\n",
      "[0. 0. 1.]\n",
      "[0. 0. 1.]\n",
      "[0. 0. 1.]\n",
      "[0. 0. 1.]\n",
      "[0. 0. 1.]\n",
      "[0. 0. 1.]\n",
      "[0. 0. 1.]\n",
      "[0. 0. 1.]\n",
      "[0. 0. 1.]\n",
      "[0. 0. 1.]\n",
      "[0. 0. 1.]\n",
      "[0. 0. 1.]\n",
      "[0. 0. 1.]\n",
      "[0. 0. 1.]\n",
      "[0. 0. 1.]\n",
      "[0. 0. 1.]\n",
      "[0. 0. 1.]\n",
      "[0. 0. 1.]\n",
      "[0. 0. 1.]\n",
      "[0. 0. 1.]\n",
      "[0. 0. 1.]\n",
      "[0. 0. 1.]\n",
      "[0. 0. 1.]\n",
      "[0. 0. 1.]\n",
      "[0. 0. 1.]\n",
      "[0. 0. 1.]\n",
      "[0. 0. 1.]\n",
      "[0. 0. 1.]\n",
      "[0. 0. 1.]\n",
      "[0. 0. 1.]\n",
      "[0. 0. 1.]\n",
      "[0. 0. 1.]\n",
      "[0. 0. 1.]\n",
      "[0. 0. 1.]\n",
      "[0. 0. 1.]\n",
      "[0. 0. 1.]\n",
      "[0. 0. 1.]\n",
      "[0. 0. 1.]\n",
      "[0. 0. 1.]\n",
      "[0. 0. 1.]\n",
      "[0. 0. 1.]\n",
      "[0. 0. 1.]\n",
      "[0. 0. 1.]\n",
      "[0. 0. 1.]\n",
      "[0. 0. 1.]\n",
      "[0. 0. 1.]\n",
      "[0. 0. 1.]\n",
      "[0. 0. 1.]\n",
      "[0. 0. 1.]\n",
      "[0. 0. 1.]\n",
      "[0. 0. 1.]\n",
      "[0. 0. 1.]\n",
      "[0. 0. 1.]\n",
      "[0. 0. 1.]\n",
      "[0. 0. 1.]\n",
      "[0. 0. 1.]\n",
      "[0. 0. 1.]\n",
      "[0. 0. 1.]\n",
      "[0. 0. 1.]\n",
      "[0. 0. 1.]\n",
      "[0. 0. 1.]\n",
      "[0. 0. 1.]\n",
      "[0. 0. 1.]\n",
      "[0. 0. 1.]\n",
      "[0. 0. 1.]\n",
      "[0. 0. 1.]\n",
      "[0. 0. 1.]\n",
      "[0. 0. 1.]\n",
      "[0. 0. 1.]\n",
      "[0. 0. 1.]\n",
      "[0. 0. 1.]\n",
      "[0. 0. 1.]\n",
      "[0. 0. 1.]\n",
      "[0. 0. 1.]\n",
      "[0. 0. 1.]\n",
      "[0. 0. 1.]\n",
      "[0. 0. 1.]\n",
      "[0. 0. 1.]\n",
      "[0. 0. 1.]\n",
      "[0. 0. 1.]\n",
      "[0. 0. 1.]\n",
      "[0. 0. 1.]\n",
      "[0. 0. 1.]\n",
      "[0. 0. 1.]\n",
      "[0. 0. 1.]\n",
      "[0. 0. 1.]\n",
      "[0. 0. 1.]\n",
      "[0. 0. 1.]\n",
      "[0. 0. 1.]\n",
      "[0. 0. 1.]\n",
      "[0. 0. 1.]\n",
      "[0. 0. 1.]\n",
      "[0. 0. 1.]\n",
      "[0. 0. 1.]\n",
      "[0. 0. 1.]\n",
      "[0. 0. 1.]\n",
      "[0. 0. 1.]\n",
      "[0. 0. 1.]\n",
      "[0. 0. 1.]\n",
      "[0. 0. 1.]\n",
      "[0. 0. 1.]\n",
      "[0. 0. 1.]\n",
      "[0. 0. 1.]\n",
      "[0. 0. 1.]\n",
      "[0. 0. 1.]\n",
      "[0. 0. 1.]\n",
      "[0. 0. 1.]\n",
      "[0. 0. 1.]\n",
      "[0. 0. 1.]\n",
      "[0. 0. 1.]\n",
      "[0. 0. 1.]\n",
      "[0. 0. 1.]\n",
      "[0. 0. 1.]\n",
      "[0. 0. 1.]\n",
      "[0. 0. 1.]\n",
      "[0. 0. 1.]\n",
      "[0. 0. 1.]\n",
      "[0. 0. 1.]\n",
      "[0. 0. 1.]\n",
      "[0. 0. 1.]\n",
      "[0. 0. 1.]\n",
      "[0. 0. 1.]\n",
      "[0. 0. 1.]\n",
      "[0. 0. 1.]\n",
      "[0. 0. 1.]\n",
      "[0. 0. 1.]\n",
      "[0. 0. 1.]\n",
      "[0. 0. 1.]\n",
      "[0. 0. 1.]\n",
      "[0. 0. 1.]\n",
      "[0. 0. 1.]\n",
      "[0. 0. 1.]\n",
      "[0. 0. 1.]\n",
      "[0. 0. 1.]\n",
      "[0. 0. 1.]\n",
      "[0. 0. 1.]\n",
      "[0. 0. 1.]\n",
      "[0. 0. 1.]\n",
      "[0. 0. 1.]\n",
      "[0. 0. 1.]\n",
      "[0. 0. 1.]\n",
      "[0. 0. 1.]\n",
      "[0. 0. 1.]\n",
      "[0. 0. 1.]\n",
      "[0. 0. 1.]\n",
      "[0. 0. 1.]\n",
      "[0. 0. 1.]\n",
      "[0. 0. 1.]\n",
      "[0. 0. 1.]\n",
      "[0. 0. 1.]\n",
      "[0. 0. 1.]\n",
      "[0. 0. 1.]\n",
      "[0. 0. 1.]\n",
      "[0. 0. 1.]\n",
      "[0. 0. 1.]\n",
      "[0. 0. 1.]\n",
      "[0. 0. 1.]\n",
      "[0. 0. 1.]\n",
      "[0. 0. 1.]\n",
      "[0. 0. 1.]\n",
      "[0. 0. 1.]\n",
      "[0. 0. 1.]\n",
      "[0. 0. 1.]\n",
      "[0. 0. 1.]\n",
      "[0. 0. 1.]\n",
      "[0. 0. 1.]\n",
      "[0. 0. 1.]\n",
      "[0. 0. 1.]\n",
      "[0. 0. 1.]\n",
      "[0. 0. 1.]\n",
      "[0. 0. 1.]\n",
      "[0. 0. 1.]\n",
      "[0. 0. 1.]\n",
      "[0. 0. 1.]\n",
      "[0. 0. 1.]\n",
      "[0. 0. 1.]\n",
      "[0. 0. 1.]\n",
      "[0. 0. 1.]\n",
      "[0. 0. 1.]\n",
      "[0. 0. 1.]\n",
      "[0. 0. 1.]\n",
      "[0. 0. 1.]\n",
      "[0. 0. 1.]\n",
      "[0. 0. 1.]\n",
      "[0. 0. 1.]\n",
      "[0. 0. 1.]\n",
      "[0. 0. 1.]\n",
      "[0. 0. 1.]\n",
      "[0. 0. 1.]\n",
      "[0. 0. 1.]\n",
      "[0. 0. 1.]\n",
      "[0. 0. 1.]\n",
      "[0. 0. 1.]\n",
      "[0. 0. 1.]\n",
      "[0. 0. 1.]\n",
      "[0. 0. 1.]\n",
      "[0. 0. 1.]\n",
      "[0. 0. 1.]\n",
      "[0. 0. 1.]\n",
      "[0. 0. 1.]\n",
      "[0. 0. 1.]\n",
      "[0. 0. 1.]\n",
      "[0. 0. 1.]\n",
      "[0. 0. 1.]\n",
      "[0. 0. 1.]\n",
      "[0. 0. 1.]\n",
      "[0. 0. 1.]\n",
      "[0. 0. 1.]\n",
      "[0. 0. 1.]\n",
      "[0. 0. 1.]\n",
      "[0. 0. 1.]\n",
      "[0. 0. 1.]\n",
      "[0. 0. 1.]\n",
      "[0. 0. 1.]\n",
      "[0. 0. 1.]\n",
      "[0. 0. 1.]\n",
      "[0. 0. 1.]\n",
      "[0. 0. 1.]\n",
      "[0. 0. 1.]\n",
      "[0. 0. 1.]\n",
      "[0. 0. 1.]\n",
      "[0. 0. 1.]\n",
      "[0. 0. 1.]\n",
      "[0. 0. 1.]\n",
      "[0. 0. 1.]\n",
      "[0. 0. 1.]\n",
      "[0. 0. 1.]\n"
     ]
    }
   ],
   "source": [
    "for i in sim.spin.reshape(-1, 3):\n",
    "    print(i)"
   ]
  },
  {
   "cell_type": "code",
   "execution_count": null,
   "metadata": {},
   "outputs": [],
   "source": []
  }
 ],
 "metadata": {
  "anaconda-cloud": {},
  "hide_input": false,
  "kernelspec": {
   "display_name": "Python [default]",
   "language": "python",
   "name": "python3"
  },
  "language_info": {
   "codemirror_mode": {
    "name": "ipython",
    "version": 3
   },
   "file_extension": ".py",
   "mimetype": "text/x-python",
   "name": "python",
   "nbconvert_exporter": "python",
   "pygments_lexer": "ipython3",
   "version": "3.5.2"
  }
 },
 "nbformat": 4,
 "nbformat_minor": 2
}
