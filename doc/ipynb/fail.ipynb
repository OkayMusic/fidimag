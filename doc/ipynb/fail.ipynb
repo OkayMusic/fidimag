{
 "metadata": {
  "name": "",
  "signature": "sha256:d7f29b99aa203c039e09e25422b68d3e80ffa7c360822b8bfcf78ebf6570d78f"
 },
 "nbformat": 3,
 "nbformat_minor": 0,
 "worksheets": [
  {
   "cells": [
    {
     "cell_type": "markdown",
     "metadata": {},
     "source": [
      "This notebook should fail the notebook testing."
     ]
    },
    {
     "cell_type": "code",
     "collapsed": false,
     "input": [
      "import time\n",
      "print(time.time())"
     ],
     "language": "python",
     "metadata": {},
     "outputs": [
      {
       "output_type": "stream",
       "stream": "stdout",
       "text": [
        "1424447524.19\n"
       ]
      }
     ],
     "prompt_number": 5
    },
    {
     "cell_type": "markdown",
     "metadata": {},
     "source": [
      "We can remove this notebook (and pass.ipynb) once we have automatic testing of the notebooks working.\n",
      "\n",
      "HF, 20 Feb 2015"
     ]
    }
   ],
   "metadata": {}
  }
 ]
}