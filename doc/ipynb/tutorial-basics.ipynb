{
 "cells": [
  {
   "cell_type": "markdown",
   "metadata": {},
   "source": [
    "#Fidimag: A Basic Simulation"
   ]
  },
  {
   "cell_type": "markdown",
   "metadata": {},
   "source": [
    "TODO:\n",
    "- [x] imports\n",
    "- [x] Meshes (+ parameters)\n",
    "- [] Material parameters\n",
    "- [] simulation object\n",
    "- [] adding energies\n",
    "- [] setting magnetisation\n",
    "- [] saving data\n",
    "- [] relax simulation\n",
    "- [] viewing data"
   ]
  },
  {
   "cell_type": "markdown",
   "metadata": {},
   "source": [
    "This notebook is a guide to the essential commands required to write and run basic Fidimag simulations.\n",
    "\n",
    "The first step is to import Fidimag. Numpy and Matplotlib are also imported for later use, to demonstrate visualising simulations results."
   ]
  },
  {
   "cell_type": "code",
   "execution_count": 1,
   "metadata": {
    "collapsed": false
   },
   "outputs": [],
   "source": [
    "import fidimag\n",
    "from fidimag.common import CuboidMesh\n",
    "import numpy as np\n",
    "import matplotlib.pyplot as plt"
   ]
  },
  {
   "cell_type": "markdown",
   "metadata": {},
   "source": [
    "## Meshes\n",
    "\n",
    "                           Mesh                                              Cell\n",
    "                                                                        +------------+\n",
    "          +-----+-----+-----+-----+-----+-----+                        /            /|\n",
    "         /     /     /     /     /     /     /|                       /            / |\n",
    "        +-----+-----+-----+-----+-----+-----+ |                      /            /  | dz\n",
    "       /     /     /     /     /     /     /| +                     +------------+   |               \n",
    "      +-----+-----+-----+-----+-----+-----+ |/          ----->      |            |   |\n",
    "     /     /     /     /     /     /     /| +                       |            |   + \n",
    "    +-----+-----+-----+-----+-----+-----+ |/                        |            |  /\n",
    "    |     |     |     |     |     |     | +                         |            | /  dy\n",
    "    |     |     |     |     |     |     |/                          |            |/\n",
    "    +-----+-----+-----+-----+-----+-----+                           +------------+\n",
    "                                                                         dx\n",
    "\n",
    "We need to create a mesh. Meshes are created by specifying the dimensions of the finite difference cells, (dx, dy, dz) and the number of cells in each direction, (nx, ny, nz).\n",
    "\n",
    "The cell dimensions are defined by dimensionless units. The dimensions of the mesh/cells are integrated by the parameter, unit_length.\n",
    "\n",
    "In the the following example, the (cuboid) mesh consists of 6x3x1 cells (nx=6, ny=3 and nz=1), with each cell comprising of the dimensions, dx=3, dy=3 and dz=4. The unit_length = 1e-9 (nm).\n",
    "\n",
    "Thus, the total size of the mesh is 18nm x 9nm x 4nm.\n"
   ]
  },
  {
   "cell_type": "code",
   "execution_count": 2,
   "metadata": {
    "collapsed": true
   },
   "outputs": [],
   "source": [
    "nx, ny, nz = 6, 3, 1\n",
    "dx, dy, dz = 3, 3, 4 #nm\n",
    "unit_length = 1e-9 # define the unit length of the dx units to nm.\n",
    "\n",
    "mesh = CuboidMesh(nx=nx, ny=ny, nz=nz, dx=dx, dy=dy, dz=dz, unit_length=unit_length)"
   ]
  },
  {
   "cell_type": "code",
   "execution_count": 3,
   "metadata": {
    "collapsed": false
   },
   "outputs": [
    {
     "data": {
      "text/plain": [
       "6"
      ]
     },
     "execution_count": 3,
     "metadata": {},
     "output_type": "execute_result"
    }
   ],
   "source": [
    "nx"
   ]
  },
  {
   "cell_type": "code",
   "execution_count": null,
   "metadata": {
    "collapsed": true
   },
   "outputs": [],
   "source": []
  }
 ],
 "metadata": {
  "kernelspec": {
   "display_name": "Python 2",
   "language": "python",
   "name": "python2"
  },
  "language_info": {
   "codemirror_mode": {
    "name": "ipython",
    "version": 2
   },
   "file_extension": ".py",
   "mimetype": "text/x-python",
   "name": "python",
   "nbconvert_exporter": "python",
   "pygments_lexer": "ipython2",
   "version": "2.7.6"
  }
 },
 "nbformat": 4,
 "nbformat_minor": 0
}
