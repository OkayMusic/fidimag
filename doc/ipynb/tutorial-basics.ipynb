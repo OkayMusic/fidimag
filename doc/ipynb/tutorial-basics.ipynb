{
 "cells": [
  {
   "cell_type": "markdown",
   "metadata": {},
   "source": [
    "# Fidimag: A Basic Simulation"
   ]
  },
  {
   "cell_type": "markdown",
   "metadata": {},
   "source": [
    "TODO:\n",
    "- [x] imports\n",
    "- [x] Meshes (+ parameters)\n",
    "- [x] Material parameters\n",
    "- [x] simulation object\n",
    "- [x] adding energies\n",
    "- [x] setting magnetisation\n",
    "- [x] saving data\n",
    "- [x] relax simulation\n",
    "- [x] structure of m array\n",
    "- [ ] define parameters to give \n",
    "- [ ] write and integrate helper functions for restructuring m\n",
    "- [ ] perhaps redefine attribute names in DataReader in fileio.py...!\n",
    "- [ ] viewing data"
   ]
  },
  {
   "cell_type": "markdown",
   "metadata": {},
   "source": [
    "This notebook is a guide to the essential commands required to write and run basic Fidimag simulations.\n",
    "\n",
    "The first step is to import Fidimag. Numpy and Matplotlib are also imported for later use, to demonstrate visualising simulations results."
   ]
  },
  {
   "cell_type": "code",
   "execution_count": 2,
   "metadata": {
    "collapsed": false
   },
   "outputs": [],
   "source": [
    "import fidimag\n",
    "import numpy as np\n",
    "import matplotlib.pyplot as plt\n",
    "\n",
    "%matplotlib inline"
   ]
  },
  {
   "cell_type": "markdown",
   "metadata": {},
   "source": [
    "## Meshes\n",
    "\n",
    "                           Mesh                                              Cell\n",
    "                                                                        +------------+\n",
    "          +-----+-----+-----+-----+-----+-----+                        /            /|\n",
    "         /     /     /     /     /     /     /|                       /            / |\n",
    "        +-----+-----+-----+-----+-----+-----+ |                      /            /  | dz\n",
    "       /     /     /     /     /     /     /| +                     +------------+   |\n",
    "      +-----+-----+-----+-----+-----+-----+ |/          ----->      |            |   |\n",
    "     /     /     /     /     /     /     /| +                       |            |   + \n",
    "    +-----+-----+-----+-----+-----+-----+ |/                        |            |  /\n",
    "    |     |     |     |     |     |     | +                         |            | /  dy\n",
    "    |     |     |     |     |     |     |/                          |            |/\n",
    "    +-----+-----+-----+-----+-----+-----+                           +------------+\n",
    "                                                                         dx\n",
    "\n",
    "We need to create a mesh. Meshes are created by specifying the dimensions of the finite difference cells, (dx, dy, dz) and the number of cells in each direction, (nx, ny, nz).\n",
    "\n",
    "The cell dimensions are defined by dimensionless units. The dimensions of the mesh/cells are integrated by the parameter, unit_length.\n",
    "\n",
    "In the the following example, the (cuboid) mesh consists of 50x20x1 cells (nx=50, ny=20 and nz=1), with each cell comprising of the dimensions, dx=3, dy=3 and dz=4. The unit_length = 1e-9 (nm).\n",
    "\n",
    "Thus, the total size of the mesh is 150nm x 60nm x 4nm.\n",
    "\n",
    "***Required Fidimag Function***\n",
    "\n",
    "`fidimag.common.CuboidMesh(nx, ny, nz, dx, dy, dz, unit_length)`\n",
    "\n",
    "\n"
   ]
  },
  {
   "cell_type": "code",
   "execution_count": 3,
   "metadata": {
    "collapsed": true
   },
   "outputs": [],
   "source": [
    "nx, ny, nz = 50, 20, 1\n",
    "dx, dy, dz = 3, 3, 4 #nm\n",
    "unit_length = 1e-9 # define the unit length of the dx units to nm.\n",
    "\n",
    "mesh = fidimag.common.CuboidMesh(nx=nx, ny=ny, nz=nz, dx=dx, dy=dy, dz=dz, unit_length=unit_length)"
   ]
  },
  {
   "cell_type": "markdown",
   "metadata": {
    "collapsed": false
   },
   "source": [
    "## Creating the Simulation Object\n",
    "\n",
    "Now we can create the simulation object.\n",
    "\n",
    "A mesh is required to create a simulation object. We also give the simulation object a name. Is this case, we call the simulation object, 'sim_tutorial_basics'\n",
    "\n",
    "***Required Fidimag Function***\n",
    "\n",
    "`fidimag.micro.Sim(mesh, name)`"
   ]
  },
  {
   "cell_type": "code",
   "execution_count": 4,
   "metadata": {
    "collapsed": false
   },
   "outputs": [],
   "source": [
    "sim_name = 'sim_tutorial_basics'\n",
    "\n",
    "sim = fidimag.micro.Sim(mesh, name=sim_name)"
   ]
  },
  {
   "cell_type": "markdown",
   "metadata": {},
   "source": [
    "## Adding Interactions (and specifying material parameters)\n",
    "\n",
    "The material specific interactions (and parameters) can now be added to the simulation object. Let's first specify the material specific parameters:"
   ]
  },
  {
   "cell_type": "code",
   "execution_count": 5,
   "metadata": {
    "collapsed": true
   },
   "outputs": [],
   "source": [
    "Ms = 1e6  # magnetisation saturation (A/m)\n",
    "A = 1e-12  # exchange energy constant (J/m)\n",
    "D = 1e-3  # DMI constant (J/m**2)\n",
    "Ku = 1e5  # uniaxial anisotropy constant (J/m**3)\n",
    "Kaxis = (0, 0, 1)  # uniaxial anisotropy axis\n",
    "H = (0, 0, 1e3)  # external magnetic field (A/m)"
   ]
  },
  {
   "cell_type": "markdown",
   "metadata": {},
   "source": [
    "The simulation object, sim created earlier has a property for the saturation magnetisation, Ms which is set in the following way:"
   ]
  },
  {
   "cell_type": "code",
   "execution_count": 6,
   "metadata": {
    "collapsed": true
   },
   "outputs": [],
   "source": [
    "sim.Ms = 8.0e5"
   ]
  },
  {
   "cell_type": "markdown",
   "metadata": {},
   "source": [
    "Now let's add the following interactions:\n",
    "\n",
    "- Exchange\n",
    "- Uniaxial Anisotropy\n",
    "- Dyzaloshinskii-Moriya (bulk)\n",
    "- Zeeman Field\n",
    "- Demagnetisation\n",
    "\n",
    "***Required Fidimag Functions***\n",
    "\n",
    "to a simulation object named, sim:\n",
    "\n",
    "- sim.add(interaction)\n",
    "\n",
    "where the interactions are:\n",
    "\n",
    "| interaction         | function                                             |\n",
    "|---------------------|------------------------------------------------------|\n",
    "| exchange            | `fidimag.micro.UniformExchange(A)`                   |\n",
    "| uniaxial anisotropy | `fidimag.micro.UniaxialAnisotropy(Ku, axis)`         |\n",
    "| DMI                 | `fidimag.micro.DMI(D)`                               |\n",
    "| Zeeman              | `fidimag.micro.Zeeman(H0)`                           |\n",
    "| Demag               | `fidimag.micro.Demag()`                              |"
   ]
  },
  {
   "cell_type": "code",
   "execution_count": 7,
   "metadata": {
    "collapsed": false
   },
   "outputs": [],
   "source": [
    "exchange = fidimag.micro.UniformExchange(A=A)\n",
    "sim.add(exchange)\n",
    "\n",
    "anis = fidimag.micro.UniaxialAnisotropy(Ku=Ku, axis=Kaxis)\n",
    "sim.add(anis)\n",
    "\n",
    "dmi = fidimag.micro.DMI(D=D)\n",
    "sim.add(dmi)\n",
    "\n",
    "zeeman = fidimag.micro.Zeeman(H0=H)\n",
    "sim.add(zeeman)\n",
    "\n",
    "demag = fidimag.micro.Demag()\n",
    "sim.add(demag)"
   ]
  },
  {
   "cell_type": "markdown",
   "metadata": {},
   "source": [
    "So, at this point the Hamiltonian is created. Now, we can set parameters in the LLG equation. The sim object has properties for the values of alpha and gamma which are set in the following way:\n"
   ]
  },
  {
   "cell_type": "code",
   "execution_count": 8,
   "metadata": {
    "collapsed": true
   },
   "outputs": [],
   "source": [
    "sim.alpha = 0.5\n",
    "sim.gamma = 2.211e5\n",
    "# sim.do_precession = True"
   ]
  },
  {
   "cell_type": "markdown",
   "metadata": {},
   "source": [
    "You can also specfiy whether the magnetisation spins precess or not. The sim object has a property, do_precession, which can be set to either True of False. In this example, let's have precession:"
   ]
  },
  {
   "cell_type": "code",
   "execution_count": 9,
   "metadata": {
    "collapsed": true
   },
   "outputs": [],
   "source": [
    "sim.do_precession = True"
   ]
  },
  {
   "cell_type": "markdown",
   "metadata": {},
   "source": [
    "When both Hamiltonian and LLG equations are set, we need to set the intial magnetisation before we relax the system. Let's set it to all point in the x-direction:"
   ]
  },
  {
   "cell_type": "code",
   "execution_count": 10,
   "metadata": {
    "collapsed": false
   },
   "outputs": [],
   "source": [
    "m_init = (1,0,0)\n",
    "sim.set_m(m_init)"
   ]
  },
  {
   "cell_type": "markdown",
   "metadata": {},
   "source": [
    "## Relaxing the Simulation\n",
    "\n",
    "The simulation object is now set up: we're now ready to relax the magnetisation.\n",
    "\n",
    "### Time Integrator Parameters\n",
    "\n",
    "In order to do so, we need to specify the value of dt for the time integration. By default this is set to dt=1e-11.\n",
    "\n",
    "We also need to tell the simulation when to stop, through the desired stoppping precision, stopping\\_dmdt. By default this is set to stopping\\_dmdt=0.01.\n",
    "\n",
    "The maximum number of steps, max_steps the time integrator take also needs to be specified. By default this is set to 1000.\n",
    "\n",
    "### Data Saving Parameters\n",
    "\n",
    "Within the relax function, when to save the magnetisation, *save\\_m\\_steps*, and vtk files of the magnetisation, *save\\_vtk\\_steps*, are also specified. By default they are set to save every 100 steps that the integrator takes. The final magnetisation is also saved. In this example we save the spatial magnetisation every 10 time steps.\n",
    "\n",
    "When the relax function is called, a text file containing simulation data (including time, energies and average magnetisation) is created with the name sim_name.txt.\n",
    "\n",
    "Sub-directories for the (spatial) magnetisation and vtk files are also created with the names, *sim\\_name\\_npys* and *sim\\_name\\_vtks* respectively, where the relevant data is subsequently saved. The names of these files are m\\_\\*.npy and m\\_\\*\\*\\*\\*\\*\\*\\*.vts respectively, where \\* is replaced with the time integrator step (with leading zeros for the vts (vtk) file).\n",
    "\n",
    "***Required Fidimag Function***\n",
    "\n",
    "`sim.relax(dt, stopping_dmdt, max_steps, save_m_steps, save_vtk_steps)`"
   ]
  },
  {
   "cell_type": "code",
   "execution_count": 11,
   "metadata": {
    "collapsed": false,
    "scrolled": true
   },
   "outputs": [
    {
     "name": "stderr",
     "output_type": "stream",
     "text": [
      "Scalars.__init__._get_lookup_table.warning:\n",
      "\tUsing lookup_table='default'\n"
     ]
    },
    {
     "name": "stdout",
     "output_type": "stream",
     "text": [
      "step=1, time=1e-11, max_dmdt=3.82e+03 ode_step=0\n",
      "step=2, time=2e-11, max_dmdt=3.4e+03 ode_step=3.97e-13\n",
      "step=3, time=3e-11, max_dmdt=2.5e+03 ode_step=3.97e-13\n",
      "step=4, time=4e-11, max_dmdt=1.9e+03 ode_step=3.97e-13\n",
      "step=5, time=5e-11, max_dmdt=1.74e+03 ode_step=5.97e-13\n",
      "step=6, time=6e-11, max_dmdt=1.42e+03 ode_step=5.97e-13\n",
      "step=7, time=7e-11, max_dmdt=1.67e+03 ode_step=5.97e-13\n",
      "step=8, time=8e-11, max_dmdt=2.19e+03 ode_step=8.96e-13\n",
      "step=9, time=9e-11, max_dmdt=3.03e+03 ode_step=8.96e-13\n",
      "step=10, time=1e-10, max_dmdt=3.49e+03 ode_step=6.64e-13\n",
      "step=11, time=1.1e-10, max_dmdt=3.29e+03 ode_step=6.64e-13\n",
      "step=12, time=1.2e-10, max_dmdt=3.07e+03 ode_step=4.92e-13\n",
      "step=13, time=1.3e-10, max_dmdt=2.85e+03 ode_step=4.92e-13\n",
      "step=14, time=1.4e-10, max_dmdt=2.37e+03 ode_step=4.92e-13\n",
      "step=15, time=1.5e-10, max_dmdt=2.2e+03 ode_step=7.41e-13\n",
      "step=16, time=1.6e-10, max_dmdt=2.41e+03 ode_step=7.41e-13\n",
      "step=17, time=1.7e-10, max_dmdt=2.46e+03 ode_step=7.41e-13\n",
      "step=18, time=1.8e-10, max_dmdt=2.81e+03 ode_step=7.41e-13\n",
      "step=19, time=1.9e-10, max_dmdt=2.37e+03 ode_step=7.41e-13\n",
      "step=20, time=2e-10, max_dmdt=2.29e+03 ode_step=7.41e-13\n",
      "step=21, time=2.1e-10, max_dmdt=3.03e+03 ode_step=7.41e-13\n",
      "step=22, time=2.2e-10, max_dmdt=2.35e+03 ode_step=7.41e-13\n",
      "step=23, time=2.3e-10, max_dmdt=1.98e+03 ode_step=7.41e-13\n",
      "step=24, time=2.4e-10, max_dmdt=2.1e+03 ode_step=7.41e-13\n",
      "step=25, time=2.5e-10, max_dmdt=2.52e+03 ode_step=7.41e-13\n",
      "step=26, time=2.6e-10, max_dmdt=3.16e+03 ode_step=7.41e-13\n",
      "step=27, time=2.7e-10, max_dmdt=2.69e+03 ode_step=7.41e-13\n",
      "step=28, time=2.8e-10, max_dmdt=2.1e+03 ode_step=7.41e-13\n",
      "step=29, time=2.9e-10, max_dmdt=2.01e+03 ode_step=7.41e-13\n",
      "step=30, time=3e-10, max_dmdt=2.19e+03 ode_step=7.41e-13\n",
      "step=31, time=3.1e-10, max_dmdt=2.11e+03 ode_step=7.41e-13\n",
      "step=32, time=3.2e-10, max_dmdt=1.93e+03 ode_step=7.41e-13\n",
      "step=33, time=3.3e-10, max_dmdt=1.93e+03 ode_step=7.41e-13\n",
      "step=34, time=3.4e-10, max_dmdt=1.69e+03 ode_step=7.41e-13\n",
      "step=35, time=3.5e-10, max_dmdt=1.86e+03 ode_step=7.41e-13\n",
      "step=36, time=3.6e-10, max_dmdt=1.66e+03 ode_step=7.41e-13\n",
      "step=37, time=3.7e-10, max_dmdt=1.52e+03 ode_step=7.41e-13\n",
      "step=38, time=3.8e-10, max_dmdt=1.88e+03 ode_step=7.41e-13\n",
      "step=39, time=3.9e-10, max_dmdt=1.79e+03 ode_step=7.41e-13\n",
      "step=40, time=4e-10, max_dmdt=1.91e+03 ode_step=7.41e-13\n",
      "step=41, time=4.1e-10, max_dmdt=2.08e+03 ode_step=7.41e-13\n",
      "step=42, time=4.2e-10, max_dmdt=1.5e+03 ode_step=7.41e-13\n",
      "step=43, time=4.3e-10, max_dmdt=1.39e+03 ode_step=7.41e-13\n",
      "step=44, time=4.4e-10, max_dmdt=1.62e+03 ode_step=7.41e-13\n",
      "step=45, time=4.5e-10, max_dmdt=2.5e+03 ode_step=7.41e-13\n",
      "step=46, time=4.6e-10, max_dmdt=3.53e+03 ode_step=7.41e-13\n",
      "step=47, time=4.7e-10, max_dmdt=2.77e+03 ode_step=5.44e-13\n",
      "step=48, time=4.8e-10, max_dmdt=1.41e+03 ode_step=5.44e-13\n",
      "step=49, time=4.9e-10, max_dmdt=1.34e+03 ode_step=5.44e-13\n",
      "step=50, time=5e-10, max_dmdt=1.38e+03 ode_step=5.44e-13\n",
      "step=51, time=5.1e-10, max_dmdt=1.23e+03 ode_step=8.38e-13\n",
      "step=52, time=5.2e-10, max_dmdt=1.75e+03 ode_step=8.38e-13\n",
      "step=53, time=5.3e-10, max_dmdt=1.61e+03 ode_step=8.38e-13\n",
      "step=54, time=5.4e-10, max_dmdt=1.03e+03 ode_step=8.38e-13\n",
      "step=55, time=5.5e-10, max_dmdt=1.06e+03 ode_step=8.38e-13\n",
      "step=56, time=5.6e-10, max_dmdt=1.1e+03 ode_step=8.38e-13\n",
      "step=57, time=5.7e-10, max_dmdt=1.17e+03 ode_step=8.38e-13\n",
      "step=58, time=5.8e-10, max_dmdt=1.09e+03 ode_step=8.38e-13\n",
      "step=59, time=5.9e-10, max_dmdt=962 ode_step=8.38e-13\n",
      "step=60, time=6e-10, max_dmdt=832 ode_step=8.38e-13\n",
      "step=61, time=6.1e-10, max_dmdt=879 ode_step=8.38e-13\n",
      "step=62, time=6.2e-10, max_dmdt=963 ode_step=8.38e-13\n",
      "step=63, time=6.3e-10, max_dmdt=989 ode_step=8.38e-13\n",
      "step=64, time=6.4e-10, max_dmdt=938 ode_step=8.38e-13\n",
      "step=65, time=6.5e-10, max_dmdt=809 ode_step=1.26e-12\n",
      "step=66, time=6.6e-10, max_dmdt=793 ode_step=1.26e-12\n",
      "step=67, time=6.7e-10, max_dmdt=833 ode_step=1.95e-12\n",
      "step=68, time=6.8e-10, max_dmdt=817 ode_step=1.95e-12\n",
      "step=69, time=6.9e-10, max_dmdt=751 ode_step=1.95e-12\n",
      "step=70, time=7e-10, max_dmdt=656 ode_step=1.95e-12\n",
      "step=71, time=7.1e-10, max_dmdt=603 ode_step=1.95e-12\n",
      "step=72, time=7.2e-10, max_dmdt=603 ode_step=1.95e-12\n",
      "step=73, time=7.3e-10, max_dmdt=584 ode_step=1.95e-12\n",
      "step=74, time=7.4e-10, max_dmdt=554 ode_step=1.95e-12\n",
      "step=75, time=7.5e-10, max_dmdt=539 ode_step=1.95e-12\n",
      "step=76, time=7.6e-10, max_dmdt=586 ode_step=1.95e-12\n",
      "step=77, time=7.7e-10, max_dmdt=644 ode_step=1.95e-12\n",
      "step=78, time=7.8e-10, max_dmdt=763 ode_step=1.95e-12\n",
      "step=79, time=7.9e-10, max_dmdt=943 ode_step=1.95e-12\n",
      "step=80, time=8e-10, max_dmdt=1.29e+03 ode_step=1.95e-12\n",
      "step=81, time=8.1e-10, max_dmdt=1.57e+03 ode_step=1.43e-12\n",
      "step=82, time=8.2e-10, max_dmdt=2.46e+03 ode_step=1.43e-12\n",
      "step=83, time=8.3e-10, max_dmdt=2.08e+03 ode_step=1.05e-12\n",
      "step=84, time=8.4e-10, max_dmdt=1.29e+03 ode_step=1.05e-12\n",
      "step=85, time=8.5e-10, max_dmdt=1.54e+03 ode_step=1.05e-12\n",
      "step=86, time=8.6e-10, max_dmdt=1.62e+03 ode_step=1.05e-12\n",
      "step=87, time=8.7e-10, max_dmdt=2.57e+03 ode_step=1.05e-12\n",
      "step=88, time=8.8e-10, max_dmdt=2.19e+03 ode_step=1.05e-12\n",
      "step=89, time=8.9e-10, max_dmdt=1.18e+03 ode_step=7.67e-13\n",
      "step=90, time=9e-10, max_dmdt=802 ode_step=7.67e-13\n",
      "step=91, time=9.1e-10, max_dmdt=718 ode_step=7.67e-13\n",
      "step=92, time=9.2e-10, max_dmdt=588 ode_step=7.67e-13\n",
      "step=93, time=9.3e-10, max_dmdt=589 ode_step=7.67e-13\n",
      "step=94, time=9.4e-10, max_dmdt=730 ode_step=7.67e-13\n",
      "step=95, time=9.5e-10, max_dmdt=886 ode_step=7.67e-13\n",
      "step=96, time=9.6e-10, max_dmdt=1.11e+03 ode_step=7.67e-13\n",
      "step=97, time=9.7e-10, max_dmdt=1.68e+03 ode_step=7.67e-13\n",
      "step=98, time=9.8e-10, max_dmdt=1.81e+03 ode_step=7.67e-13\n",
      "step=99, time=9.9e-10, max_dmdt=1.15e+03 ode_step=7.67e-13\n",
      "step=100, time=1e-09, max_dmdt=643 ode_step=7.67e-13\n",
      "step=101, time=1.01e-09, max_dmdt=784 ode_step=7.67e-13\n",
      "step=102, time=1.02e-09, max_dmdt=965 ode_step=7.67e-13\n",
      "step=103, time=1.03e-09, max_dmdt=1.15e+03 ode_step=7.67e-13\n",
      "step=104, time=1.04e-09, max_dmdt=1.68e+03 ode_step=7.67e-13\n",
      "step=105, time=1.05e-09, max_dmdt=1.74e+03 ode_step=7.67e-13\n",
      "step=106, time=1.06e-09, max_dmdt=1.11e+03 ode_step=7.67e-13\n",
      "step=107, time=1.07e-09, max_dmdt=729 ode_step=7.67e-13\n",
      "step=108, time=1.08e-09, max_dmdt=611 ode_step=7.67e-13\n"
     ]
    },
    {
     "name": "stderr",
     "output_type": "stream",
     "text": [
      "Scalars.__init__._get_lookup_table.warning:\n",
      "\tUsing lookup_table='default'\n"
     ]
    },
    {
     "name": "stdout",
     "output_type": "stream",
     "text": [
      "step=109, time=1.09e-09, max_dmdt=453 ode_step=7.67e-13\n",
      "step=110, time=1.1e-09, max_dmdt=372 ode_step=7.67e-13\n",
      "step=111, time=1.11e-09, max_dmdt=366 ode_step=7.67e-13\n",
      "step=112, time=1.12e-09, max_dmdt=371 ode_step=1.17e-12\n",
      "step=113, time=1.13e-09, max_dmdt=375 ode_step=1.17e-12\n",
      "step=114, time=1.14e-09, max_dmdt=341 ode_step=1.92e-12\n",
      "step=115, time=1.15e-09, max_dmdt=278 ode_step=1.92e-12\n",
      "step=116, time=1.16e-09, max_dmdt=209 ode_step=1.92e-12\n",
      "step=117, time=1.17e-09, max_dmdt=207 ode_step=1.92e-12\n",
      "step=118, time=1.18e-09, max_dmdt=194 ode_step=1.92e-12\n",
      "step=119, time=1.19e-09, max_dmdt=193 ode_step=2.9e-12\n",
      "step=120, time=1.2e-09, max_dmdt=195 ode_step=2.9e-12\n",
      "step=121, time=1.21e-09, max_dmdt=191 ode_step=2.9e-12\n",
      "step=122, time=1.22e-09, max_dmdt=182 ode_step=2.9e-12\n",
      "step=123, time=1.23e-09, max_dmdt=178 ode_step=2.9e-12\n",
      "step=124, time=1.24e-09, max_dmdt=184 ode_step=2.9e-12\n",
      "step=125, time=1.25e-09, max_dmdt=190 ode_step=2.9e-12\n",
      "step=126, time=1.26e-09, max_dmdt=196 ode_step=2.9e-12\n",
      "step=127, time=1.27e-09, max_dmdt=201 ode_step=2.9e-12\n",
      "step=128, time=1.28e-09, max_dmdt=207 ode_step=2.9e-12\n",
      "step=129, time=1.29e-09, max_dmdt=212 ode_step=2.9e-12\n",
      "step=130, time=1.3e-09, max_dmdt=217 ode_step=2.9e-12\n",
      "step=131, time=1.31e-09, max_dmdt=222 ode_step=2.9e-12\n",
      "step=132, time=1.32e-09, max_dmdt=226 ode_step=2.9e-12\n",
      "step=133, time=1.33e-09, max_dmdt=228 ode_step=2.9e-12\n",
      "step=134, time=1.34e-09, max_dmdt=241 ode_step=2.9e-12\n",
      "step=135, time=1.35e-09, max_dmdt=261 ode_step=2.9e-12\n",
      "step=136, time=1.36e-09, max_dmdt=279 ode_step=2.9e-12\n",
      "step=137, time=1.37e-09, max_dmdt=295 ode_step=2.9e-12\n",
      "step=138, time=1.38e-09, max_dmdt=309 ode_step=2.9e-12\n",
      "step=139, time=1.39e-09, max_dmdt=321 ode_step=2.9e-12\n",
      "step=140, time=1.4e-09, max_dmdt=332 ode_step=2.9e-12\n",
      "step=141, time=1.41e-09, max_dmdt=343 ode_step=2.9e-12\n",
      "step=142, time=1.42e-09, max_dmdt=358 ode_step=2.9e-12\n",
      "step=143, time=1.43e-09, max_dmdt=379 ode_step=2.9e-12\n",
      "step=144, time=1.44e-09, max_dmdt=411 ode_step=2.9e-12\n",
      "step=145, time=1.45e-09, max_dmdt=462 ode_step=2.9e-12\n",
      "step=146, time=1.46e-09, max_dmdt=539 ode_step=2.9e-12\n",
      "step=147, time=1.47e-09, max_dmdt=645 ode_step=2.9e-12\n",
      "step=148, time=1.48e-09, max_dmdt=935 ode_step=2.06e-12\n",
      "step=149, time=1.49e-09, max_dmdt=1.48e+03 ode_step=1.52e-12\n",
      "step=150, time=1.5e-09, max_dmdt=1.9e+03 ode_step=1.52e-12\n",
      "step=151, time=1.51e-09, max_dmdt=1.58e+03 ode_step=1.11e-12\n",
      "step=152, time=1.52e-09, max_dmdt=830 ode_step=1.11e-12\n",
      "step=153, time=1.53e-09, max_dmdt=621 ode_step=1.11e-12\n",
      "step=154, time=1.54e-09, max_dmdt=542 ode_step=1.11e-12\n",
      "step=155, time=1.55e-09, max_dmdt=466 ode_step=1.11e-12\n",
      "step=156, time=1.56e-09, max_dmdt=401 ode_step=1.11e-12\n",
      "step=157, time=1.57e-09, max_dmdt=441 ode_step=1.73e-12\n",
      "step=158, time=1.58e-09, max_dmdt=583 ode_step=1.73e-12\n",
      "step=159, time=1.59e-09, max_dmdt=793 ode_step=1.73e-12\n",
      "step=160, time=1.6e-09, max_dmdt=1.26e+03 ode_step=1.73e-12\n",
      "step=161, time=1.61e-09, max_dmdt=1.73e+03 ode_step=1.73e-12\n",
      "step=162, time=1.62e-09, max_dmdt=1.62e+03 ode_step=1.24e-12\n",
      "step=163, time=1.63e-09, max_dmdt=1.27e+03 ode_step=1.24e-12\n",
      "step=164, time=1.64e-09, max_dmdt=1.08e+03 ode_step=1.24e-12\n",
      "step=165, time=1.65e-09, max_dmdt=591 ode_step=1.24e-12\n",
      "step=166, time=1.66e-09, max_dmdt=546 ode_step=1.24e-12\n",
      "step=167, time=1.67e-09, max_dmdt=472 ode_step=1.24e-12\n",
      "step=168, time=1.68e-09, max_dmdt=404 ode_step=1.24e-12\n",
      "step=169, time=1.69e-09, max_dmdt=384 ode_step=1.24e-12\n",
      "step=170, time=1.7e-09, max_dmdt=374 ode_step=1.9e-12\n",
      "step=171, time=1.71e-09, max_dmdt=408 ode_step=1.9e-12\n",
      "step=172, time=1.72e-09, max_dmdt=416 ode_step=1.9e-12\n",
      "step=173, time=1.73e-09, max_dmdt=405 ode_step=2.86e-12\n",
      "step=174, time=1.74e-09, max_dmdt=380 ode_step=2.86e-12\n",
      "step=175, time=1.75e-09, max_dmdt=346 ode_step=2.86e-12\n",
      "step=176, time=1.76e-09, max_dmdt=307 ode_step=2.86e-12\n",
      "step=177, time=1.77e-09, max_dmdt=266 ode_step=2.86e-12\n",
      "step=178, time=1.78e-09, max_dmdt=226 ode_step=2.86e-12\n",
      "step=179, time=1.79e-09, max_dmdt=189 ode_step=2.86e-12\n",
      "step=180, time=1.8e-09, max_dmdt=156 ode_step=2.86e-12\n",
      "step=181, time=1.81e-09, max_dmdt=128 ode_step=4.42e-12\n",
      "step=182, time=1.82e-09, max_dmdt=110 ode_step=4.42e-12\n",
      "step=183, time=1.83e-09, max_dmdt=101 ode_step=4.42e-12\n",
      "step=184, time=1.84e-09, max_dmdt=91.9 ode_step=4.42e-12\n",
      "step=185, time=1.85e-09, max_dmdt=82.1 ode_step=4.42e-12\n",
      "step=186, time=1.86e-09, max_dmdt=72.6 ode_step=4.42e-12\n",
      "step=187, time=1.87e-09, max_dmdt=67.9 ode_step=4.42e-12\n",
      "step=188, time=1.88e-09, max_dmdt=66.1 ode_step=4.42e-12\n",
      "step=189, time=1.89e-09, max_dmdt=64.4 ode_step=4.42e-12\n",
      "step=190, time=1.9e-09, max_dmdt=62.7 ode_step=4.42e-12\n",
      "step=191, time=1.91e-09, max_dmdt=61 ode_step=4.42e-12\n",
      "step=192, time=1.92e-09, max_dmdt=59.3 ode_step=4.42e-12\n",
      "step=193, time=1.93e-09, max_dmdt=57.7 ode_step=4.42e-12\n",
      "step=194, time=1.94e-09, max_dmdt=56 ode_step=4.42e-12\n",
      "step=195, time=1.95e-09, max_dmdt=54.3 ode_step=4.42e-12\n",
      "step=196, time=1.96e-09, max_dmdt=52.6 ode_step=4.42e-12\n",
      "step=197, time=1.97e-09, max_dmdt=51 ode_step=4.42e-12\n",
      "step=198, time=1.98e-09, max_dmdt=49.3 ode_step=3.23e-12\n",
      "step=199, time=1.99e-09, max_dmdt=47.7 ode_step=3.23e-12\n",
      "step=200, time=2e-09, max_dmdt=47 ode_step=3.23e-12\n",
      "step=201, time=2.01e-09, max_dmdt=46.5 ode_step=3.23e-12\n"
     ]
    },
    {
     "name": "stderr",
     "output_type": "stream",
     "text": [
      "Scalars.__init__._get_lookup_table.warning:\n",
      "\tUsing lookup_table='default'\n",
      "Scalars.__init__._get_lookup_table.warning:\n",
      "\tUsing lookup_table='default'\n"
     ]
    }
   ],
   "source": [
    "# PYTEST_VALIDATE_IGNORE_OUTPUT\n",
    "sim.relax(dt=1e-11, stopping_dmdt=0.01, max_steps=200, save_m_steps=10, save_vtk_steps=100)"
   ]
  },
  {
   "cell_type": "markdown",
   "metadata": {},
   "source": [
    "# Inspecting the data\n",
    "\n",
    "Now that a simulation has run, it is useful to inspect and visualise the generated data.\n",
    "\n",
    "## Structure of (spatial) m array\n",
    "\n",
    "The spatial magnetisation array from the last relaxation step can be accessed via `sim.spin`. We also saved the spatial magnetisation for all time steps into the folder *sim\\_basics\\_tutorial\\_npys*.\n",
    "\n",
    "The structure of `sim.spin` (and the also the data saved in the *.npy* files) is an 1-dimensional. For a mesh with *n* cells, the components are ordered as follows:\n",
    "\n",
    "`[mx(0), my(0), mz(0), mx(1), my(1), mz(1), ..., mx(n), my(n), mz(n)]`\n",
    "\n",
    "where the numbering of the mesh cell adheres to the following convention:\n",
    "\n",
    "        +-------+\n",
    "     .'       .:|\n",
    "    +-------+:::|\n",
    "    |       |:::|\n",
    "    |   30  |::;+-------+-------+-------+-------+-------+\n",
    "    |       |;'       .:| 11  .'  12  .'  13  .'  14  .:|\n",
    "    +-------+-------+:::|---+-------+-------+-------+:::|\n",
    "    |       |       |:::| .'   7  .'   8  .'   9  .:|:::|\n",
    "    |   15  |  16   |::;+-------+-------+-------+:::|:::+\n",
    "    |       |       |;'       .'      .'      .:|:::|::'\n",
    "    +-------+-------+-------+-------+-------+:::|:::+'\n",
    "    |       |       |       |       |       |:::|:.'\n",
    "    |   0   |   1   |   2   |   3   |   4   |:::+'\n",
    "    |       |       |       |       |       |::'\n",
    "    +-------+-------+-------+-------+-------+'\n",
    "\n",
    "\n",
    "## Plotting m (spatial)\n",
    "There are built-in functions in fidimag to restructure this 1-D array, which is useful for creating spatial plots of the magnetisation. These are\n",
    "\n",
    "***Required Fidimag Function***\n",
    "\n",
    "`TODO: write built-in helper functions!!`\n",
    "\n"
   ]
  },
  {
   "cell_type": "code",
   "execution_count": 12,
   "metadata": {
    "collapsed": true
   },
   "outputs": [],
   "source": [
    "m = sim.spin\n",
    "m.shape = (-1,3)\n",
    "mz = m[:,2]"
   ]
  },
  {
   "cell_type": "code",
   "execution_count": 13,
   "metadata": {
    "collapsed": false
   },
   "outputs": [],
   "source": [
    "#the data shape should be (ny,nx) rather than (nx,ny)\n",
    "mz.shape = (ny,nx)"
   ]
  },
  {
   "cell_type": "code",
   "execution_count": 14,
   "metadata": {
    "collapsed": false
   },
   "outputs": [
    {
     "name": "stderr",
     "output_type": "stream",
     "text": [
      "/usr/lib/pymodules/python2.7/matplotlib/collections.py:548: FutureWarning: elementwise comparison failed; returning scalar instead, but in the future will perform elementwise comparison\n",
      "  if self._edgecolors == 'face':\n"
     ]
    },
    {
     "data": {
      "image/png": "[encoded data removed]",
      "text/plain": [
       "<matplotlib.figure.Figure at 0x7f4f3692f310>"
      ]
     },
     "metadata": {},
     "output_type": "display_data"
    }
   ],
   "source": [
    "plt.pcolor(mz)\n",
    "plt.colorbar()\n",
    "plt.show()"
   ]
  },
  {
   "cell_type": "markdown",
   "metadata": {},
   "source": [
    "## Plotting m (average)\n",
    "\n",
    "It is also useful to plot the average components of m over time."
   ]
  },
  {
   "cell_type": "code",
   "execution_count": 15,
   "metadata": {
    "collapsed": false
   },
   "outputs": [
    {
     "name": "stdout",
     "output_type": "stream",
     "text": [
      "1d_domain_wall.ipynb              \u001b[0m\u001b[01;34msim_tutorial_basics_vtks\u001b[0m/\r\n",
      "current-driven-domain-wall.ipynb  spin-polarised-current-driven-skyrmion.ipynb\r\n",
      "isolated_skyrmion.ipynb           spin-waves-in-periodic-system.ipynb\r\n",
      "runtimes.org                      standard_problem_4.ipynb\r\n",
      "sanitize_file                     tutorial-basics.ipynb\r\n",
      "\u001b[01;34msim_tutorial_basics_npys\u001b[0m/         tutorial-docker-container.ipynb\r\n",
      "sim_tutorial_basics.txt\r\n"
     ]
    }
   ],
   "source": [
    "# PYTEST_VALIDATE_IGNORE_OUTPUT\n",
    "%ls"
   ]
  },
  {
   "cell_type": "code",
   "execution_count": 16,
   "metadata": {
    "collapsed": true
   },
   "outputs": [],
   "source": [
    "f  = fidimag.common.fileio.DataReader('sim_tutorial_basics.txt')"
   ]
  },
  {
   "cell_type": "code",
   "execution_count": 17,
   "metadata": {
    "collapsed": false
   },
   "outputs": [],
   "source": [
    "mz = f.datadic['m_z']\n",
    "t = f.datadic['time']"
   ]
  },
  {
   "cell_type": "code",
   "execution_count": 18,
   "metadata": {
    "collapsed": false
   },
   "outputs": [
    {
     "data": {
      "image/png": "[encoded data removed]",
      "text/plain": [
       "<matplotlib.figure.Figure at 0x7f4f34e900d0>"
      ]
     },
     "metadata": {},
     "output_type": "display_data"
    }
   ],
   "source": [
    "plt.plot(t, mz)\n",
    "plt.show()"
   ]
  },
  {
   "cell_type": "code",
   "execution_count": null,
   "metadata": {
    "collapsed": true
   },
   "outputs": [],
   "source": []
  }
 ],
 "metadata": {
  "kernelspec": {
   "display_name": "Python 2",
   "language": "python",
   "name": "python2"
  },
  "language_info": {
   "codemirror_mode": {
    "name": "ipython",
    "version": 2
   },
   "file_extension": ".py",
   "mimetype": "text/x-python",
   "name": "python",
   "nbconvert_exporter": "python",
   "pygments_lexer": "ipython2",
   "version": "2.7.6"
  }
 },
 "nbformat": 4,
 "nbformat_minor": 0
}
