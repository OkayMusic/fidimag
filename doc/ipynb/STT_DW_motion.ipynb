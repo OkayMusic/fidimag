{
 "cells": [
  {
   "cell_type": "markdown",
   "metadata": {},
   "source": [
    "# DW motion using Spin Polarised Currents"
   ]
  },
  {
   "cell_type": "markdown",
   "metadata": {},
   "source": [
    "## Libraries"
   ]
  },
  {
   "cell_type": "code",
   "execution_count": 1,
   "metadata": {
    "collapsed": false
   },
   "outputs": [],
   "source": [
    "import matplotlib as mpl\n",
    "import matplotlib.pyplot as plt\n",
    "import numpy as np\n",
    "\n",
    "# FIDIMAG libraries\n",
    "from fidimag.micro import Sim\n",
    "from fidimag.common import CuboidMesh\n",
    "\n",
    "# The energies (we can use DMI in a future simulation)\n",
    "from fidimag.micro import UniformExchange\n",
    "from fidimag.micro import UniaxialAnisotropy\n",
    "# from micro import DMI"
   ]
  },
  {
   "cell_type": "code",
   "execution_count": 2,
   "metadata": {
    "collapsed": false
   },
   "outputs": [],
   "source": [
    "%matplotlib inline"
   ]
  },
  {
   "cell_type": "markdown",
   "metadata": {},
   "source": [
    "## Simulation Functions"
   ]
  },
  {
   "cell_type": "markdown",
   "metadata": {},
   "source": [
    "We start defining functions to run the Fidimag simulations. The initial state is a rough approximation of a Domain Wall (DW):"
   ]
  },
  {
   "cell_type": "code",
   "execution_count": 3,
   "metadata": {
    "collapsed": false
   },
   "outputs": [],
   "source": [
    "mu0 = 4 * np.pi * 1e-7\n",
    "\n",
    "# Initial State, a rough DW in a 1D chain\n",
    "def init_m(pos):\n",
    "\n",
    "    x = pos[0]\n",
    "\n",
    "    if x < 400:\n",
    "        return (1, 0, 0)\n",
    "    elif 400 <= x < 500:\n",
    "        return (0, 1, 1)\n",
    "    else:\n",
    "        return (-1, 0, 0)\n"
   ]
  },
  {
   "cell_type": "markdown",
   "metadata": {},
   "source": [
    "The initial state will be relaxed for a specific mesh:"
   ]
  },
  {
   "cell_type": "code",
   "execution_count": 4,
   "metadata": {
    "collapsed": false
   },
   "outputs": [],
   "source": [
    "def relax_system(mesh):\n",
    "\n",
    "    # Only relaxation\n",
    "    sim = Sim(mesh, name='relax')\n",
    "\n",
    "    # Simulation parameters\n",
    "    sim.set_tols(rtol=1e-8, atol=1e-10)\n",
    "    sim.alpha = 0.5\n",
    "    sim.gamma = 2.211e5\n",
    "    sim.Ms = 8.6e5\n",
    "    sim.do_procession = False\n",
    "\n",
    "    # The initial state passed as a function\n",
    "    sim.set_m(init_m)\n",
    "    # sim.set_m(np.load('m0.npy'))\n",
    "\n",
    "    # Energies\n",
    "    A = 1.3e-11\n",
    "    exch = UniformExchange(A=A)\n",
    "    sim.add(exch)\n",
    "\n",
    "    anis = UniaxialAnisotropy(5e4)\n",
    "    sim.add(anis)\n",
    "\n",
    "    # dmi = DMI(D=8e-4)\n",
    "    # sim.add(dmi)\n",
    "\n",
    "    # Start relaxation and save the state in m0.npy\n",
    "    sim.relax(dt=1e-14, stopping_dmdt=0.00001, max_steps=5000,\n",
    "              save_m_steps=None, save_vtk_steps=None)\n",
    "\n",
    "    np.save('m0.npy', sim.spin)"
   ]
  },
  {
   "cell_type": "markdown",
   "metadata": {},
   "source": [
    "A plot of the system can be done with the following function, which shows a specific magnetisation component along the 1D chain of spins."
   ]
  },
  {
   "cell_type": "code",
   "execution_count": 5,
   "metadata": {
    "collapsed": false
   },
   "outputs": [],
   "source": [
    "def plot_magnetisation(_list, save_file=None):\n",
    "    \"\"\"\n",
    "    The list contain any number of list with two entries:\n",
    "    the _file path and the component of the magnetisation\n",
    "    in the formats:\n",
    "\n",
    "            mx, my, mz\n",
    "\n",
    "    e.g.\n",
    "            _list = [ ['m0.npy', 'mz'], ... ]\n",
    "    \n",
    "    Optional:\n",
    "        save_file     :: output file name in a string\n",
    "\n",
    "    \"\"\"\n",
    "\n",
    "    plt.figure(figsize=(8, 6))\n",
    "\n",
    "    comp = {'mx': 0, 'my': 1, 'mz': 2}\n",
    "\n",
    "    for element in _list:\n",
    "        # element[0]  --> _file\n",
    "        # element[1]  --> m component: mx, my or mz\n",
    "        \n",
    "        # The npy files contain the spin vector components in the\n",
    "        # format:\n",
    "        #     [mx1, my1, mz1, mx2, my2, ... ]\n",
    "        #\n",
    "        # Thus we convert this to a N x 3 array and extract the\n",
    "        # component specified in every list\n",
    "        data = np.load(element[0])\n",
    "        data.shape = (-1, 3)\n",
    "\n",
    "        mx = data[:, comp[element[1]]]\n",
    "        \n",
    "        # The label is the component and the file name\n",
    "        plt.plot(mx,\n",
    "                 label=element[1] + ' / %s' % element[0],\n",
    "                 lw=2\n",
    "                 )\n",
    "\n",
    "    plt.legend()\n",
    "    # We assume the chain is in the x direction\n",
    "    plt.xlabel(r'x')\n",
    "    \n",
    "    if save_file:\n",
    "        plt.savefig(output_file)\n",
    "    \n",
    "    # plt.show()"
   ]
  },
  {
   "cell_type": "markdown",
   "metadata": {},
   "source": [
    "The last function is the excitation with a current in the -x direction. This will cause the DW to motion, which we will plot later to observe the dynamical process. All the *npy* and *vtk* files are saved in the **\\{simulation_name\\}_npys** and **\\{simulation_name\\}_vtks** folders, respectively."
   ]
  },
  {
   "cell_type": "code",
   "execution_count": 6,
   "metadata": {
    "collapsed": false
   },
   "outputs": [],
   "source": [
    "# This function excites the system with a\n",
    "# current in the x-direction using Spin Transfer Torque\n",
    "# formalism\n",
    "def excite_system(mesh, time=5, snaps=501):\n",
    "\n",
    "    # Specify the stt dynamics in the simulation\n",
    "    sim = Sim(mesh, name='dyn', driver='llg_stt')\n",
    "    \n",
    "    # Set the simulation parameters\n",
    "    sim.set_tols(rtol=1e-12, atol=1e-14)\n",
    "    sim.alpha = 0.05\n",
    "    sim.gamma = 2.211e5\n",
    "    sim.Ms = 8.6e5\n",
    "\n",
    "    # Load the initial state from the npy file saved\n",
    "    # in the realxation\n",
    "    sim.set_m(np.load('m0.npy'))\n",
    "\n",
    "    # Add the energies\n",
    "    A = 1.3e-11\n",
    "    exch = UniformExchange(A=A)\n",
    "    sim.add(exch)\n",
    "\n",
    "    anis = UniaxialAnisotropy(5e4)\n",
    "    sim.add(anis)\n",
    "\n",
    "    # dmi = DMI(D=8e-4)\n",
    "    # sim.add(dmi)\n",
    "\n",
    "    # Set the current in the x direction, in A / m\n",
    "    # beta is the parameter in the STT torque\n",
    "    sim.jx = -1e12\n",
    "    sim.beta = 1\n",
    "\n",
    "    # The simulation will run for x ns and save\n",
    "    # 'snaps' snapshots of the system in the process\n",
    "    ts = np.linspace(0, time * 1e-9, snaps)\n",
    "\n",
    "    for t in ts:\n",
    "        print 'time', t\n",
    "        sim.run_until(t)\n",
    "        sim.save_vtk()\n",
    "        sim.save_m()\n"
   ]
  },
  {
   "cell_type": "markdown",
   "metadata": {},
   "source": [
    "## Initiate Simulation"
   ]
  },
  {
   "cell_type": "markdown",
   "metadata": {},
   "source": [
    "In Fidimag, `nx`, `ny` and `nz` are the number of `dx`, `dy` and `dz` elements in the corresponding directions. The mesh is used in the previously defined functions: "
   ]
  },
  {
   "cell_type": "markdown",
   "metadata": {},
   "source": [
    "### Relaxation"
   ]
  },
  {
   "cell_type": "code",
   "execution_count": 7,
   "metadata": {
    "collapsed": false,
    "scrolled": true
   },
   "outputs": [
    {
     "name": "stdout",
     "output_type": "stream",
     "text": [
      "step=1, time=1e-14, max_dmdt=30397 ode_step=0\n",
      "step=2, time=2e-14, max_dmdt=30234.9 ode_step=2.41132e-15\n",
      "step=3, time=3e-14, max_dmdt=30070.2 ode_step=5.41005e-15\n",
      "step=4, time=4e-14, max_dmdt=29903.1 ode_step=9.49872e-15\n",
      "step=5, time=5e-14, max_dmdt=29733.7 ode_step=9.49872e-15\n",
      "step=6, time=6e-14, max_dmdt=29562 ode_step=9.49872e-15\n",
      "step=7, time=7e-14, max_dmdt=29388.2 ode_step=9.49872e-15\n",
      "step=8, time=8.63609e-14, max_dmdt=29155.9 ode_step=1.63609e-14\n",
      "step=9, time=1.02722e-13, max_dmdt=28862.9 ode_step=1.63609e-14\n",
      "step=10, time=1.19083e-13, max_dmdt=28565 ode_step=1.63609e-14\n",
      "step=11, time=1.35444e-13, max_dmdt=28262.6 ode_step=1.63609e-14\n",
      "step=12, time=1.51804e-13, max_dmdt=27956.1 ode_step=1.63609e-14\n",
      "step=13, time=1.68165e-13, max_dmdt=27645.7 ode_step=1.63609e-14\n",
      "step=14, time=1.97464e-13, max_dmdt=27206.7 ode_step=2.92981e-14\n",
      "step=15, time=2.26762e-13, max_dmdt=26635.3 ode_step=2.92981e-14\n",
      "step=16, time=2.5606e-13, max_dmdt=26056.4 ode_step=2.92981e-14\n",
      "step=17, time=2.85358e-13, max_dmdt=25471.8 ode_step=2.92981e-14\n",
      "step=18, time=3.14656e-13, max_dmdt=24883.2 ode_step=2.92981e-14\n",
      "step=19, time=3.43954e-13, max_dmdt=24292.4 ode_step=2.92981e-14\n",
      "step=20, time=3.73252e-13, max_dmdt=23701 ode_step=2.92981e-14\n",
      "step=21, time=4.02551e-13, max_dmdt=23110.4 ode_step=2.92981e-14\n",
      "step=22, time=4.31849e-13, max_dmdt=22522.2 ode_step=2.92981e-14\n",
      "step=23, time=4.80876e-13, max_dmdt=21741.9 ode_step=4.90272e-14\n",
      "step=24, time=5.29903e-13, max_dmdt=20777.9 ode_step=4.90272e-14\n",
      "step=25, time=5.7893e-13, max_dmdt=19833 ode_step=4.90272e-14\n",
      "step=26, time=6.27958e-13, max_dmdt=18910.9 ode_step=4.90272e-14\n",
      "step=27, time=6.76985e-13, max_dmdt=18015 ode_step=4.90272e-14\n",
      "step=28, time=7.26012e-13, max_dmdt=17147.8 ode_step=4.90272e-14\n",
      "step=29, time=7.75039e-13, max_dmdt=16311.2 ode_step=4.90272e-14\n",
      "step=30, time=8.24066e-13, max_dmdt=15506.7 ode_step=4.90272e-14\n",
      "step=31, time=8.73094e-13, max_dmdt=14734.9 ode_step=4.90272e-14\n",
      "step=32, time=9.22121e-13, max_dmdt=13996.5 ode_step=4.90272e-14\n",
      "step=33, time=9.71148e-13, max_dmdt=13291.4 ode_step=4.90272e-14\n",
      "step=34, time=1.02018e-12, max_dmdt=12619.6 ode_step=4.90272e-14\n",
      "step=35, time=1.0692e-12, max_dmdt=11980.4 ode_step=4.90272e-14\n",
      "step=36, time=1.11823e-12, max_dmdt=11373.2 ode_step=4.90272e-14\n",
      "step=37, time=1.16726e-12, max_dmdt=10797.3 ode_step=4.90272e-14\n",
      "step=38, time=1.21628e-12, max_dmdt=10251.5 ode_step=4.90272e-14\n",
      "step=39, time=1.26531e-12, max_dmdt=9734.91 ode_step=4.90272e-14\n",
      "step=40, time=1.31434e-12, max_dmdt=9246.33 ode_step=4.90272e-14\n",
      "step=41, time=1.36337e-12, max_dmdt=8784.6 ode_step=4.90272e-14\n",
      "step=42, time=1.41239e-12, max_dmdt=8348.52 ode_step=4.90272e-14\n",
      "step=43, time=1.46142e-12, max_dmdt=7936.89 ode_step=4.90272e-14\n",
      "step=44, time=1.51045e-12, max_dmdt=7548.5 ode_step=4.90272e-14\n",
      "step=45, time=1.55947e-12, max_dmdt=7182.19 ode_step=4.90272e-14\n",
      "step=46, time=1.6085e-12, max_dmdt=6836.79 ode_step=4.90272e-14\n",
      "step=47, time=1.65753e-12, max_dmdt=6511.17 ode_step=4.90272e-14\n",
      "step=48, time=1.70656e-12, max_dmdt=6282.86 ode_step=4.90272e-14\n",
      "step=49, time=1.78163e-12, max_dmdt=6180.1 ode_step=7.50752e-14\n",
      "step=50, time=1.85671e-12, max_dmdt=6051.3 ode_step=7.50752e-14\n",
      "step=51, time=1.93178e-12, max_dmdt=5918.77 ode_step=7.50752e-14\n",
      "step=52, time=2.00686e-12, max_dmdt=5783.77 ode_step=7.50752e-14\n",
      "step=53, time=2.08193e-12, max_dmdt=5647.38 ode_step=7.50752e-14\n",
      "step=54, time=2.15701e-12, max_dmdt=5510.53 ode_step=7.50752e-14\n",
      "step=55, time=2.23208e-12, max_dmdt=5373.99 ode_step=7.50752e-14\n",
      "step=56, time=2.30716e-12, max_dmdt=5238.4 ode_step=7.50752e-14\n",
      "step=57, time=2.38223e-12, max_dmdt=5104.31 ode_step=7.50752e-14\n",
      "step=58, time=2.45731e-12, max_dmdt=4972.16 ode_step=7.50752e-14\n",
      "step=59, time=2.53238e-12, max_dmdt=4842.31 ode_step=7.50752e-14\n",
      "step=60, time=2.60746e-12, max_dmdt=4715.05 ode_step=7.50752e-14\n",
      "step=61, time=2.68253e-12, max_dmdt=4590.61 ode_step=7.50752e-14\n",
      "step=62, time=2.75761e-12, max_dmdt=4469.17 ode_step=7.50752e-14\n",
      "step=63, time=2.83268e-12, max_dmdt=4350.84 ode_step=7.50752e-14\n",
      "step=64, time=2.90776e-12, max_dmdt=4235.72 ode_step=7.50752e-14\n",
      "step=65, time=2.98283e-12, max_dmdt=4123.86 ode_step=7.50752e-14\n",
      "step=66, time=3.05791e-12, max_dmdt=4015.28 ode_step=7.50752e-14\n",
      "step=67, time=3.17069e-12, max_dmdt=3884.25 ode_step=1.12781e-13\n",
      "step=68, time=3.28347e-12, max_dmdt=3733.46 ode_step=1.12781e-13\n",
      "step=69, time=3.39625e-12, max_dmdt=3589.89 ode_step=1.12781e-13\n",
      "step=70, time=3.50903e-12, max_dmdt=3453.36 ode_step=1.12781e-13\n",
      "step=71, time=3.62181e-12, max_dmdt=3323.63 ode_step=1.12781e-13\n",
      "step=72, time=3.73459e-12, max_dmdt=3200.44 ode_step=1.12781e-13\n",
      "step=73, time=3.84737e-12, max_dmdt=3083.51 ode_step=1.12781e-13\n",
      "step=74, time=3.96015e-12, max_dmdt=2972.54 ode_step=1.12781e-13\n",
      "step=75, time=4.07293e-12, max_dmdt=2867.24 ode_step=1.12781e-13\n",
      "step=76, time=4.18572e-12, max_dmdt=2767.33 ode_step=1.12781e-13\n",
      "step=77, time=4.2985e-12, max_dmdt=2672.5 ode_step=1.12781e-13\n",
      "step=78, time=4.41128e-12, max_dmdt=2582.48 ode_step=1.12781e-13\n",
      "step=79, time=4.52406e-12, max_dmdt=2530.17 ode_step=1.12781e-13\n",
      "step=80, time=4.63684e-12, max_dmdt=2486.73 ode_step=1.12781e-13\n",
      "step=81, time=4.74962e-12, max_dmdt=2443.59 ode_step=1.12781e-13\n",
      "step=82, time=4.8624e-12, max_dmdt=2400.87 ode_step=1.12781e-13\n",
      "step=83, time=4.97518e-12, max_dmdt=2358.64 ode_step=1.12781e-13\n",
      "step=84, time=5.14436e-12, max_dmdt=2306.69 ode_step=1.69182e-13\n",
      "step=85, time=5.31354e-12, max_dmdt=2245.64 ode_step=1.69182e-13\n",
      "step=86, time=5.48272e-12, max_dmdt=2186.14 ode_step=1.69182e-13\n",
      "step=87, time=5.65191e-12, max_dmdt=2128.32 ode_step=1.69182e-13\n",
      "step=88, time=5.82109e-12, max_dmdt=2072.22 ode_step=1.69182e-13\n",
      "step=89, time=5.99027e-12, max_dmdt=2017.88 ode_step=1.69182e-13\n",
      "step=90, time=6.15945e-12, max_dmdt=1965.32 ode_step=1.69182e-13\n",
      "step=91, time=6.32864e-12, max_dmdt=1914.53 ode_step=1.69182e-13\n",
      "step=92, time=6.49782e-12, max_dmdt=1865.48 ode_step=1.69182e-13\n",
      "step=93, time=6.667e-12, max_dmdt=1818.15 ode_step=1.69182e-13\n",
      "step=94, time=6.83618e-12, max_dmdt=1772.51 ode_step=1.69182e-13\n",
      "step=95, time=7.00536e-12, max_dmdt=1728.49 ode_step=1.69182e-13\n",
      "step=96, time=7.17455e-12, max_dmdt=1686.07 ode_step=1.69182e-13\n",
      "step=97, time=7.34373e-12, max_dmdt=1645.18 ode_step=1.69182e-13\n",
      "step=98, time=7.51291e-12, max_dmdt=1605.78 ode_step=1.69182e-13\n",
      "step=99, time=7.68209e-12, max_dmdt=1567.81 ode_step=1.69182e-13\n",
      "step=100, time=7.85127e-12, max_dmdt=1531.21 ode_step=1.69182e-13\n",
      "step=101, time=8.10535e-12, max_dmdt=1487.36 ode_step=2.54072e-13\n",
      "step=102, time=8.35942e-12, max_dmdt=1437.22 ode_step=2.54072e-13\n",
      "step=103, time=8.61349e-12, max_dmdt=1389.75 ode_step=2.54072e-13\n",
      "step=104, time=8.86756e-12, max_dmdt=1344.79 ode_step=2.54072e-13\n",
      "step=105, time=9.12164e-12, max_dmdt=1310.9 ode_step=2.54072e-13\n",
      "step=106, time=9.37571e-12, max_dmdt=1283.69 ode_step=2.54072e-13\n",
      "step=107, time=9.62978e-12, max_dmdt=1257.1 ode_step=2.54072e-13\n",
      "step=108, time=9.88385e-12, max_dmdt=1231.15 ode_step=2.54072e-13\n",
      "step=109, time=1.01379e-11, max_dmdt=1205.86 ode_step=2.54072e-13\n",
      "step=110, time=1.0392e-11, max_dmdt=1181.24 ode_step=2.54072e-13\n",
      "step=111, time=1.06461e-11, max_dmdt=1157.29 ode_step=2.54072e-13\n",
      "step=112, time=1.09001e-11, max_dmdt=1134 ode_step=2.54072e-13\n",
      "step=113, time=1.11542e-11, max_dmdt=1111.37 ode_step=2.54072e-13\n",
      "step=114, time=1.14083e-11, max_dmdt=1089.4 ode_step=2.54072e-13\n",
      "step=115, time=1.16624e-11, max_dmdt=1068.07 ode_step=2.54072e-13\n",
      "step=116, time=1.19164e-11, max_dmdt=1047.36 ode_step=2.54072e-13\n",
      "step=117, time=1.21705e-11, max_dmdt=1027.27 ode_step=2.54072e-13\n",
      "step=118, time=1.24246e-11, max_dmdt=1007.77 ode_step=2.54072e-13\n",
      "step=119, time=1.26786e-11, max_dmdt=988.857 ode_step=2.54072e-13\n",
      "step=120, time=1.29327e-11, max_dmdt=970.508 ode_step=2.54072e-13\n",
      "step=121, time=1.33192e-11, max_dmdt=948.185 ode_step=3.86498e-13\n",
      "step=122, time=1.37057e-11, max_dmdt=922.322 ode_step=3.86498e-13\n",
      "step=123, time=1.40922e-11, max_dmdt=897.619 ode_step=3.86498e-13\n",
      "step=124, time=1.44787e-11, max_dmdt=874.019 ode_step=3.86498e-13\n",
      "step=125, time=1.48652e-11, max_dmdt=851.465 ode_step=3.86498e-13\n",
      "step=126, time=1.52517e-11, max_dmdt=829.904 ode_step=3.86498e-13\n",
      "step=127, time=1.56382e-11, max_dmdt=811.574 ode_step=3.86498e-13\n",
      "step=128, time=1.60247e-11, max_dmdt=797.012 ode_step=3.86498e-13\n",
      "step=129, time=1.64112e-11, max_dmdt=782.807 ode_step=3.86498e-13\n",
      "step=130, time=1.67977e-11, max_dmdt=768.962 ode_step=3.86498e-13\n",
      "step=131, time=1.71842e-11, max_dmdt=755.475 ode_step=3.86498e-13\n",
      "step=132, time=1.75707e-11, max_dmdt=742.345 ode_step=3.86498e-13\n",
      "step=133, time=1.79572e-11, max_dmdt=729.566 ode_step=3.86498e-13\n",
      "step=134, time=1.83437e-11, max_dmdt=717.134 ode_step=3.86498e-13\n",
      "step=135, time=1.87302e-11, max_dmdt=705.041 ode_step=3.86498e-13\n",
      "step=136, time=1.91167e-11, max_dmdt=693.281 ode_step=3.86498e-13\n",
      "step=137, time=1.95032e-11, max_dmdt=681.847 ode_step=3.86498e-13\n",
      "step=138, time=1.98897e-11, max_dmdt=670.729 ode_step=3.86498e-13\n",
      "step=139, time=2.02762e-11, max_dmdt=659.921 ode_step=3.86498e-13\n",
      "step=140, time=2.06627e-11, max_dmdt=649.412 ode_step=3.86498e-13\n",
      "step=141, time=2.12529e-11, max_dmdt=636.567 ode_step=5.90245e-13\n",
      "step=142, time=2.18432e-11, max_dmdt=621.619 ode_step=5.90245e-13\n",
      "step=143, time=2.24334e-11, max_dmdt=607.297 ode_step=5.90245e-13\n",
      "step=144, time=2.30237e-11, max_dmdt=593.571 ode_step=5.90245e-13\n",
      "step=145, time=2.36139e-11, max_dmdt=580.412 ode_step=5.90245e-13\n",
      "step=146, time=2.42041e-11, max_dmdt=568.42 ode_step=5.90245e-13\n",
      "step=147, time=2.47944e-11, max_dmdt=559.067 ode_step=5.90245e-13\n",
      "step=148, time=2.53846e-11, max_dmdt=549.958 ode_step=5.90245e-13\n",
      "step=149, time=2.59749e-11, max_dmdt=541.089 ode_step=5.90245e-13\n",
      "step=150, time=2.65651e-11, max_dmdt=532.46 ode_step=5.90245e-13\n",
      "step=151, time=2.71554e-11, max_dmdt=524.065 ode_step=5.90245e-13\n",
      "step=152, time=2.77456e-11, max_dmdt=515.9 ode_step=5.90245e-13\n",
      "step=153, time=2.83359e-11, max_dmdt=507.961 ode_step=5.90245e-13\n",
      "step=154, time=2.92752e-11, max_dmdt=498.015 ode_step=9.39343e-13\n",
      "step=155, time=3.02145e-11, max_dmdt=486.268 ode_step=9.39343e-13\n",
      "step=156, time=3.11539e-11, max_dmdt=475.037 ode_step=9.39343e-13\n",
      "step=157, time=3.20932e-11, max_dmdt=464.298 ode_step=9.39343e-13\n",
      "step=158, time=3.30326e-11, max_dmdt=454.026 ode_step=9.39343e-13\n",
      "step=159, time=3.39719e-11, max_dmdt=444.198 ode_step=9.39343e-13\n",
      "step=160, time=3.49113e-11, max_dmdt=435.163 ode_step=9.39343e-13\n",
      "step=161, time=3.58506e-11, max_dmdt=428.056 ode_step=9.39343e-13\n",
      "step=162, time=3.67899e-11, max_dmdt=421.154 ode_step=9.39343e-13\n",
      "step=163, time=3.77293e-11, max_dmdt=414.454 ode_step=9.39343e-13\n",
      "step=164, time=3.86686e-11, max_dmdt=407.951 ode_step=9.39343e-13\n",
      "step=165, time=3.9608e-11, max_dmdt=401.641 ode_step=9.39343e-13\n",
      "step=166, time=4.05473e-11, max_dmdt=395.52 ode_step=9.39343e-13\n",
      "step=167, time=4.14867e-11, max_dmdt=389.582 ode_step=9.39343e-13\n",
      "step=168, time=4.2426e-11, max_dmdt=383.821 ode_step=9.39343e-13\n",
      "step=169, time=4.33653e-11, max_dmdt=378.232 ode_step=9.39343e-13\n",
      "step=170, time=4.43047e-11, max_dmdt=372.809 ode_step=9.39343e-13\n",
      "step=171, time=4.5244e-11, max_dmdt=367.546 ode_step=9.39343e-13\n",
      "step=172, time=4.61834e-11, max_dmdt=362.437 ode_step=9.39343e-13\n",
      "step=173, time=4.71227e-11, max_dmdt=357.72 ode_step=9.39343e-13\n",
      "step=174, time=4.80621e-11, max_dmdt=353.928 ode_step=9.39343e-13\n",
      "step=175, time=4.94715e-11, max_dmdt=349.295 ode_step=1.40943e-12\n",
      "step=176, time=5.08809e-11, max_dmdt=343.88 ode_step=1.40943e-12\n",
      "step=177, time=5.22903e-11, max_dmdt=338.625 ode_step=1.40943e-12\n",
      "step=178, time=5.36998e-11, max_dmdt=333.526 ode_step=1.40943e-12\n",
      "step=179, time=5.51092e-11, max_dmdt=328.579 ode_step=1.40943e-12\n",
      "step=180, time=5.65186e-11, max_dmdt=323.779 ode_step=1.40943e-12\n",
      "step=181, time=5.79281e-11, max_dmdt=319.121 ode_step=1.40943e-12\n",
      "step=182, time=5.93375e-11, max_dmdt=314.599 ode_step=1.40943e-12\n",
      "step=183, time=6.07469e-11, max_dmdt=310.397 ode_step=1.40943e-12\n",
      "step=184, time=6.21563e-11, max_dmdt=307.095 ode_step=1.40943e-12\n",
      "step=185, time=6.35658e-11, max_dmdt=303.85 ode_step=1.40943e-12\n",
      "step=186, time=6.49752e-11, max_dmdt=300.662 ode_step=1.40943e-12\n",
      "step=187, time=6.63846e-11, max_dmdt=297.531 ode_step=1.40943e-12\n",
      "step=188, time=6.7794e-11, max_dmdt=294.455 ode_step=1.40943e-12\n",
      "step=189, time=6.92035e-11, max_dmdt=291.433 ode_step=1.40943e-12\n",
      "step=190, time=7.06129e-11, max_dmdt=288.464 ode_step=1.40943e-12\n",
      "step=191, time=7.20223e-11, max_dmdt=285.547 ode_step=1.40943e-12\n",
      "step=192, time=7.34318e-11, max_dmdt=282.68 ode_step=1.40943e-12\n",
      "step=193, time=7.48412e-11, max_dmdt=280.062 ode_step=1.40943e-12\n",
      "step=194, time=7.62506e-11, max_dmdt=277.98 ode_step=1.40943e-12\n",
      "step=195, time=7.766e-11, max_dmdt=275.91 ode_step=1.40943e-12\n",
      "step=196, time=7.90695e-11, max_dmdt=273.852 ode_step=1.40943e-12\n",
      "step=197, time=8.04789e-11, max_dmdt=271.806 ode_step=1.40943e-12\n",
      "step=198, time=8.18883e-11, max_dmdt=269.773 ode_step=1.40943e-12\n",
      "step=199, time=8.4008e-11, max_dmdt=267.245 ode_step=2.11963e-12\n",
      "step=200, time=8.61276e-11, max_dmdt=264.231 ode_step=2.11963e-12\n",
      "step=201, time=8.82472e-11, max_dmdt=261.244 ode_step=2.11963e-12\n",
      "step=202, time=9.03669e-11, max_dmdt=258.748 ode_step=2.11963e-12\n",
      "step=203, time=9.24865e-11, max_dmdt=256.581 ode_step=2.11963e-12\n",
      "step=204, time=9.46061e-11, max_dmdt=254.392 ode_step=2.11963e-12\n",
      "step=205, time=9.67258e-11, max_dmdt=252.181 ode_step=2.11963e-12\n",
      "step=206, time=9.88454e-11, max_dmdt=249.949 ode_step=2.11963e-12\n",
      "step=207, time=1.00965e-10, max_dmdt=247.696 ode_step=2.11963e-12\n",
      "step=208, time=1.03085e-10, max_dmdt=245.424 ode_step=2.11963e-12\n",
      "step=209, time=1.05204e-10, max_dmdt=243.452 ode_step=2.11963e-12\n",
      "step=210, time=1.07324e-10, max_dmdt=241.755 ode_step=2.11963e-12\n",
      "step=211, time=1.09444e-10, max_dmdt=240.008 ode_step=2.11963e-12\n",
      "step=212, time=1.11563e-10, max_dmdt=238.213 ode_step=2.11963e-12\n",
      "step=213, time=1.13683e-10, max_dmdt=236.371 ode_step=2.11963e-12\n",
      "step=214, time=1.15802e-10, max_dmdt=234.485 ode_step=2.11963e-12\n",
      "step=215, time=1.1911e-10, max_dmdt=232.002 ode_step=3.30703e-12\n",
      "step=216, time=1.22417e-10, max_dmdt=229.165 ode_step=3.30703e-12\n",
      "step=217, time=1.25724e-10, max_dmdt=226.688 ode_step=3.30703e-12\n",
      "step=218, time=1.29031e-10, max_dmdt=224.066 ode_step=3.30703e-12\n",
      "step=219, time=1.32338e-10, max_dmdt=221.308 ode_step=3.30703e-12\n",
      "step=220, time=1.35645e-10, max_dmdt=218.421 ode_step=3.30703e-12\n",
      "step=221, time=1.38952e-10, max_dmdt=215.413 ode_step=3.30703e-12\n",
      "step=222, time=1.42259e-10, max_dmdt=212.573 ode_step=3.30703e-12\n",
      "step=223, time=1.45566e-10, max_dmdt=209.897 ode_step=3.30703e-12\n",
      "step=224, time=1.48873e-10, max_dmdt=207.086 ode_step=3.30703e-12\n",
      "step=225, time=1.5218e-10, max_dmdt=204.152 ode_step=3.30703e-12\n",
      "step=226, time=1.55487e-10, max_dmdt=201.103 ode_step=3.30703e-12\n",
      "step=227, time=1.58794e-10, max_dmdt=197.948 ode_step=3.30703e-12\n",
      "step=228, time=1.62101e-10, max_dmdt=194.697 ode_step=3.30703e-12\n",
      "step=229, time=1.65408e-10, max_dmdt=191.409 ode_step=3.30703e-12\n",
      "step=230, time=1.68715e-10, max_dmdt=188.4 ode_step=3.30703e-12\n",
      "step=231, time=1.72022e-10, max_dmdt=185.297 ode_step=3.30703e-12\n",
      "step=232, time=1.75329e-10, max_dmdt=182.109 ode_step=3.30703e-12\n",
      "step=233, time=1.78636e-10, max_dmdt=178.847 ode_step=3.30703e-12\n",
      "step=234, time=1.81943e-10, max_dmdt=175.519 ode_step=3.30703e-12\n",
      "step=235, time=1.8525e-10, max_dmdt=172.135 ode_step=3.30703e-12\n",
      "step=236, time=1.88557e-10, max_dmdt=168.702 ode_step=3.30703e-12\n",
      "step=237, time=1.91864e-10, max_dmdt=165.231 ode_step=3.30703e-12\n",
      "step=238, time=1.95171e-10, max_dmdt=161.728 ode_step=3.30703e-12\n",
      "step=239, time=1.98478e-10, max_dmdt=158.35 ode_step=3.30703e-12\n",
      "step=240, time=2.01785e-10, max_dmdt=155.078 ode_step=3.30703e-12\n",
      "step=241, time=2.07072e-10, max_dmdt=150.791 ode_step=5.28634e-12\n",
      "step=242, time=2.12358e-10, max_dmdt=145.483 ode_step=5.28634e-12\n",
      "step=243, time=2.17644e-10, max_dmdt=140.164 ode_step=5.28634e-12\n",
      "step=244, time=2.22931e-10, max_dmdt=134.858 ode_step=5.28634e-12\n",
      "step=245, time=2.28217e-10, max_dmdt=129.59 ode_step=5.28634e-12\n",
      "step=246, time=2.33503e-10, max_dmdt=124.38 ode_step=5.28634e-12\n",
      "step=247, time=2.3879e-10, max_dmdt=119.246 ode_step=5.28634e-12\n",
      "step=248, time=2.44076e-10, max_dmdt=114.383 ode_step=5.28634e-12\n",
      "step=249, time=2.49362e-10, max_dmdt=109.687 ode_step=5.28634e-12\n",
      "step=250, time=2.54649e-10, max_dmdt=105.082 ode_step=5.28634e-12\n",
      "step=251, time=2.59935e-10, max_dmdt=100.579 ode_step=5.28634e-12\n",
      "step=252, time=2.65221e-10, max_dmdt=96.1892 ode_step=5.28634e-12\n",
      "step=253, time=2.70508e-10, max_dmdt=91.9199 ode_step=5.28634e-12\n",
      "step=254, time=2.75794e-10, max_dmdt=87.7773 ode_step=5.28634e-12\n",
      "step=255, time=2.8108e-10, max_dmdt=83.7664 ode_step=5.28634e-12\n",
      "step=256, time=2.86367e-10, max_dmdt=79.8905 ode_step=5.28634e-12\n",
      "step=257, time=2.91653e-10, max_dmdt=76.152 ode_step=5.28634e-12\n",
      "step=258, time=2.96939e-10, max_dmdt=72.5519 ode_step=5.28634e-12\n",
      "step=259, time=3.02226e-10, max_dmdt=69.0904 ode_step=5.28634e-12\n",
      "step=260, time=3.07512e-10, max_dmdt=65.7963 ode_step=5.28634e-12\n",
      "step=261, time=3.12798e-10, max_dmdt=62.7018 ode_step=5.28634e-12\n",
      "step=262, time=3.18085e-10, max_dmdt=59.7294 ode_step=5.28634e-12\n",
      "step=263, time=3.23371e-10, max_dmdt=56.8775 ode_step=5.28634e-12\n",
      "step=264, time=3.28657e-10, max_dmdt=54.1443 ode_step=5.28634e-12\n",
      "step=265, time=3.33944e-10, max_dmdt=51.5276 ode_step=5.28634e-12\n",
      "step=266, time=3.3923e-10, max_dmdt=49.0245 ode_step=5.28634e-12\n",
      "step=267, time=3.47544e-10, max_dmdt=45.9737 ode_step=8.31371e-12\n",
      "step=268, time=3.55858e-10, max_dmdt=42.4746 ode_step=8.31371e-12\n",
      "step=269, time=3.64171e-10, max_dmdt=39.2259 ode_step=8.31371e-12\n",
      "step=270, time=3.72485e-10, max_dmdt=36.2139 ode_step=8.31371e-12\n",
      "step=271, time=3.80799e-10, max_dmdt=33.4248 ode_step=8.31371e-12\n",
      "step=272, time=3.89112e-10, max_dmdt=30.8446 ode_step=8.31371e-12\n",
      "step=273, time=3.97426e-10, max_dmdt=28.4597 ode_step=8.31371e-12\n",
      "step=274, time=4.0574e-10, max_dmdt=26.3276 ode_step=8.31371e-12\n",
      "step=275, time=4.14054e-10, max_dmdt=24.5226 ode_step=8.31371e-12\n",
      "step=276, time=4.22367e-10, max_dmdt=22.8298 ode_step=8.31371e-12\n",
      "step=277, time=4.30681e-10, max_dmdt=21.2444 ode_step=8.31371e-12\n",
      "step=278, time=4.38995e-10, max_dmdt=19.761 ode_step=8.31371e-12\n",
      "step=279, time=4.47308e-10, max_dmdt=18.3747 ode_step=8.31371e-12\n",
      "step=280, time=4.55622e-10, max_dmdt=17.0802 ode_step=8.31371e-12\n",
      "step=281, time=4.63936e-10, max_dmdt=15.8724 ode_step=8.31371e-12\n",
      "step=282, time=4.72249e-10, max_dmdt=14.7464 ode_step=8.31371e-12\n",
      "step=283, time=4.80563e-10, max_dmdt=13.6992 ode_step=8.31371e-12\n",
      "step=284, time=4.88877e-10, max_dmdt=12.7272 ode_step=8.31371e-12\n",
      "step=285, time=4.97191e-10, max_dmdt=11.8223 ode_step=8.31371e-12\n",
      "step=286, time=5.05504e-10, max_dmdt=10.98 ode_step=8.31371e-12\n",
      "step=287, time=5.13818e-10, max_dmdt=10.1965 ode_step=8.31371e-12\n",
      "step=288, time=5.22132e-10, max_dmdt=9.46784 ode_step=8.31371e-12\n",
      "step=289, time=5.30445e-10, max_dmdt=8.79043 ode_step=8.31371e-12\n",
      "step=290, time=5.38759e-10, max_dmdt=8.16084 ode_step=8.31371e-12\n",
      "step=291, time=5.47073e-10, max_dmdt=7.57586 ode_step=8.31371e-12\n",
      "step=292, time=5.55387e-10, max_dmdt=7.03244 ode_step=8.31371e-12\n",
      "step=293, time=5.637e-10, max_dmdt=6.52773 ode_step=8.31371e-12\n",
      "step=294, time=5.72014e-10, max_dmdt=6.05905 ode_step=8.31371e-12\n",
      "step=295, time=5.80328e-10, max_dmdt=5.6239 ode_step=8.31371e-12\n",
      "step=296, time=5.88641e-10, max_dmdt=5.21993 ode_step=8.31371e-12\n",
      "step=297, time=5.96955e-10, max_dmdt=4.84495 ode_step=8.31371e-12\n",
      "step=298, time=6.05269e-10, max_dmdt=4.4969 ode_step=8.31371e-12\n",
      "step=299, time=6.13583e-10, max_dmdt=4.17389 ode_step=8.31371e-12\n",
      "step=300, time=6.21896e-10, max_dmdt=3.87412 ode_step=8.31371e-12\n",
      "step=301, time=6.3021e-10, max_dmdt=3.59594 ode_step=8.31371e-12\n",
      "step=302, time=6.42799e-10, max_dmdt=3.27548 ode_step=1.25893e-11\n",
      "step=303, time=6.55389e-10, max_dmdt=2.92736 ode_step=1.25893e-11\n",
      "step=304, time=6.67978e-10, max_dmdt=2.61658 ode_step=1.25893e-11\n",
      "step=305, time=6.80567e-10, max_dmdt=2.33896 ode_step=1.25893e-11\n",
      "step=306, time=6.93156e-10, max_dmdt=2.09094 ode_step=1.25893e-11\n",
      "step=307, time=7.05746e-10, max_dmdt=1.86937 ode_step=1.25893e-11\n",
      "step=308, time=7.18335e-10, max_dmdt=1.67142 ode_step=1.25893e-11\n",
      "step=309, time=7.30924e-10, max_dmdt=1.49456 ode_step=1.25893e-11\n",
      "step=310, time=7.43514e-10, max_dmdt=1.33654 ode_step=1.25893e-11\n",
      "step=311, time=7.56103e-10, max_dmdt=1.19535 ode_step=1.25893e-11\n",
      "step=312, time=7.68692e-10, max_dmdt=1.06917 ode_step=1.25893e-11\n",
      "step=313, time=7.81282e-10, max_dmdt=0.956414 ode_step=1.25893e-11\n",
      "step=314, time=7.93871e-10, max_dmdt=0.855634 ode_step=1.25893e-11\n",
      "step=315, time=8.0646e-10, max_dmdt=0.765551 ode_step=1.25893e-11\n",
      "step=316, time=8.19049e-10, max_dmdt=0.685023 ode_step=1.25893e-11\n",
      "step=317, time=8.31639e-10, max_dmdt=0.613029 ode_step=1.25893e-11\n",
      "step=318, time=8.44228e-10, max_dmdt=0.548757 ode_step=1.25893e-11\n",
      "step=319, time=8.56817e-10, max_dmdt=0.491315 ode_step=1.25893e-11\n",
      "step=320, time=8.69407e-10, max_dmdt=0.439926 ode_step=1.25893e-11\n",
      "step=321, time=8.81996e-10, max_dmdt=0.393948 ode_step=1.25893e-11\n",
      "step=322, time=8.94585e-10, max_dmdt=0.352807 ode_step=1.25893e-11\n",
      "step=323, time=9.07174e-10, max_dmdt=0.315991 ode_step=1.25893e-11\n",
      "step=324, time=9.19764e-10, max_dmdt=0.283041 ode_step=1.25893e-11\n",
      "step=325, time=9.32353e-10, max_dmdt=0.253549 ode_step=1.25893e-11\n",
      "step=326, time=9.44942e-10, max_dmdt=0.22715 ode_step=1.25893e-11\n",
      "step=327, time=9.57532e-10, max_dmdt=0.203517 ode_step=1.25893e-11\n",
      "step=328, time=9.70121e-10, max_dmdt=0.182358 ode_step=1.25893e-11\n",
      "step=329, time=9.8271e-10, max_dmdt=0.163411 ode_step=1.25893e-11\n",
      "step=330, time=9.953e-10, max_dmdt=0.146446 ode_step=1.25893e-11\n",
      "step=331, time=1.00789e-09, max_dmdt=0.131252 ode_step=1.25893e-11\n",
      "step=332, time=1.02048e-09, max_dmdt=0.117643 ode_step=1.25893e-11\n",
      "step=333, time=1.03307e-09, max_dmdt=0.105454 ode_step=1.25893e-11\n",
      "step=334, time=1.05319e-09, max_dmdt=0.0915648 ode_step=2.0119e-11\n",
      "step=335, time=1.07331e-09, max_dmdt=0.0768999 ode_step=2.0119e-11\n",
      "step=336, time=1.09342e-09, max_dmdt=0.064597 ode_step=2.0119e-11\n",
      "step=337, time=1.11354e-09, max_dmdt=0.0542874 ode_step=2.0119e-11\n",
      "step=338, time=1.13366e-09, max_dmdt=0.0456318 ode_step=2.0119e-11\n",
      "step=339, time=1.15378e-09, max_dmdt=0.0383613 ode_step=2.0119e-11\n",
      "step=340, time=1.1739e-09, max_dmdt=0.0322531 ode_step=2.0119e-11\n",
      "step=341, time=1.19402e-09, max_dmdt=0.0271215 ode_step=2.0119e-11\n",
      "step=342, time=1.21414e-09, max_dmdt=0.0228101 ode_step=2.0119e-11\n",
      "step=343, time=1.23426e-09, max_dmdt=0.0191869 ode_step=2.0119e-11\n",
      "step=344, time=1.25438e-09, max_dmdt=0.0161413 ode_step=2.0119e-11\n",
      "step=345, time=1.2745e-09, max_dmdt=0.0135807 ode_step=2.0119e-11\n",
      "step=346, time=1.29461e-09, max_dmdt=0.0114279 ode_step=2.0119e-11\n",
      "step=347, time=1.31473e-09, max_dmdt=0.0096175 ode_step=2.0119e-11\n",
      "step=348, time=1.33485e-09, max_dmdt=0.00809495 ode_step=2.0119e-11\n",
      "step=349, time=1.35497e-09, max_dmdt=0.00681416 ode_step=2.0119e-11\n",
      "step=350, time=1.37509e-09, max_dmdt=0.0057367 ode_step=2.0119e-11\n",
      "step=351, time=1.39521e-09, max_dmdt=0.00483011 ode_step=2.0119e-11\n",
      "step=352, time=1.41533e-09, max_dmdt=0.00406733 ode_step=2.0119e-11\n",
      "step=353, time=1.43545e-09, max_dmdt=0.00342524 ode_step=2.0119e-11\n",
      "step=354, time=1.45557e-09, max_dmdt=0.00288479 ode_step=2.0119e-11\n",
      "step=355, time=1.48833e-09, max_dmdt=0.00230689 ode_step=3.27577e-11\n",
      "step=356, time=1.52108e-09, max_dmdt=0.00174453 ode_step=3.27577e-11\n",
      "step=357, time=1.55384e-09, max_dmdt=0.00132003 ode_step=3.27577e-11\n",
      "step=358, time=1.5866e-09, max_dmdt=0.000999698 ode_step=3.27577e-11\n",
      "step=359, time=1.61936e-09, max_dmdt=0.000757384 ode_step=3.27577e-11\n",
      "step=360, time=1.65211e-09, max_dmdt=0.000573697 ode_step=3.27577e-11\n",
      "step=361, time=1.68487e-09, max_dmdt=0.000434454 ode_step=3.27577e-11\n",
      "step=362, time=1.71763e-09, max_dmdt=0.000329072 ode_step=3.27577e-11\n",
      "step=363, time=1.75039e-09, max_dmdt=0.000249394 ode_step=3.27577e-11\n",
      "step=364, time=1.78314e-09, max_dmdt=0.000189096 ode_step=3.27577e-11\n",
      "step=365, time=1.8159e-09, max_dmdt=0.000143427 ode_step=3.27577e-11\n",
      "step=366, time=1.84866e-09, max_dmdt=0.000108763 ode_step=3.27577e-11\n",
      "step=367, time=1.88142e-09, max_dmdt=8.24592e-05 ode_step=3.27577e-11\n",
      "step=368, time=1.93272e-09, max_dmdt=5.78961e-05 ode_step=5.13016e-11\n",
      "step=369, time=1.98402e-09, max_dmdt=3.72585e-05 ode_step=5.13016e-11\n",
      "step=370, time=2.03532e-09, max_dmdt=2.41197e-05 ode_step=5.13016e-11\n",
      "step=371, time=2.08662e-09, max_dmdt=1.58864e-05 ode_step=5.13016e-11\n",
      "step=372, time=2.13793e-09, max_dmdt=1.05008e-05 ode_step=5.13016e-11\n",
      "step=373, time=2.18923e-09, max_dmdt=6.7593e-06 ode_step=5.13016e-11\n"
     ]
    }
   ],
   "source": [
    "# We will crate a mesh with 1000 elements of 2x2x2 nm\n",
    "# in the x direction, and 1 along y and z\n",
    "# (so we have a 1D system)\n",
    "mesh = CuboidMesh(nx=1000, ny=1, nz=1,\n",
    "              dx=2, dy=2, dz=2.0,\n",
    "              unit_length=1e-9)\n",
    "\n",
    "# Relax the initial state. It will save the last state\n",
    "# to the m0.npy file\n",
    "relax_system(mesh)"
   ]
  },
  {
   "cell_type": "markdown",
   "metadata": {},
   "source": [
    "Plot the initial State mx component. Uncomment the file name to save the figure"
   ]
  },
  {
   "cell_type": "code",
   "execution_count": 8,
   "metadata": {
    "collapsed": false
   },
   "outputs": [
    {
     "data": {
      "image/png": "[encoded data removed]",
      "text/plain": [
       "<matplotlib.figure.Figure at 0x7f423e4822d0>"
      ]
     },
     "metadata": {},
     "output_type": "display_data"
    }
   ],
   "source": [
    "plot_magnetisation([['m0.npy', 'mx'], ['m0.npy', 'mz']], \n",
    "          # save_file='initial_state.pdf'\n",
    "          )"
   ]
  },
  {
   "cell_type": "markdown",
   "metadata": {},
   "source": [
    "The DW is at the maximum value of $|m_z|$ or $|m_y|$, and $x$ goes from 0 to 1000 nm, with one spin every 1 nm. If we use the $z$ component:"
   ]
  },
  {
   "cell_type": "code",
   "execution_count": 9,
   "metadata": {
    "collapsed": false
   },
   "outputs": [
    {
     "name": "stdout",
     "output_type": "stream",
     "text": [
      "Maximum |m_z| at x = 225\n"
     ]
    }
   ],
   "source": [
    "m0_z = np.load('m0.npy').reshape(-1, 3)[:, 2]\n",
    "x = np.arange(len(m0_z))\n",
    "index_max = np.argmax(np.abs(m0_z))\n",
    "\n",
    "print 'Maximum |m_z| at x =', x[index_max]"
   ]
  },
  {
   "cell_type": "markdown",
   "metadata": {},
   "source": [
    "The value of $m_z$ at that point is:"
   ]
  },
  {
   "cell_type": "code",
   "execution_count": 10,
   "metadata": {
    "collapsed": false
   },
   "outputs": [
    {
     "name": "stdout",
     "output_type": "stream",
     "text": [
      "m_z (DW position) =  0.705740362679\n"
     ]
    }
   ],
   "source": [
    "print 'm_z (DW position) = ', m0_z[index_max]"
   ]
  },
  {
   "cell_type": "markdown",
   "metadata": {},
   "source": [
    "And we check that $m_x$ changes sign around there:"
   ]
  },
  {
   "cell_type": "code",
   "execution_count": 11,
   "metadata": {
    "collapsed": false
   },
   "outputs": [
    {
     "name": "stdout",
     "output_type": "stream",
     "text": [
      "m_x (x = 225) =  -0.0621375970771\n",
      "m_x (x = 226) =  -0.184508227976\n"
     ]
    }
   ],
   "source": [
    "m0_x = np.load('m0.npy').reshape(-1, 3)[:, 0]\n",
    "print 'm_x (x = %d) = ' % index_max, m0_x[index_max]\n",
    "print 'm_x (x = %d) = ' % (index_max + 1), m0_x[index_max + 1]"
   ]
  },
  {
   "cell_type": "markdown",
   "metadata": {},
   "source": [
    "### STT"
   ]
  },
  {
   "cell_type": "markdown",
   "metadata": {},
   "source": [
    "Now we excite the system with the current for 1.5 ns"
   ]
  },
  {
   "cell_type": "code",
   "execution_count": 12,
   "metadata": {
    "collapsed": false,
    "scrolled": true
   },
   "outputs": [
    {
     "name": "stdout",
     "output_type": "stream",
     "text": [
      "time 0.0\n",
      "time 1e-11\n",
      "time 2e-11\n",
      "time 3e-11\n",
      "time 4e-11\n",
      "time 5e-11\n",
      "time 6e-11\n",
      "time 7e-11\n",
      "time 8e-11\n",
      "time 9e-11\n",
      "time 1e-10\n",
      "time 1.1e-10\n",
      "time 1.2e-10\n",
      "time 1.3e-10\n",
      "time 1.4e-10\n",
      "time 1.5e-10\n",
      "time 1.6e-10\n",
      "time 1.7e-10\n",
      "time 1.8e-10\n",
      "time 1.9e-10\n",
      "time 2e-10\n",
      "time 2.1e-10\n",
      "time 2.2e-10\n",
      "time 2.3e-10\n",
      "time 2.4e-10\n",
      "time 2.5e-10\n",
      "time 2.6e-10\n",
      "time 2.7e-10\n",
      "time 2.8e-10\n",
      "time 2.9e-10\n",
      "time 3e-10\n",
      "time 3.1e-10\n",
      "time 3.2e-10\n",
      "time 3.3e-10\n",
      "time 3.4e-10\n",
      "time 3.5e-10\n",
      "time 3.6e-10\n",
      "time 3.7e-10\n",
      "time 3.8e-10\n",
      "time 3.9e-10\n",
      "time 4e-10\n",
      "time 4.1e-10\n",
      "time 4.2e-10\n",
      "time 4.3e-10\n",
      "time 4.4e-10\n",
      "time 4.5e-10\n",
      "time 4.6e-10\n",
      "time 4.7e-10\n",
      "time 4.8e-10\n",
      "time 4.9e-10\n",
      "time 5e-10\n",
      "time 5.1e-10\n",
      "time 5.2e-10\n",
      "time 5.3e-10\n",
      "time 5.4e-10\n",
      "time 5.5e-10\n",
      "time 5.6e-10\n",
      "time 5.7e-10\n",
      "time 5.8e-10\n",
      "time 5.9e-10\n",
      "time 6e-10\n",
      "time 6.1e-10\n",
      "time 6.2e-10\n",
      "time 6.3e-10\n",
      "time 6.4e-10\n",
      "time 6.5e-10\n",
      "time 6.6e-10\n",
      "time 6.7e-10\n",
      "time 6.8e-10\n",
      "time 6.9e-10\n",
      "time 7e-10\n",
      "time 7.1e-10\n",
      "time 7.2e-10\n",
      "time 7.3e-10\n",
      "time 7.4e-10\n",
      "time 7.5e-10\n",
      "time 7.6e-10\n",
      "time 7.7e-10\n",
      "time 7.8e-10\n",
      "time 7.9e-10\n",
      "time 8e-10\n",
      "time 8.1e-10\n",
      "time 8.2e-10\n",
      "time 8.3e-10\n",
      "time 8.4e-10\n",
      "time 8.5e-10\n",
      "time 8.6e-10\n",
      "time 8.7e-10\n",
      "time 8.8e-10\n",
      "time 8.9e-10\n",
      "time 9e-10\n",
      "time 9.1e-10\n",
      "time 9.2e-10\n",
      "time 9.3e-10\n",
      "time 9.4e-10\n",
      "time 9.5e-10\n",
      "time 9.6e-10\n",
      "time 9.7e-10\n",
      "time 9.8e-10\n",
      "time 9.9e-10\n",
      "time 1e-09\n",
      "time 1.01e-09\n",
      "time 1.02e-09\n",
      "time 1.03e-09\n",
      "time 1.04e-09\n",
      "time 1.05e-09\n",
      "time 1.06e-09\n",
      "time 1.07e-09\n",
      "time 1.08e-09\n",
      "time 1.09e-09\n",
      "time 1.1e-09\n",
      "time 1.11e-09\n",
      "time 1.12e-09\n",
      "time 1.13e-09\n",
      "time 1.14e-09\n",
      "time 1.15e-09\n",
      "time 1.16e-09\n",
      "time 1.17e-09\n",
      "time 1.18e-09\n",
      "time 1.19e-09\n",
      "time 1.2e-09\n",
      "time 1.21e-09\n",
      "time 1.22e-09\n",
      "time 1.23e-09\n",
      "time 1.24e-09\n",
      "time 1.25e-09\n",
      "time 1.26e-09\n",
      "time 1.27e-09\n",
      "time 1.28e-09\n",
      "time 1.29e-09\n",
      "time 1.3e-09\n",
      "time 1.31e-09\n",
      "time 1.32e-09\n",
      "time 1.33e-09\n",
      "time 1.34e-09\n",
      "time 1.35e-09\n",
      "time 1.36e-09\n",
      "time 1.37e-09\n",
      "time 1.38e-09\n",
      "time 1.39e-09\n",
      "time 1.4e-09\n",
      "time 1.41e-09\n",
      "time 1.42e-09\n",
      "time 1.43e-09\n",
      "time 1.44e-09\n",
      "time 1.45e-09\n",
      "time 1.46e-09\n",
      "time 1.47e-09\n",
      "time 1.48e-09\n",
      "time 1.49e-09\n",
      "time 1.5e-09\n"
     ]
    }
   ],
   "source": [
    "excite_system(mesh, 1.5, 151)"
   ]
  },
  {
   "cell_type": "markdown",
   "metadata": {},
   "source": [
    "We plot once again to compare the initial state with the ones excited by the STT"
   ]
  },
  {
   "cell_type": "code",
   "execution_count": 14,
   "metadata": {
    "collapsed": false
   },
   "outputs": [
    {
     "data": {
      "text/plain": [
       "(0, 400)"
      ]
     },
     "execution_count": 14,
     "metadata": {},
     "output_type": "execute_result"
    },
    {
     "data": {
      "image/png": "[encoded data removed]",
      "text/plain": [
       "<matplotlib.figure.Figure at 0x7f423cd4f6d0>"
      ]
     },
     "metadata": {},
     "output_type": "display_data"
    }
   ],
   "source": [
    "# We can plot the m_x component for a number snapshots\n",
    "# to observe the DW motion\n",
    "# We will plot the 100th and 150th files (we can also compute\n",
    "# until the system reaches ~5 ns to improve the effect)\n",
    "plot_magnetisation([['m0.npy', 'mx'],\n",
    "                    ['dyn_npys/m_100.npy', 'mx'],\n",
    "                    ['dyn_npys/m_100.npy', 'mz'],\n",
    "                    ['dyn_npys/m_150.npy', 'mx'],\n",
    "                    ['dyn_npys/m_150.npy', 'mz'],\n",
    "                    # ['dyn_npys/m_499.npy', 'mx'],\n",
    "                    # ['dyn_npys/m_499.npy', 'mz']\n",
    "                    ],\n",
    "                   # save_file='dw_motion_stt.pdf'\n",
    "                   )\n",
    "plt.legend(loc='lower left')\n",
    "plt.xlim([0, 400])"
   ]
  },
  {
   "cell_type": "markdown",
   "metadata": {},
   "source": [
    "We can test the DW position of these systems:"
   ]
  },
  {
   "cell_type": "code",
   "execution_count": 14,
   "metadata": {
    "collapsed": false
   },
   "outputs": [
    {
     "name": "stdout",
     "output_type": "stream",
     "text": [
      "Maximum |m_z| in the 100th snapshot, at x = 556\n"
     ]
    }
   ],
   "source": [
    "m0_z = np.load('dyn_npys/m_100.npy').reshape(-1, 3)[:, 2]\n",
    "x = np.arange(len(m0_z))\n",
    "\n",
    "print 'Maximum |m_z| in the 100th snapshot, at x =', x[np.argmax(np.abs(m0_z))]"
   ]
  },
  {
   "cell_type": "code",
   "execution_count": 15,
   "metadata": {
    "collapsed": false
   },
   "outputs": [
    {
     "name": "stdout",
     "output_type": "stream",
     "text": [
      "Maximum |m_z| in the 150th snapshot, at x = 251\n"
     ]
    }
   ],
   "source": [
    "m0_z = np.load('dyn_npys/m_150.npy').reshape(-1, 3)[:, 2]\n",
    "\n",
    "print 'Maximum |m_z| in the 150th snapshot, at x =', x[np.argmax(np.abs(m0_z))]"
   ]
  }
 ],
 "metadata": {
  "kernelspec": {
   "display_name": "Python 2",
   "language": "python",
   "name": "python2"
  },
  "language_info": {
   "codemirror_mode": {
    "name": "ipython",
    "version": 2
   },
   "file_extension": ".py",
   "mimetype": "text/x-python",
   "name": "python",
   "nbconvert_exporter": "python",
   "pygments_lexer": "ipython2",
   "version": "2.7.6"
  }
 },
 "nbformat": 4,
 "nbformat_minor": 0
}
