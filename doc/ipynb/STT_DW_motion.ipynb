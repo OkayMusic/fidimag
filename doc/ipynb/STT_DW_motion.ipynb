{
 "metadata": {
  "name": "",
  "signature": "sha256:16194d967dcafe3d796e4992b22791e24a71fec42057821b4105872da2da7b0f"
 },
 "nbformat": 3,
 "nbformat_minor": 0,
 "worksheets": [
  {
   "cells": [
    {
     "cell_type": "heading",
     "level": 1,
     "metadata": {},
     "source": [
      "DW motion using Spin Polarised Currents"
     ]
    },
    {
     "cell_type": "heading",
     "level": 2,
     "metadata": {},
     "source": [
      "Libraries"
     ]
    },
    {
     "cell_type": "code",
     "collapsed": false,
     "input": [
      "import matplotlib as mpl\n",
      "mpl.use(\"Agg\")\n",
      "import matplotlib.pyplot as plt\n",
      "import numpy as np\n",
      "\n",
      "# FIDIMAG libraries\n",
      "from micro import Sim\n",
      "from micro import FDMesh\n",
      "\n",
      "# The energies (we can use DMI in a future simulation)\n",
      "from micro import UniformExchange\n",
      "from micro import UniaxialAnisotropy\n",
      "# from micro import DMI"
     ],
     "language": "python",
     "metadata": {},
     "outputs": [],
     "prompt_number": 1
    },
    {
     "cell_type": "code",
     "collapsed": false,
     "input": [
      "%matplotlib inline"
     ],
     "language": "python",
     "metadata": {},
     "outputs": [],
     "prompt_number": 2
    },
    {
     "cell_type": "heading",
     "level": 2,
     "metadata": {},
     "source": [
      "Simulation Functions"
     ]
    },
    {
     "cell_type": "markdown",
     "metadata": {},
     "source": [
      "We start defining functions to run the Fidimag simulations. The initial state is a rough approximation of a Domain Wall (DW):"
     ]
    },
    {
     "cell_type": "code",
     "collapsed": false,
     "input": [
      "mu0 = 4 * np.pi * 1e-7\n",
      "\n",
      "# Initial State, a rough DW in a 1D chain\n",
      "def init_m(pos):\n",
      "\n",
      "    x = pos[0]\n",
      "\n",
      "    if x < 400:\n",
      "        return (1, 0, 0)\n",
      "    elif 400 <= x < 500:\n",
      "        return (0, 1, 1)\n",
      "    else:\n",
      "        return (-1, 0, 0)\n"
     ],
     "language": "python",
     "metadata": {},
     "outputs": [],
     "prompt_number": 3
    },
    {
     "cell_type": "markdown",
     "metadata": {},
     "source": [
      "The initial state will be relaxed for a specific mesh:"
     ]
    },
    {
     "cell_type": "code",
     "collapsed": false,
     "input": [
      "def relax_system(mesh):\n",
      "\n",
      "    # Only relaxation\n",
      "    sim = Sim(mesh, name='relax')\n",
      "\n",
      "    # Simulation parameters\n",
      "    sim.set_tols(rtol=1e-8, atol=1e-10)\n",
      "    sim.alpha = 0.5\n",
      "    sim.gamma = 2.211e5\n",
      "    sim.Ms = 8.6e5\n",
      "    sim.do_procession = False\n",
      "\n",
      "    # The initial state passed as a function\n",
      "    sim.set_m(init_m)\n",
      "    # sim.set_m(np.load('m0.npy'))\n",
      "\n",
      "    # Energies\n",
      "    A = 1.3e-11\n",
      "    exch = UniformExchange(A=A)\n",
      "    sim.add(exch)\n",
      "\n",
      "    anis = UniaxialAnisotropy(5e4)\n",
      "    sim.add(anis)\n",
      "\n",
      "    # dmi = DMI(D=8e-4)\n",
      "    # sim.add(dmi)\n",
      "\n",
      "    # Start relaxation and save the state in m0.npy\n",
      "    sim.relax(dt=1e-14, stopping_dmdt=0.00001, max_steps=5000,\n",
      "              save_m_steps=None, save_vtk_steps=None)\n",
      "\n",
      "    np.save('m0.npy', sim.spin)"
     ],
     "language": "python",
     "metadata": {},
     "outputs": [],
     "prompt_number": 4
    },
    {
     "cell_type": "markdown",
     "metadata": {},
     "source": [
      "A plot of the system can be done with the following function, which shows a specific magnetisation component along the 1D chain of spins."
     ]
    },
    {
     "cell_type": "code",
     "collapsed": false,
     "input": [
      "def plot_magnetisation(_list, save_file=None):\n",
      "    \"\"\"\n",
      "    The list contain any number of list with two entries:\n",
      "    the _file path and the component of the magnetisation\n",
      "    in the formats:\n",
      "\n",
      "            mx, my, mz\n",
      "\n",
      "    e.g.\n",
      "            _list = [ ['m0.npy', 'mz'], ... ]\n",
      "    \n",
      "    Optional:\n",
      "        save_file     :: output file name in a string\n",
      "\n",
      "    \"\"\"\n",
      "\n",
      "    plt.figure(figsize=(8, 6))\n",
      "\n",
      "    comp = {'mx': 0, 'my': 1, 'mz': 2}\n",
      "\n",
      "    for element in _list:\n",
      "        # element[0]  --> _file\n",
      "        # element[1]  --> m component: mx, my or mz\n",
      "        \n",
      "        # The npy files contain the spin vector components in the\n",
      "        # format:\n",
      "        #     [mx1, mx2, mx3, ... , my1, my2, my3, ... , mz1, mz2, mz3, ...]\n",
      "        #\n",
      "        # Thus we convert this to a  3 x N array and extract the\n",
      "        # component specified in every list\n",
      "        data = np.load(element[0])\n",
      "        data.shape = (3, -1)\n",
      "\n",
      "        mx = data[comp[element[1]]]\n",
      "        \n",
      "        # The label is the component and the file name\n",
      "        plt.plot(mx,\n",
      "                 label=element[1] + ' / %s' % element[0],\n",
      "                 lw=2\n",
      "                 )\n",
      "\n",
      "    plt.legend()\n",
      "    # We assume the chain is in the x direction\n",
      "    plt.xlabel(r'x')\n",
      "    \n",
      "    if save_file:\n",
      "        plt.savefig(output_file)\n",
      "    \n",
      "    plt.show()"
     ],
     "language": "python",
     "metadata": {},
     "outputs": [],
     "prompt_number": 5
    },
    {
     "cell_type": "markdown",
     "metadata": {},
     "source": [
      "The last function is the excitation with a current in the -x direction. This will cause the DW to motion, which we will plot later to observe the dynamical process. All the *npy* and *vtk* files are saved in the **\\{simulation_name\\}_npys** and **\\{simulation_name\\}_vtks** folders, respectively."
     ]
    },
    {
     "cell_type": "code",
     "collapsed": false,
     "input": [
      "# This function excites the system with a\n",
      "# current in the x-direction using Spin Transfer Torque\n",
      "# formalism\n",
      "def excite_system(mesh):\n",
      "\n",
      "    # Specify the stt dynamics in the simulation\n",
      "    sim = Sim(mesh, name='dyn', driver='llg_stt')\n",
      "    \n",
      "    # Set the simulation parameters\n",
      "    sim.set_tols(rtol=1e-12, atol=1e-14)\n",
      "    sim.alpha = 0.05\n",
      "    sim.gamma = 2.211e5\n",
      "    sim.Ms = 8.6e5\n",
      "\n",
      "    # Load the initial state from the npy file saved\n",
      "    # in the realxation\n",
      "    sim.set_m(np.load('m0.npy'))\n",
      "\n",
      "    # Add the energies\n",
      "    A = 1.3e-11\n",
      "    exch = UniformExchange(A=A)\n",
      "    sim.add(exch)\n",
      "\n",
      "    anis = UniaxialAnisotropy(5e4)\n",
      "    sim.add(anis)\n",
      "\n",
      "    # dmi = DMI(D=8e-4)\n",
      "    # sim.add(dmi)\n",
      "\n",
      "    # Set the current in the x direction, in A / m\n",
      "    # beta is the parameter in the STT torque\n",
      "    sim.jx = -1e12\n",
      "    sim.beta = 1\n",
      "\n",
      "    # The simulation will run for 5 ns and save\n",
      "    # 500 snapshots of the system in the process\n",
      "    ts = np.linspace(0, 5e-9, 501)\n",
      "\n",
      "    for t in ts:\n",
      "        print 'time', t\n",
      "        sim.run_until(t)\n",
      "        sim.save_vtk()\n",
      "        sim.save_m()\n"
     ],
     "language": "python",
     "metadata": {},
     "outputs": [],
     "prompt_number": 6
    },
    {
     "cell_type": "heading",
     "level": 2,
     "metadata": {},
     "source": [
      "Initiate Simulation"
     ]
    },
    {
     "cell_type": "markdown",
     "metadata": {},
     "source": [
      "In Fidimag, `nx`, `ny` and `nz` are the number of `dx`, `dy` and `dz` elements in the corresponding directions. The mesh is used in the previously defined functions: "
     ]
    },
    {
     "cell_type": "heading",
     "level": 3,
     "metadata": {},
     "source": [
      "Relaxation"
     ]
    },
    {
     "cell_type": "code",
     "collapsed": false,
     "input": [
      "# We will crate a mesh with 1000 elements of elements\n",
      "# in the x direction, and 1 along y and z\n",
      "# (so we have a 1D system)\n",
      "mesh = FDMesh(nx=1000, ny=1, nz=1,\n",
      "              dx=2, dy=2, dz=2.0,\n",
      "              unit_length=1e-9)\n",
      "\n",
      "# Relax the initial state. It will save the last state\n",
      "# to the m0.npy file\n",
      "relax_system(mesh)"
     ],
     "language": "python",
     "metadata": {},
     "outputs": [
      {
       "output_type": "stream",
       "stream": "stdout",
       "text": [
        "step=1, time=1e-14, max_dmdt=30397.1 ode_step=0\n",
        "step=2, time=2e-14, max_dmdt=30235.8 ode_step=2.41132e-15\n",
        "step=3, time=3e-14, max_dmdt=30072.8 ode_step=5.41005e-15\n",
        "step=4, time=4e-14, max_dmdt=29908.2 ode_step=9.49872e-15\n",
        "step=5, time=5e-14, max_dmdt=29742 ode_step=9.49872e-15\n",
        "step=6, time=6e-14, max_dmdt=29574.3 ode_step=9.49872e-15\n",
        "step=7, time=7e-14, max_dmdt=29405.2 ode_step=9.49872e-15\n",
        "step=8, time=8.63609e-14, max_dmdt=29180 ode_step=1.63609e-14\n",
        "step=9, time=1.02722e-13, max_dmdt=28897.6 ode_step=1.63609e-14\n",
        "step=10, time=1.19083e-13, max_dmdt=28611.8 ode_step=1.63609e-14\n",
        "step=11, time=1.35444e-13, max_dmdt=28323 ode_step=1.63609e-14\n",
        "step=12, time=1.51804e-13, max_dmdt=28031.5 ode_step=1.63609e-14\n",
        "step=13, time=1.68165e-13, max_dmdt=27737.4 ode_step=1.63609e-14\n",
        "step=14, time=1.97464e-13, max_dmdt=27322.9 ode_step=2.92981e-14\n",
        "step=15, time=2.26762e-13, max_dmdt=26786 ode_step=2.92981e-14"
       ]
      },
      {
       "output_type": "stream",
       "stream": "stdout",
       "text": [
        "\n",
        "step=16, time=2.5606e-13, max_dmdt=26244.1 ode_step=2.92981e-14\n",
        "step=17, time=2.85358e-13, max_dmdt=25698.6 ode_step=2.92981e-14"
       ]
      },
      {
       "output_type": "stream",
       "stream": "stdout",
       "text": [
        "\n",
        "step=18, time=3.14656e-13, max_dmdt=25150.7 ode_step=2.92981e-14\n",
        "step=19, time=3.43954e-13, max_dmdt=24601.5 ode_step=2.92981e-14"
       ]
      },
      {
       "output_type": "stream",
       "stream": "stdout",
       "text": [
        "\n",
        "step=20, time=3.73252e-13, max_dmdt=24052.3 ode_step=2.92981e-14\n",
        "step=21, time=4.02551e-13, max_dmdt=23504.1 ode_step=2.92981e-14\n",
        "step=22, time=4.31849e-13, max_dmdt=22958 ode_step=2.92981e-14"
       ]
      },
      {
       "output_type": "stream",
       "stream": "stdout",
       "text": [
        "\n",
        "step=23, time=4.80876e-13, max_dmdt=22232.9 ode_step=4.90272e-14\n",
        "step=24, time=5.29903e-13, max_dmdt=21335.8 ode_step=4.90272e-14\n",
        "step=25, time=5.7893e-13, max_dmdt=20454 ode_step=4.90272e-14"
       ]
      },
      {
       "output_type": "stream",
       "stream": "stdout",
       "text": [
        "\n",
        "step=26, time=6.27958e-13, max_dmdt=19590.6 ode_step=4.90272e-14\n",
        "step=27, time=6.76985e-13, max_dmdt=18748.3 ode_step=4.90272e-14"
       ]
      },
      {
       "output_type": "stream",
       "stream": "stdout",
       "text": [
        "\n",
        "step=28, time=7.26012e-13, max_dmdt=17929.1 ode_step=4.90272e-14\n",
        "step=29, time=7.75039e-13, max_dmdt=17134.8 ode_step=4.90272e-14"
       ]
      },
      {
       "output_type": "stream",
       "stream": "stdout",
       "text": [
        "\n",
        "step=30, time=8.24066e-13, max_dmdt=16366.7 ode_step=4.90272e-14\n",
        "step=31, time=8.73094e-13, max_dmdt=15625.9 ode_step=4.90272e-14\n",
        "step=32, time=9.22121e-13, max_dmdt=14912.8 ode_step=4.90272e-14"
       ]
      },
      {
       "output_type": "stream",
       "stream": "stdout",
       "text": [
        "\n",
        "step=33, time=9.71148e-13, max_dmdt=14228 ode_step=4.90272e-14"
       ]
      },
      {
       "output_type": "stream",
       "stream": "stdout",
       "text": [
        "\n",
        "step=34, time=1.02018e-12, max_dmdt=13571.4 ode_step=4.90272e-14\n",
        "step=35, time=1.0692e-12, max_dmdt=12942.9 ode_step=4.90272e-14"
       ]
      },
      {
       "output_type": "stream",
       "stream": "stdout",
       "text": [
        "\n",
        "step=36, time=1.11823e-12, max_dmdt=12342.3 ode_step=4.90272e-14\n",
        "step=37, time=1.16726e-12, max_dmdt=11769 ode_step=4.90272e-14"
       ]
      },
      {
       "output_type": "stream",
       "stream": "stdout",
       "text": [
        "\n",
        "step=38, time=1.21628e-12, max_dmdt=11222.6 ode_step=4.90272e-14\n",
        "step=39, time=1.26531e-12, max_dmdt=10702.2 ode_step=4.90272e-14\n",
        "step=40, time=1.31434e-12, max_dmdt=10207.2 ode_step=4.90272e-14\n",
        "step=41, time=1.36337e-12, max_dmdt=9736.7 ode_step=4.90272e-14"
       ]
      },
      {
       "output_type": "stream",
       "stream": "stdout",
       "text": [
        "\n",
        "step=42, time=1.41239e-12, max_dmdt=9289.81 ode_step=4.90272e-14\n",
        "step=43, time=1.46142e-12, max_dmdt=8865.65 ode_step=4.90272e-14\n",
        "step=44, time=1.51045e-12, max_dmdt=8463.28 ode_step=4.90272e-14"
       ]
      },
      {
       "output_type": "stream",
       "stream": "stdout",
       "text": [
        "\n",
        "step=45, time=1.55947e-12, max_dmdt=8081.78 ode_step=4.90272e-14\n",
        "step=46, time=1.6085e-12, max_dmdt=7720.22 ode_step=4.90272e-14\n",
        "step=47, time=1.65753e-12, max_dmdt=7377.68 ode_step=4.90272e-14\n",
        "step=48, time=1.70656e-12, max_dmdt=7053.24 ode_step=4.90272e-14"
       ]
      },
      {
       "output_type": "stream",
       "stream": "stdout",
       "text": [
        "\n",
        "step=49, time=1.78163e-12, max_dmdt=6668.1 ode_step=7.50752e-14"
       ]
      },
      {
       "output_type": "stream",
       "stream": "stdout",
       "text": [
        "\n",
        "step=50, time=1.85671e-12, max_dmdt=6235.36 ode_step=7.50752e-14"
       ]
      },
      {
       "output_type": "stream",
       "stream": "stdout",
       "text": [
        "\n",
        "step=51, time=1.93178e-12, max_dmdt=6021.35 ode_step=7.50752e-14"
       ]
      },
      {
       "output_type": "stream",
       "stream": "stdout",
       "text": [
        "\n",
        "step=52, time=2.00686e-12, max_dmdt=5892.79 ode_step=7.50752e-14\n",
        "step=53, time=2.08193e-12, max_dmdt=5762.59 ode_step=7.50752e-14"
       ]
      },
      {
       "output_type": "stream",
       "stream": "stdout",
       "text": [
        "\n",
        "step=54, time=2.15701e-12, max_dmdt=5631.63 ode_step=7.50752e-14\n",
        "step=55, time=2.23208e-12, max_dmdt=5500.69 ode_step=7.50752e-14\n",
        "step=56, time=2.30716e-12, max_dmdt=5370.4 ode_step=7.50752e-14\n",
        "step=57, time=2.38223e-12, max_dmdt=5241.29 ode_step=7.50752e-14\n",
        "step=58, time=2.45731e-12, max_dmdt=5113.8 ode_step=7.50752e-14\n",
        "step=59, time=2.53238e-12, max_dmdt=4988.3 ode_step=7.50752e-14\n",
        "step=60, time=2.60746e-12, max_dmdt=4865.08 ode_step=7.50752e-14"
       ]
      },
      {
       "output_type": "stream",
       "stream": "stdout",
       "text": [
        "\n",
        "step=61, time=2.68253e-12, max_dmdt=4744.37 ode_step=7.50752e-14\n",
        "step=62, time=2.75761e-12, max_dmdt=4626.35 ode_step=7.50752e-14\n",
        "step=63, time=2.83268e-12, max_dmdt=4511.17 ode_step=7.50752e-14\n",
        "step=64, time=2.90776e-12, max_dmdt=4398.91 ode_step=7.50752e-14"
       ]
      },
      {
       "output_type": "stream",
       "stream": "stdout",
       "text": [
        "\n",
        "step=65, time=2.98283e-12, max_dmdt=4289.66 ode_step=7.50752e-14\n",
        "step=66, time=3.05791e-12, max_dmdt=4183.43 ode_step=7.50752e-14"
       ]
      },
      {
       "output_type": "stream",
       "stream": "stdout",
       "text": [
        "\n",
        "step=67, time=3.17069e-12, max_dmdt=4054.99 ode_step=1.12781e-13\n",
        "step=68, time=3.28347e-12, max_dmdt=3906.86 ode_step=1.12781e-13\n",
        "step=69, time=3.39625e-12, max_dmdt=3765.5 ode_step=1.12781e-13"
       ]
      },
      {
       "output_type": "stream",
       "stream": "stdout",
       "text": [
        "\n",
        "step=70, time=3.50903e-12, max_dmdt=3630.75 ode_step=1.12781e-13\n",
        "step=71, time=3.62181e-12, max_dmdt=3502.43 ode_step=1.12781e-13"
       ]
      },
      {
       "output_type": "stream",
       "stream": "stdout",
       "text": [
        "\n",
        "step=72, time=3.73459e-12, max_dmdt=3380.3 ode_step=1.12781e-13\n",
        "step=73, time=3.84737e-12, max_dmdt=3264.12 ode_step=1.12781e-13\n",
        "step=74, time=3.96015e-12, max_dmdt=3153.64 ode_step=1.12781e-13\n",
        "step=75, time=4.07293e-12, max_dmdt=3048.57 ode_step=1.12781e-13"
       ]
      },
      {
       "output_type": "stream",
       "stream": "stdout",
       "text": [
        "\n",
        "step=76, time=4.18572e-12, max_dmdt=2948.67 ode_step=1.12781e-13\n",
        "step=77, time=4.2985e-12, max_dmdt=2853.67 ode_step=1.12781e-13\n",
        "step=78, time=4.41128e-12, max_dmdt=2763.32 ode_step=1.12781e-13\n",
        "step=79, time=4.52406e-12, max_dmdt=2677.35 ode_step=1.12781e-13\n",
        "step=80, time=4.63684e-12, max_dmdt=2595.54 ode_step=1.12781e-13"
       ]
      },
      {
       "output_type": "stream",
       "stream": "stdout",
       "text": [
        "\n",
        "step=81, time=4.74962e-12, max_dmdt=2517.65 ode_step=1.12781e-13"
       ]
      },
      {
       "output_type": "stream",
       "stream": "stdout",
       "text": [
        "\n",
        "step=82, time=4.8624e-12, max_dmdt=2448.18 ode_step=1.12781e-13\n",
        "step=83, time=4.97518e-12, max_dmdt=2407.44 ode_step=1.12781e-13\n",
        "step=84, time=5.14436e-12, max_dmdt=2357.28 ode_step=1.69182e-13"
       ]
      },
      {
       "output_type": "stream",
       "stream": "stdout",
       "text": [
        "\n",
        "step=85, time=5.31354e-12, max_dmdt=2298.26 ode_step=1.69182e-13"
       ]
      },
      {
       "output_type": "stream",
       "stream": "stdout",
       "text": [
        "\n",
        "step=86, time=5.48272e-12, max_dmdt=2240.69 ode_step=1.69182e-13\n",
        "step=87, time=5.65191e-12, max_dmdt=2184.68 ode_step=1.69182e-13\n",
        "step=88, time=5.82109e-12, max_dmdt=2130.28 ode_step=1.69182e-13\n",
        "step=89, time=5.99027e-12, max_dmdt=2077.54 ode_step=1.69182e-13"
       ]
      },
      {
       "output_type": "stream",
       "stream": "stdout",
       "text": [
        "\n",
        "step=90, time=6.15945e-12, max_dmdt=2026.47 ode_step=1.69182e-13\n",
        "step=91, time=6.32864e-12, max_dmdt=1977.07 ode_step=1.69182e-13\n",
        "step=92, time=6.49782e-12, max_dmdt=1929.32 ode_step=1.69182e-13\n",
        "step=93, time=6.667e-12, max_dmdt=1883.2 ode_step=1.69182e-13"
       ]
      },
      {
       "output_type": "stream",
       "stream": "stdout",
       "text": [
        "\n",
        "step=94, time=6.83618e-12, max_dmdt=1838.67 ode_step=1.69182e-13\n",
        "step=95, time=7.00536e-12, max_dmdt=1795.7 ode_step=1.69182e-13\n",
        "step=96, time=7.17455e-12, max_dmdt=1754.24 ode_step=1.69182e-13\n",
        "step=97, time=7.34373e-12, max_dmdt=1714.24 ode_step=1.69182e-13"
       ]
      },
      {
       "output_type": "stream",
       "stream": "stdout",
       "text": [
        "\n",
        "step=98, time=7.51291e-12, max_dmdt=1675.66 ode_step=1.69182e-13\n",
        "step=99, time=7.68209e-12, max_dmdt=1638.45 ode_step=1.69182e-13"
       ]
      },
      {
       "output_type": "stream",
       "stream": "stdout",
       "text": [
        "\n",
        "step=100, time=7.85127e-12, max_dmdt=1602.55 ode_step=1.69182e-13\n",
        "step=101, time=8.10535e-12, max_dmdt=1559.49 ode_step=2.54072e-13\n",
        "step=102, time=8.35942e-12, max_dmdt=1510.19 ode_step=2.54072e-13\n",
        "step=103, time=8.61349e-12, max_dmdt=1463.46 ode_step=2.54072e-13\n",
        "step=104, time=8.86756e-12, max_dmdt=1419.13 ode_step=2.54072e-13\n",
        "step=105, time=9.12164e-12, max_dmdt=1377.06 ode_step=2.54072e-13\n",
        "step=106, time=9.37571e-12, max_dmdt=1337.11 ode_step=2.54072e-13\n",
        "step=107, time=9.62978e-12, max_dmdt=1299.15 ode_step=2.54072e-13"
       ]
      },
      {
       "output_type": "stream",
       "stream": "stdout",
       "text": [
        "\n",
        "step=108, time=9.88385e-12, max_dmdt=1263.06 ode_step=2.54072e-13\n",
        "step=109, time=1.01379e-11, max_dmdt=1236.91 ode_step=2.54072e-13\n",
        "step=110, time=1.0392e-11, max_dmdt=1213.18 ode_step=2.54072e-13\n",
        "step=111, time=1.06461e-11, max_dmdt=1190.08 ode_step=2.54072e-13"
       ]
      },
      {
       "output_type": "stream",
       "stream": "stdout",
       "text": [
        "\n",
        "step=112, time=1.09001e-11, max_dmdt=1167.61 ode_step=2.54072e-13"
       ]
      },
      {
       "output_type": "stream",
       "stream": "stdout",
       "text": [
        "\n",
        "step=113, time=1.11542e-11, max_dmdt=1145.77 ode_step=2.54072e-13\n",
        "step=114, time=1.14083e-11, max_dmdt=1124.55 ode_step=2.54072e-13\n",
        "step=115, time=1.16624e-11, max_dmdt=1103.94 ode_step=2.54072e-13"
       ]
      },
      {
       "output_type": "stream",
       "stream": "stdout",
       "text": [
        "\n",
        "step=116, time=1.19164e-11, max_dmdt=1083.92 ode_step=2.54072e-13"
       ]
      },
      {
       "output_type": "stream",
       "stream": "stdout",
       "text": [
        "\n",
        "step=117, time=1.21705e-11, max_dmdt=1064.49 ode_step=2.54072e-13\n",
        "step=118, time=1.24246e-11, max_dmdt=1045.63 ode_step=2.54072e-13\n",
        "step=119, time=1.26786e-11, max_dmdt=1027.32 ode_step=2.54072e-13"
       ]
      },
      {
       "output_type": "stream",
       "stream": "stdout",
       "text": [
        "\n",
        "step=120, time=1.29327e-11, max_dmdt=1009.56 ode_step=2.54072e-13\n",
        "step=121, time=1.33192e-11, max_dmdt=987.926 ode_step=3.86498e-13"
       ]
      },
      {
       "output_type": "stream",
       "stream": "stdout",
       "text": [
        "\n",
        "step=122, time=1.37057e-11, max_dmdt=962.853 ode_step=3.86498e-13\n",
        "step=123, time=1.40922e-11, max_dmdt=938.889 ode_step=3.86498e-13\n",
        "step=124, time=1.44787e-11, max_dmdt=915.979 ode_step=3.86498e-13\n",
        "step=125, time=1.48652e-11, max_dmdt=894.071 ode_step=3.86498e-13"
       ]
      },
      {
       "output_type": "stream",
       "stream": "stdout",
       "text": [
        "\n",
        "step=126, time=1.52517e-11, max_dmdt=873.114 ode_step=3.86498e-13\n",
        "step=127, time=1.56382e-11, max_dmdt=853.058 ode_step=3.86498e-13"
       ]
      },
      {
       "output_type": "stream",
       "stream": "stdout",
       "text": [
        "\n",
        "step=128, time=1.60247e-11, max_dmdt=833.857 ode_step=3.86498e-13\n",
        "step=129, time=1.64112e-11, max_dmdt=815.466 ode_step=3.86498e-13\n",
        "step=130, time=1.67977e-11, max_dmdt=797.843 ode_step=3.86498e-13\n",
        "step=131, time=1.71842e-11, max_dmdt=780.949 ode_step=3.86498e-13"
       ]
      },
      {
       "output_type": "stream",
       "stream": "stdout",
       "text": [
        "\n",
        "step=132, time=1.75707e-11, max_dmdt=765.804 ode_step=3.86498e-13\n",
        "step=133, time=1.79572e-11, max_dmdt=753.61 ode_step=3.86498e-13\n",
        "step=134, time=1.83437e-11, max_dmdt=741.745 ode_step=3.86498e-13\n",
        "step=135, time=1.87302e-11, max_dmdt=730.204 ode_step=3.86498e-13\n",
        "step=136, time=1.91167e-11, max_dmdt=718.981 ode_step=3.86498e-13\n",
        "step=137, time=1.95032e-11, max_dmdt=708.067 ode_step=3.86498e-13\n",
        "step=138, time=1.98897e-11, max_dmdt=697.456 ode_step=3.86498e-13\n",
        "step=139, time=2.02762e-11, max_dmdt=687.139 ode_step=3.86498e-13\n",
        "step=140, time=2.06627e-11, max_dmdt=677.108 ode_step=3.86498e-13\n",
        "step=141, time=2.12529e-11, max_dmdt=664.846 ode_step=5.90245e-13"
       ]
      },
      {
       "output_type": "stream",
       "stream": "stdout",
       "text": [
        "\n",
        "step=142, time=2.18432e-11, max_dmdt=650.577 ode_step=5.90245e-13\n",
        "step=143, time=2.24334e-11, max_dmdt=636.906 ode_step=5.90245e-13\n",
        "step=144, time=2.30237e-11, max_dmdt=623.804 ode_step=5.90245e-13\n",
        "step=145, time=2.36139e-11, max_dmdt=611.244 ode_step=5.90245e-13\n",
        "step=146, time=2.42041e-11, max_dmdt=599.2 ode_step=5.90245e-13\n",
        "step=147, time=2.47944e-11, max_dmdt=587.647 ode_step=5.90245e-13\n",
        "step=148, time=2.53846e-11, max_dmdt=576.56 ode_step=5.90245e-13\n",
        "step=149, time=2.59749e-11, max_dmdt=565.917 ode_step=5.90245e-13\n",
        "step=150, time=2.65651e-11, max_dmdt=555.695 ode_step=5.90245e-13\n",
        "step=151, time=2.71554e-11, max_dmdt=545.874 ode_step=5.90245e-13\n",
        "step=152, time=2.77456e-11, max_dmdt=536.433 ode_step=5.90245e-13\n",
        "step=153, time=2.83359e-11, max_dmdt=528.826 ode_step=5.90245e-13\n",
        "step=154, time=2.92752e-11, max_dmdt=519.534 ode_step=9.39343e-13\n",
        "step=155, time=3.02145e-11, max_dmdt=508.572 ode_step=9.39343e-13"
       ]
      },
      {
       "output_type": "stream",
       "stream": "stdout",
       "text": [
        "\n",
        "step=156, time=3.11539e-11, max_dmdt=498.102 ode_step=9.39343e-13\n",
        "step=157, time=3.20932e-11, max_dmdt=488.101 ode_step=9.39343e-13\n",
        "step=158, time=3.30326e-11, max_dmdt=478.547 ode_step=9.39343e-13\n",
        "step=159, time=3.39719e-11, max_dmdt=469.418 ode_step=9.39343e-13\n",
        "step=160, time=3.49113e-11, max_dmdt=460.692 ode_step=9.39343e-13\n",
        "step=161, time=3.58506e-11, max_dmdt=452.348 ode_step=9.39343e-13\n",
        "step=162, time=3.67899e-11, max_dmdt=444.365 ode_step=9.39343e-13\n",
        "step=163, time=3.77293e-11, max_dmdt=436.726 ode_step=9.39343e-13\n",
        "step=164, time=3.86686e-11, max_dmdt=429.411 ode_step=9.39343e-13\n",
        "step=165, time=3.9608e-11, max_dmdt=422.403 ode_step=9.39343e-13\n",
        "step=166, time=4.05473e-11, max_dmdt=415.685 ode_step=9.39343e-13\n",
        "step=167, time=4.14867e-11, max_dmdt=409.551 ode_step=9.39343e-13"
       ]
      },
      {
       "output_type": "stream",
       "stream": "stdout",
       "text": [
        "\n",
        "step=168, time=4.2426e-11, max_dmdt=404.379 ode_step=9.39343e-13\n",
        "step=169, time=4.33653e-11, max_dmdt=399.372 ode_step=9.39343e-13\n",
        "step=170, time=4.43047e-11, max_dmdt=394.524 ode_step=9.39343e-13\n",
        "step=171, time=4.5244e-11, max_dmdt=389.831 ode_step=9.39343e-13\n",
        "step=172, time=4.61834e-11, max_dmdt=385.285 ode_step=9.39343e-13\n",
        "step=173, time=4.71227e-11, max_dmdt=380.883 ode_step=9.39343e-13\n",
        "step=174, time=4.80621e-11, max_dmdt=376.619 ode_step=9.39343e-13\n",
        "step=175, time=4.94715e-11, max_dmdt=371.479 ode_step=1.40943e-12\n",
        "step=176, time=5.08809e-11, max_dmdt=365.562 ode_step=1.40943e-12\n",
        "step=177, time=5.22903e-11, max_dmdt=359.914 ode_step=1.40943e-12\n",
        "step=178, time=5.36998e-11, max_dmdt=354.517 ode_step=1.40943e-12\n",
        "step=179, time=5.51092e-11, max_dmdt=349.358 ode_step=1.40943e-12"
       ]
      },
      {
       "output_type": "stream",
       "stream": "stdout",
       "text": [
        "\n",
        "step=180, time=5.65186e-11, max_dmdt=344.423 ode_step=1.40943e-12\n",
        "step=181, time=5.79281e-11, max_dmdt=340.059 ode_step=1.40943e-12\n",
        "step=182, time=5.93375e-11, max_dmdt=336.282 ode_step=1.40943e-12\n",
        "step=183, time=6.07469e-11, max_dmdt=332.633 ode_step=1.40943e-12\n",
        "step=184, time=6.21563e-11, max_dmdt=329.107 ode_step=1.40943e-12\n",
        "step=185, time=6.35658e-11, max_dmdt=325.698 ode_step=1.40943e-12\n",
        "step=186, time=6.49752e-11, max_dmdt=322.402 ode_step=1.40943e-12\n",
        "step=187, time=6.63846e-11, max_dmdt=319.214 ode_step=1.40943e-12\n",
        "step=188, time=6.7794e-11, max_dmdt=316.128 ode_step=1.40943e-12\n",
        "step=189, time=6.92035e-11, max_dmdt=313.139 ode_step=1.40943e-12\n",
        "step=190, time=7.06129e-11, max_dmdt=310.244 ode_step=1.40943e-12\n",
        "step=191, time=7.20223e-11, max_dmdt=307.437 ode_step=1.40943e-12"
       ]
      },
      {
       "output_type": "stream",
       "stream": "stdout",
       "text": [
        "\n",
        "step=192, time=7.34318e-11, max_dmdt=304.715 ode_step=1.40943e-12\n",
        "step=193, time=7.48412e-11, max_dmdt=302.128 ode_step=1.40943e-12\n",
        "step=194, time=7.62506e-11, max_dmdt=300.048 ode_step=1.40943e-12\n",
        "step=195, time=7.766e-11, max_dmdt=298.015 ode_step=1.40943e-12\n",
        "step=196, time=7.90695e-11, max_dmdt=296.026 ode_step=1.40943e-12\n",
        "step=197, time=8.04789e-11, max_dmdt=294.08 ode_step=1.40943e-12\n",
        "step=198, time=8.18883e-11, max_dmdt=292.175 ode_step=1.40943e-12\n",
        "step=199, time=8.4008e-11, max_dmdt=289.847 ode_step=2.11963e-12\n",
        "step=200, time=8.61276e-11, max_dmdt=287.125 ode_step=2.11963e-12\n",
        "step=201, time=8.82472e-11, max_dmdt=284.482 ode_step=2.11963e-12"
       ]
      },
      {
       "output_type": "stream",
       "stream": "stdout",
       "text": [
        "\n",
        "step=202, time=9.03669e-11, max_dmdt=281.911 ode_step=2.11963e-12\n",
        "step=203, time=9.24865e-11, max_dmdt=279.407 ode_step=2.11963e-12\n",
        "step=204, time=9.46061e-11, max_dmdt=277.33 ode_step=2.11963e-12\n",
        "step=205, time=9.67258e-11, max_dmdt=275.441 ode_step=2.11963e-12\n",
        "step=206, time=9.88454e-11, max_dmdt=273.574 ode_step=2.11963e-12\n",
        "step=207, time=1.00965e-10, max_dmdt=271.727 ode_step=2.11963e-12\n",
        "step=208, time=1.03085e-10, max_dmdt=269.897 ode_step=2.11963e-12\n",
        "step=209, time=1.05204e-10, max_dmdt=268.082 ode_step=2.11963e-12\n",
        "step=210, time=1.07324e-10, max_dmdt=266.279 ode_step=2.11963e-12\n",
        "step=211, time=1.09444e-10, max_dmdt=264.487 ode_step=2.11963e-12"
       ]
      },
      {
       "output_type": "stream",
       "stream": "stdout",
       "text": [
        "\n",
        "step=212, time=1.11563e-10, max_dmdt=262.703 ode_step=2.11963e-12\n",
        "step=213, time=1.13683e-10, max_dmdt=261.174 ode_step=2.11963e-12\n",
        "step=214, time=1.15802e-10, max_dmdt=259.765 ode_step=2.11963e-12\n",
        "step=215, time=1.1911e-10, max_dmdt=257.935 ode_step=3.30704e-12\n",
        "step=216, time=1.22417e-10, max_dmdt=255.665 ode_step=3.30704e-12\n",
        "step=217, time=1.25724e-10, max_dmdt=253.349 ode_step=3.30704e-12"
       ]
      },
      {
       "output_type": "stream",
       "stream": "stdout",
       "text": [
        "\n",
        "step=218, time=1.29031e-10, max_dmdt=250.983 ode_step=3.30704e-12\n",
        "step=219, time=1.32338e-10, max_dmdt=248.567 ode_step=3.30704e-12\n",
        "step=220, time=1.35645e-10, max_dmdt=246.132 ode_step=3.30704e-12\n",
        "step=221, time=1.38952e-10, max_dmdt=244.001 ode_step=3.30704e-12\n",
        "step=222, time=1.42259e-10, max_dmdt=241.783 ode_step=3.30704e-12\n",
        "step=223, time=1.45566e-10, max_dmdt=239.482 ode_step=3.30704e-12\n",
        "step=224, time=1.48873e-10, max_dmdt=237.098 ode_step=3.30704e-12\n",
        "step=225, time=1.5218e-10, max_dmdt=234.633 ode_step=3.30704e-12\n",
        "step=226, time=1.55487e-10, max_dmdt=232.091 ode_step=3.30704e-12"
       ]
      },
      {
       "output_type": "stream",
       "stream": "stdout",
       "text": [
        "\n",
        "step=227, time=1.58794e-10, max_dmdt=229.474 ode_step=3.30704e-12\n",
        "step=228, time=1.62101e-10, max_dmdt=226.784 ode_step=3.30704e-12\n",
        "step=229, time=1.65408e-10, max_dmdt=224.026 ode_step=3.30704e-12\n",
        "step=230, time=1.68715e-10, max_dmdt=221.319 ode_step=3.30704e-12\n",
        "step=231, time=1.72022e-10, max_dmdt=218.638 ode_step=3.30704e-12\n",
        "step=232, time=1.75329e-10, max_dmdt=215.88 ode_step=3.30704e-12\n",
        "step=233, time=1.78636e-10, max_dmdt=213.051 ode_step=3.30704e-12"
       ]
      },
      {
       "output_type": "stream",
       "stream": "stdout",
       "text": [
        "\n",
        "step=234, time=1.81943e-10, max_dmdt=210.156 ode_step=3.30704e-12\n",
        "step=235, time=1.8525e-10, max_dmdt=207.199 ode_step=3.30704e-12\n",
        "step=236, time=1.88557e-10, max_dmdt=204.186 ode_step=3.30704e-12\n",
        "step=237, time=1.91864e-10, max_dmdt=201.121 ode_step=3.30704e-12\n",
        "step=238, time=1.95171e-10, max_dmdt=198.01 ode_step=3.30704e-12\n",
        "step=239, time=1.98478e-10, max_dmdt=194.857 ode_step=3.30704e-12\n",
        "step=240, time=2.01785e-10, max_dmdt=191.668 ode_step=3.30704e-12\n",
        "step=241, time=2.07072e-10, max_dmdt=187.475 ode_step=5.28634e-12"
       ]
      },
      {
       "output_type": "stream",
       "stream": "stdout",
       "text": [
        "\n",
        "step=242, time=2.12358e-10, max_dmdt=182.264 ode_step=5.28634e-12\n",
        "step=243, time=2.17644e-10, max_dmdt=177.007 ode_step=5.28634e-12\n",
        "step=244, time=2.22931e-10, max_dmdt=171.724 ode_step=5.28634e-12\n",
        "step=245, time=2.28217e-10, max_dmdt=166.432 ode_step=5.28634e-12\n",
        "step=246, time=2.33503e-10, max_dmdt=161.148 ode_step=5.28634e-12\n",
        "step=247, time=2.3879e-10, max_dmdt=155.894 ode_step=5.28634e-12\n",
        "step=248, time=2.44076e-10, max_dmdt=150.724 ode_step=5.28634e-12"
       ]
      },
      {
       "output_type": "stream",
       "stream": "stdout",
       "text": [
        "\n",
        "step=249, time=2.49362e-10, max_dmdt=145.593 ode_step=5.28634e-12\n",
        "step=250, time=2.54649e-10, max_dmdt=140.514 ode_step=5.28634e-12\n",
        "step=251, time=2.59935e-10, max_dmdt=135.5 ode_step=5.28634e-12\n",
        "step=252, time=2.65221e-10, max_dmdt=130.561 ode_step=5.28634e-12\n",
        "step=253, time=2.70508e-10, max_dmdt=125.707 ode_step=5.28634e-12"
       ]
      },
      {
       "output_type": "stream",
       "stream": "stdout",
       "text": [
        "\n",
        "step=254, time=2.75794e-10, max_dmdt=120.948 ode_step=5.28634e-12\n",
        "step=255, time=2.8108e-10, max_dmdt=116.289 ode_step=5.28634e-12\n",
        "step=256, time=2.86367e-10, max_dmdt=111.738 ode_step=5.28634e-12\n",
        "step=257, time=2.91653e-10, max_dmdt=107.299 ode_step=5.28634e-12\n",
        "step=258, time=2.96939e-10, max_dmdt=102.977 ode_step=5.28634e-12\n",
        "step=259, time=3.02226e-10, max_dmdt=98.7752 ode_step=5.28634e-12"
       ]
      },
      {
       "output_type": "stream",
       "stream": "stdout",
       "text": [
        "\n",
        "step=260, time=3.07512e-10, max_dmdt=94.6961 ode_step=5.28634e-12\n",
        "step=261, time=3.12798e-10, max_dmdt=90.7415 ode_step=5.28634e-12\n",
        "step=262, time=3.18085e-10, max_dmdt=86.9123 ode_step=5.28634e-12\n",
        "step=263, time=3.23371e-10, max_dmdt=83.209 ode_step=5.28634e-12\n",
        "step=264, time=3.28657e-10, max_dmdt=79.6313 ode_step=5.28634e-12\n",
        "step=265, time=3.33944e-10, max_dmdt=76.1786 ode_step=5.28634e-12\n",
        "step=266, time=3.3923e-10, max_dmdt=72.8497 ode_step=5.28634e-12\n",
        "step=267, time=3.47543e-10, max_dmdt=68.7547 ode_step=8.31316e-12"
       ]
      },
      {
       "output_type": "stream",
       "stream": "stdout",
       "text": [
        "\n",
        "step=268, time=3.55856e-10, max_dmdt=64.0279 ode_step=8.31316e-12\n",
        "step=269, time=3.6417e-10, max_dmdt=59.59 ode_step=8.31316e-12"
       ]
      },
      {
       "output_type": "stream",
       "stream": "stdout",
       "text": [
        "\n",
        "step=270, time=3.72483e-10, max_dmdt=55.427 ode_step=8.31316e-12\n",
        "step=271, time=3.80796e-10, max_dmdt=51.5276 ode_step=8.31316e-12\n",
        "step=272, time=3.89109e-10, max_dmdt=47.8799 ode_step=8.31316e-12\n",
        "step=273, time=3.97422e-10, max_dmdt=44.472 ode_step=8.31316e-12\n",
        "step=274, time=4.05735e-10, max_dmdt=41.2912 ode_step=8.31316e-12"
       ]
      },
      {
       "output_type": "stream",
       "stream": "stdout",
       "text": [
        "\n",
        "step=275, time=4.14049e-10, max_dmdt=38.3255 ode_step=8.31316e-12\n",
        "step=276, time=4.22362e-10, max_dmdt=35.5626 ode_step=8.31316e-12"
       ]
      },
      {
       "output_type": "stream",
       "stream": "stdout",
       "text": [
        "\n",
        "step=277, time=4.30675e-10, max_dmdt=32.9906 ode_step=8.31316e-12\n",
        "step=278, time=4.38988e-10, max_dmdt=30.5981 ode_step=8.31316e-12\n",
        "step=279, time=4.47301e-10, max_dmdt=28.3738 ode_step=8.31316e-12\n",
        "step=280, time=4.55614e-10, max_dmdt=26.307 ode_step=8.31316e-12\n",
        "step=281, time=4.63928e-10, max_dmdt=24.3876 ode_step=8.31316e-12"
       ]
      },
      {
       "output_type": "stream",
       "stream": "stdout",
       "text": [
        "\n",
        "step=282, time=4.72241e-10, max_dmdt=22.6057 ode_step=8.31316e-12\n",
        "step=283, time=4.80554e-10, max_dmdt=20.9522 ode_step=8.31316e-12\n",
        "step=284, time=4.88867e-10, max_dmdt=19.4182 ode_step=8.31316e-12\n",
        "step=285, time=4.9718e-10, max_dmdt=17.9956 ode_step=8.31316e-12"
       ]
      },
      {
       "output_type": "stream",
       "stream": "stdout",
       "text": [
        "\n",
        "step=286, time=5.05493e-10, max_dmdt=16.6766 ode_step=8.31316e-12\n",
        "step=287, time=5.13807e-10, max_dmdt=15.4593 ode_step=8.31316e-12\n",
        "step=288, time=5.2212e-10, max_dmdt=14.3313 ode_step=8.31316e-12\n",
        "step=289, time=5.30433e-10, max_dmdt=13.2855 ode_step=8.31316e-12\n",
        "step=290, time=5.38746e-10, max_dmdt=12.3159 ode_step=8.31316e-12\n",
        "step=291, time=5.47059e-10, max_dmdt=11.4172 ode_step=8.31316e-12"
       ]
      },
      {
       "output_type": "stream",
       "stream": "stdout",
       "text": [
        "\n",
        "step=292, time=5.55372e-10, max_dmdt=10.5842 ode_step=8.31316e-12\n",
        "step=293, time=5.63686e-10, max_dmdt=9.81223 ode_step=8.31316e-12\n",
        "step=294, time=5.71999e-10, max_dmdt=9.09681 ode_step=8.31316e-12\n",
        "step=295, time=5.80312e-10, max_dmdt=8.43383 ode_step=8.31316e-12\n",
        "step=296, time=5.88625e-10, max_dmdt=7.81949 ode_step=8.31316e-12\n",
        "step=297, time=5.96938e-10, max_dmdt=7.2502 ode_step=8.31316e-12"
       ]
      },
      {
       "output_type": "stream",
       "stream": "stdout",
       "text": [
        "\n",
        "step=298, time=6.05251e-10, max_dmdt=6.72269 ode_step=8.31316e-12\n",
        "step=299, time=6.13565e-10, max_dmdt=6.23387 ode_step=8.31316e-12\n",
        "step=300, time=6.21878e-10, max_dmdt=5.78091 ode_step=8.31316e-12\n",
        "step=301, time=6.30191e-10, max_dmdt=5.36116 ode_step=8.31316e-12\n",
        "step=302, time=6.42784e-10, max_dmdt=4.87824 ode_step=1.25932e-11\n",
        "step=303, time=6.55377e-10, max_dmdt=4.3528 ode_step=1.25932e-11"
       ]
      },
      {
       "output_type": "stream",
       "stream": "stdout",
       "text": [
        "\n",
        "step=304, time=6.67971e-10, max_dmdt=3.88539 ode_step=1.25932e-11\n",
        "step=305, time=6.80564e-10, max_dmdt=3.46925 ode_step=1.25932e-11\n",
        "step=306, time=6.93157e-10, max_dmdt=3.09809 ode_step=1.25932e-11\n",
        "step=307, time=7.0575e-10, max_dmdt=2.76701 ode_step=1.25932e-11"
       ]
      },
      {
       "output_type": "stream",
       "stream": "stdout",
       "text": [
        "\n",
        "step=308, time=7.18344e-10, max_dmdt=2.47166 ode_step=1.25932e-11\n",
        "step=309, time=7.30937e-10, max_dmdt=2.20814 ode_step=1.25932e-11\n",
        "step=310, time=7.4353e-10, max_dmdt=1.97299 ode_step=1.25932e-11\n",
        "step=311, time=7.56123e-10, max_dmdt=1.76312 ode_step=1.25932e-11\n",
        "step=312, time=7.68716e-10, max_dmdt=1.5758 ode_step=1.25932e-11"
       ]
      },
      {
       "output_type": "stream",
       "stream": "stdout",
       "text": [
        "\n",
        "step=313, time=7.8131e-10, max_dmdt=1.40857 ode_step=1.25932e-11"
       ]
      },
      {
       "output_type": "stream",
       "stream": "stdout",
       "text": [
        "\n",
        "step=314, time=7.93903e-10, max_dmdt=1.25926 ode_step=1.25932e-11\n",
        "step=315, time=8.06496e-10, max_dmdt=1.12593 ode_step=1.25932e-11\n",
        "step=316, time=8.19089e-10, max_dmdt=1.00685 ode_step=1.25932e-11\n",
        "step=317, time=8.31683e-10, max_dmdt=0.900482 ode_step=1.25932e-11\n",
        "step=318, time=8.44276e-10, max_dmdt=0.805453 ode_step=1.25932e-11"
       ]
      },
      {
       "output_type": "stream",
       "stream": "stdout",
       "text": [
        "\n",
        "step=319, time=8.56869e-10, max_dmdt=0.720581 ode_step=1.25932e-11\n",
        "step=320, time=8.69462e-10, max_dmdt=0.644842 ode_step=1.25932e-11\n",
        "step=321, time=8.82056e-10, max_dmdt=0.577128 ode_step=1.25932e-11\n",
        "step=322, time=8.94649e-10, max_dmdt=0.516583 ode_step=1.25932e-11\n",
        "step=323, time=9.07242e-10, max_dmdt=0.462439 ode_step=1.25932e-11"
       ]
      },
      {
       "output_type": "stream",
       "stream": "stdout",
       "text": [
        "\n",
        "step=324, time=9.19835e-10, max_dmdt=0.414015 ode_step=1.25932e-11\n",
        "step=325, time=9.32429e-10, max_dmdt=0.3707 ode_step=1.25932e-11\n",
        "step=326, time=9.45022e-10, max_dmdt=0.331951 ode_step=1.25932e-11\n",
        "step=327, time=9.57615e-10, max_dmdt=0.297282 ode_step=1.25932e-11\n",
        "step=328, time=9.70208e-10, max_dmdt=0.266259 ode_step=1.25932e-11"
       ]
      },
      {
       "output_type": "stream",
       "stream": "stdout",
       "text": [
        "\n",
        "step=329, time=9.82802e-10, max_dmdt=0.238498 ode_step=1.25932e-11\n",
        "step=330, time=9.95395e-10, max_dmdt=0.213651 ode_step=1.25932e-11\n",
        "step=331, time=1.00799e-09, max_dmdt=0.191409 ode_step=1.25932e-11\n",
        "step=332, time=1.02058e-09, max_dmdt=0.171498 ode_step=1.25932e-11\n",
        "step=333, time=1.03317e-09, max_dmdt=0.153673 ode_step=1.25932e-11\n",
        "step=334, time=1.05336e-09, max_dmdt=0.133337 ode_step=2.01898e-11"
       ]
      },
      {
       "output_type": "stream",
       "stream": "stdout",
       "text": [
        "\n",
        "step=335, time=1.07355e-09, max_dmdt=0.111858 ode_step=2.01898e-11\n",
        "step=336, time=1.09374e-09, max_dmdt=0.0938608 ode_step=2.01898e-11\n",
        "step=337, time=1.11393e-09, max_dmdt=0.0787796 ode_step=2.01898e-11\n",
        "step=338, time=1.13412e-09, max_dmdt=0.0661409 ode_step=2.01898e-11"
       ]
      },
      {
       "output_type": "stream",
       "stream": "stdout",
       "text": [
        "\n",
        "step=339, time=1.15431e-09, max_dmdt=0.0555447 ode_step=2.01898e-11\n",
        "step=340, time=1.1745e-09, max_dmdt=0.0466525 ode_step=2.01898e-11\n",
        "step=341, time=1.19469e-09, max_dmdt=0.0391904 ode_step=2.01898e-11\n",
        "step=342, time=1.21488e-09, max_dmdt=0.032928 ode_step=2.01898e-11\n",
        "step=343, time=1.23507e-09, max_dmdt=0.0276707 ode_step=2.01898e-11"
       ]
      },
      {
       "output_type": "stream",
       "stream": "stdout",
       "text": [
        "\n",
        "step=344, time=1.25526e-09, max_dmdt=0.0232563 ode_step=2.01898e-11\n",
        "step=345, time=1.27545e-09, max_dmdt=0.0195484 ode_step=2.01898e-11\n",
        "step=346, time=1.29564e-09, max_dmdt=0.0164344 ode_step=2.01898e-11\n",
        "step=347, time=1.31583e-09, max_dmdt=0.0138182 ode_step=2.01898e-11"
       ]
      },
      {
       "output_type": "stream",
       "stream": "stdout",
       "text": [
        "\n",
        "step=348, time=1.33602e-09, max_dmdt=0.0116203 ode_step=2.01898e-11\n",
        "step=349, time=1.35621e-09, max_dmdt=0.00977279 ode_step=2.01898e-11\n",
        "step=350, time=1.3764e-09, max_dmdt=0.00822034 ode_step=2.01898e-11\n",
        "step=351, time=1.39659e-09, max_dmdt=0.0069153 ode_step=2.01898e-11"
       ]
      },
      {
       "output_type": "stream",
       "stream": "stdout",
       "text": [
        "\n",
        "step=352, time=1.41678e-09, max_dmdt=0.00581818 ode_step=2.01898e-11\n",
        "step=353, time=1.43697e-09, max_dmdt=0.00489538 ode_step=2.01898e-11\n",
        "step=354, time=1.45716e-09, max_dmdt=0.00411912 ode_step=2.01898e-11\n",
        "step=355, time=1.49053e-09, max_dmdt=0.00328321 ode_step=3.33692e-11"
       ]
      },
      {
       "output_type": "stream",
       "stream": "stdout",
       "text": [
        "\n",
        "step=356, time=1.5239e-09, max_dmdt=0.00246872 ode_step=3.33692e-11\n",
        "step=357, time=1.55727e-09, max_dmdt=0.00185766 ode_step=3.33692e-11"
       ]
      },
      {
       "output_type": "stream",
       "stream": "stdout",
       "text": [
        "\n",
        "step=358, time=1.59064e-09, max_dmdt=0.00139917 ode_step=3.33692e-11\n",
        "step=359, time=1.62401e-09, max_dmdt=0.0010542 ode_step=3.33692e-11\n",
        "step=360, time=1.65737e-09, max_dmdt=0.000794279 ode_step=3.33692e-11\n",
        "step=361, time=1.69074e-09, max_dmdt=0.000598197 ode_step=3.33692e-11"
       ]
      },
      {
       "output_type": "stream",
       "stream": "stdout",
       "text": [
        "\n",
        "step=362, time=1.72411e-09, max_dmdt=0.00045059 ode_step=3.33692e-11\n",
        "step=363, time=1.75748e-09, max_dmdt=0.000339623 ode_step=3.33692e-11\n",
        "step=364, time=1.79085e-09, max_dmdt=0.000256247 ode_step=3.33692e-11\n",
        "step=365, time=1.82422e-09, max_dmdt=0.000193339 ode_step=3.33692e-11"
       ]
      },
      {
       "output_type": "stream",
       "stream": "stdout",
       "text": [
        "\n",
        "step=366, time=1.85759e-09, max_dmdt=0.000145775 ode_step=3.33692e-11\n",
        "step=367, time=1.89096e-09, max_dmdt=0.00010986 ode_step=3.33692e-11\n",
        "step=368, time=1.92433e-09, max_dmdt=8.28701e-05 ode_step=3.33692e-11\n",
        "step=369, time=1.9577e-09, max_dmdt=6.26362e-05 ode_step=3.33692e-11"
       ]
      },
      {
       "output_type": "stream",
       "stream": "stdout",
       "text": [
        "\n",
        "step=370, time=2.00937e-09, max_dmdt=4.38499e-05 ode_step=5.16711e-11\n",
        "step=371, time=2.06104e-09, max_dmdt=2.80288e-05 ode_step=5.16711e-11\n",
        "step=372, time=2.11271e-09, max_dmdt=1.79779e-05 ode_step=5.16711e-11"
       ]
      },
      {
       "output_type": "stream",
       "stream": "stdout",
       "text": [
        "\n",
        "step=373, time=2.16438e-09, max_dmdt=1.17885e-05 ode_step=5.16711e-11\n",
        "step=374, time=2.21605e-09, max_dmdt=7.83206e-06 ode_step=5.16711e-11"
       ]
      },
      {
       "output_type": "stream",
       "stream": "stdout",
       "text": [
        "\n"
       ]
      }
     ],
     "prompt_number": 7
    },
    {
     "cell_type": "markdown",
     "metadata": {},
     "source": [
      "Plot the initial State mx component. Uncomment the file name to save the figure"
     ]
    },
    {
     "cell_type": "code",
     "collapsed": false,
     "input": [
      "plot_magnetisation([['m0.npy', 'mx'], ['m0.npy', 'mz']], \n",
      "          # save_file='initial_state.pdf'\n",
      "          )"
     ],
     "language": "python",
     "metadata": {},
     "outputs": [
      {
       "metadata": {},
       "output_type": "display_data",
       "png": "[encoded data removed]",
       "text": [
        "<matplotlib.figure.Figure at 0x7f58b539b0d0>"
       ]
      }
     ],
     "prompt_number": 8
    },
    {
     "cell_type": "markdown",
     "metadata": {},
     "source": [
      "The DW is at the maximum value of $|m_z|$ or $|m_y|$, and $x$ goes from 0 to 1000 nm, with one spin every 1 nm. If we use the $z$ component:"
     ]
    },
    {
     "cell_type": "code",
     "collapsed": false,
     "input": [
      "m0_z = np.load('m0.npy').reshape(3, -1)[2]\n",
      "x = np.arange(len(m0_z))\n",
      "index_max = np.argmax(np.abs(m0_z))\n",
      "\n",
      "print 'Maximum |m_z| at x =', x[index_max]"
     ],
     "language": "python",
     "metadata": {},
     "outputs": [
      {
       "output_type": "stream",
       "stream": "stdout",
       "text": [
        "Maximum |m_z| at x = 224\n"
       ]
      }
     ],
     "prompt_number": 9
    },
    {
     "cell_type": "markdown",
     "metadata": {},
     "source": [
      "The value of $m_z$ at that point is:"
     ]
    },
    {
     "cell_type": "code",
     "collapsed": false,
     "input": [
      "print 'm_z (DW position) = ', m0_z[index_max]"
     ],
     "language": "python",
     "metadata": {},
     "outputs": [
      {
       "output_type": "stream",
       "stream": "stdout",
       "text": [
        "m_z (DW position) =  0.705740362669\n"
       ]
      }
     ],
     "prompt_number": 10
    },
    {
     "cell_type": "markdown",
     "metadata": {},
     "source": [
      "And we check that $m_x$ changes sign around there:"
     ]
    },
    {
     "cell_type": "code",
     "collapsed": false,
     "input": [
      "m0_x = np.load('m0.npy').reshape(3, -1)[0]\n",
      "print 'm_x (x = %d) = ' % index_max, m0_x[index_max]\n",
      "print 'm_x (x = %d) = ' % (index_max + 1), m0_x[index_max + 1]"
     ],
     "language": "python",
     "metadata": {},
     "outputs": [
      {
       "output_type": "stream",
       "stream": "stdout",
       "text": [
        "m_x (x = 224) =  0.0621375973151\n",
        "m_x (x = 225) =  -0.0621375973151\n"
       ]
      }
     ],
     "prompt_number": 11
    },
    {
     "cell_type": "heading",
     "level": 3,
     "metadata": {},
     "source": [
      "STT"
     ]
    },
    {
     "cell_type": "markdown",
     "metadata": {},
     "source": [
      "Now we excite the system with the current"
     ]
    },
    {
     "cell_type": "code",
     "collapsed": false,
     "input": [
      "excite_system(mesh)"
     ],
     "language": "python",
     "metadata": {},
     "outputs": [
      {
       "output_type": "stream",
       "stream": "stdout",
       "text": [
        "time 0.0\n",
        "time 1e-11\n",
        "time"
       ]
      },
      {
       "output_type": "stream",
       "stream": "stdout",
       "text": [
        " 2e-11\n",
        "time"
       ]
      },
      {
       "output_type": "stream",
       "stream": "stdout",
       "text": [
        " 3e-11\n",
        "time"
       ]
      },
      {
       "output_type": "stream",
       "stream": "stdout",
       "text": [
        " 4e-11\n",
        "time"
       ]
      },
      {
       "output_type": "stream",
       "stream": "stdout",
       "text": [
        " 5e-11\n",
        "time"
       ]
      },
      {
       "output_type": "stream",
       "stream": "stdout",
       "text": [
        " 6e-11\n",
        "time"
       ]
      },
      {
       "output_type": "stream",
       "stream": "stdout",
       "text": [
        " 7e-11\n",
        "time"
       ]
      },
      {
       "output_type": "stream",
       "stream": "stdout",
       "text": [
        " 8e-11\n",
        "time"
       ]
      },
      {
       "output_type": "stream",
       "stream": "stdout",
       "text": [
        " 9e-11\n",
        "time"
       ]
      },
      {
       "output_type": "stream",
       "stream": "stdout",
       "text": [
        " 1e-10\n",
        "time"
       ]
      },
      {
       "output_type": "stream",
       "stream": "stdout",
       "text": [
        " 1.1e-10\n",
        "time"
       ]
      },
      {
       "output_type": "stream",
       "stream": "stdout",
       "text": [
        " 1.2e-10\n",
        "time"
       ]
      },
      {
       "output_type": "stream",
       "stream": "stdout",
       "text": [
        " 1.3e-10\n",
        "time"
       ]
      },
      {
       "output_type": "stream",
       "stream": "stdout",
       "text": [
        " 1.4e-10\n",
        "time"
       ]
      },
      {
       "output_type": "stream",
       "stream": "stdout",
       "text": [
        " 1.5e-10\n",
        "time"
       ]
      },
      {
       "output_type": "stream",
       "stream": "stdout",
       "text": [
        " 1.6e-10\n",
        "time"
       ]
      },
      {
       "output_type": "stream",
       "stream": "stdout",
       "text": [
        " 1.7e-10\n",
        "time"
       ]
      },
      {
       "output_type": "stream",
       "stream": "stdout",
       "text": [
        " 1.8e-10\n",
        "time"
       ]
      },
      {
       "output_type": "stream",
       "stream": "stdout",
       "text": [
        " 1.9e-10\n",
        "time"
       ]
      },
      {
       "output_type": "stream",
       "stream": "stdout",
       "text": [
        " 2e-10\n",
        "time"
       ]
      },
      {
       "output_type": "stream",
       "stream": "stdout",
       "text": [
        " 2.1e-10\n",
        "time"
       ]
      },
      {
       "output_type": "stream",
       "stream": "stdout",
       "text": [
        " 2.2e-10\n",
        "time"
       ]
      },
      {
       "output_type": "stream",
       "stream": "stdout",
       "text": [
        " 2.3e-10\n",
        "time"
       ]
      },
      {
       "output_type": "stream",
       "stream": "stdout",
       "text": [
        " 2.4e-10\n",
        "time"
       ]
      },
      {
       "output_type": "stream",
       "stream": "stdout",
       "text": [
        " 2.5e-10\n",
        "time"
       ]
      },
      {
       "output_type": "stream",
       "stream": "stdout",
       "text": [
        " 2.6e-10\n",
        "time"
       ]
      },
      {
       "output_type": "stream",
       "stream": "stdout",
       "text": [
        " 2.7e-10\n",
        "time"
       ]
      },
      {
       "output_type": "stream",
       "stream": "stdout",
       "text": [
        " 2.8e-10\n",
        "time"
       ]
      },
      {
       "output_type": "stream",
       "stream": "stdout",
       "text": [
        " 2.9e-10\n",
        "time"
       ]
      },
      {
       "output_type": "stream",
       "stream": "stdout",
       "text": [
        " 3e-10\n",
        "time"
       ]
      },
      {
       "output_type": "stream",
       "stream": "stdout",
       "text": [
        " 3.1e-10\n",
        "time"
       ]
      },
      {
       "output_type": "stream",
       "stream": "stdout",
       "text": [
        " 3.2e-10\n",
        "time"
       ]
      },
      {
       "output_type": "stream",
       "stream": "stdout",
       "text": [
        " 3.3e-10\n",
        "time"
       ]
      },
      {
       "output_type": "stream",
       "stream": "stdout",
       "text": [
        " 3.4e-10\n",
        "time"
       ]
      },
      {
       "output_type": "stream",
       "stream": "stdout",
       "text": [
        " 3.5e-10\n",
        "time"
       ]
      },
      {
       "output_type": "stream",
       "stream": "stdout",
       "text": [
        " 3.6e-10\n",
        "time"
       ]
      },
      {
       "output_type": "stream",
       "stream": "stdout",
       "text": [
        " 3.7e-10\n",
        "time"
       ]
      },
      {
       "output_type": "stream",
       "stream": "stdout",
       "text": [
        " 3.8e-10\n",
        "time"
       ]
      },
      {
       "output_type": "stream",
       "stream": "stdout",
       "text": [
        " 3.9e-10\n",
        "time"
       ]
      },
      {
       "output_type": "stream",
       "stream": "stdout",
       "text": [
        " 4e-10\n",
        "time"
       ]
      },
      {
       "output_type": "stream",
       "stream": "stdout",
       "text": [
        " 4.1e-10\n",
        "time"
       ]
      },
      {
       "output_type": "stream",
       "stream": "stdout",
       "text": [
        " 4.2e-10\n",
        "time"
       ]
      },
      {
       "output_type": "stream",
       "stream": "stdout",
       "text": [
        " 4.3e-10\n",
        "time"
       ]
      },
      {
       "output_type": "stream",
       "stream": "stdout",
       "text": [
        " 4.4e-10\n",
        "time"
       ]
      },
      {
       "output_type": "stream",
       "stream": "stdout",
       "text": [
        " 4.5e-10\n",
        "time"
       ]
      },
      {
       "output_type": "stream",
       "stream": "stdout",
       "text": [
        " 4.6e-10\n",
        "time"
       ]
      },
      {
       "output_type": "stream",
       "stream": "stdout",
       "text": [
        " 4.7e-10\n",
        "time"
       ]
      },
      {
       "output_type": "stream",
       "stream": "stdout",
       "text": [
        " 4.8e-10\n",
        "time"
       ]
      },
      {
       "output_type": "stream",
       "stream": "stdout",
       "text": [
        " 4.9e-10\n",
        "time"
       ]
      },
      {
       "output_type": "stream",
       "stream": "stdout",
       "text": [
        " 5e-10\n",
        "time"
       ]
      },
      {
       "output_type": "stream",
       "stream": "stdout",
       "text": [
        " 5.1e-10\n",
        "time"
       ]
      },
      {
       "output_type": "stream",
       "stream": "stdout",
       "text": [
        " 5.2e-10\n",
        "time"
       ]
      },
      {
       "output_type": "stream",
       "stream": "stdout",
       "text": [
        " 5.3e-10\n",
        "time"
       ]
      },
      {
       "output_type": "stream",
       "stream": "stdout",
       "text": [
        " 5.4e-10\n",
        "time"
       ]
      },
      {
       "output_type": "stream",
       "stream": "stdout",
       "text": [
        " 5.5e-10\n",
        "time"
       ]
      },
      {
       "output_type": "stream",
       "stream": "stdout",
       "text": [
        " 5.6e-10\n",
        "time"
       ]
      },
      {
       "output_type": "stream",
       "stream": "stdout",
       "text": [
        " 5.7e-10\n",
        "time"
       ]
      },
      {
       "output_type": "stream",
       "stream": "stdout",
       "text": [
        " 5.8e-10\n",
        "time"
       ]
      },
      {
       "output_type": "stream",
       "stream": "stdout",
       "text": [
        " 5.9e-10\n",
        "time"
       ]
      },
      {
       "output_type": "stream",
       "stream": "stdout",
       "text": [
        " 6e-10\n",
        "time"
       ]
      },
      {
       "output_type": "stream",
       "stream": "stdout",
       "text": [
        " 6.1e-10\n",
        "time"
       ]
      },
      {
       "output_type": "stream",
       "stream": "stdout",
       "text": [
        " 6.2e-10\n",
        "time"
       ]
      },
      {
       "output_type": "stream",
       "stream": "stdout",
       "text": [
        " 6.3e-10\n",
        "time"
       ]
      },
      {
       "output_type": "stream",
       "stream": "stdout",
       "text": [
        " 6.4e-10\n",
        "time"
       ]
      },
      {
       "output_type": "stream",
       "stream": "stdout",
       "text": [
        " 6.5e-10\n",
        "time"
       ]
      },
      {
       "output_type": "stream",
       "stream": "stdout",
       "text": [
        " 6.6e-10\n",
        "time"
       ]
      },
      {
       "output_type": "stream",
       "stream": "stdout",
       "text": [
        " 6.7e-10\n",
        "time"
       ]
      },
      {
       "output_type": "stream",
       "stream": "stdout",
       "text": [
        " 6.8e-10\n",
        "time"
       ]
      },
      {
       "output_type": "stream",
       "stream": "stdout",
       "text": [
        " 6.9e-10\n",
        "time"
       ]
      },
      {
       "output_type": "stream",
       "stream": "stdout",
       "text": [
        " 7e-10\n",
        "time"
       ]
      },
      {
       "output_type": "stream",
       "stream": "stdout",
       "text": [
        " 7.1e-10\n",
        "time"
       ]
      },
      {
       "output_type": "stream",
       "stream": "stdout",
       "text": [
        " 7.2e-10\n",
        "time"
       ]
      },
      {
       "output_type": "stream",
       "stream": "stdout",
       "text": [
        " 7.3e-10\n",
        "time"
       ]
      },
      {
       "output_type": "stream",
       "stream": "stdout",
       "text": [
        " 7.4e-10\n",
        "time"
       ]
      },
      {
       "output_type": "stream",
       "stream": "stdout",
       "text": [
        " 7.5e-10\n",
        "time"
       ]
      },
      {
       "output_type": "stream",
       "stream": "stdout",
       "text": [
        " 7.6e-10\n",
        "time"
       ]
      },
      {
       "output_type": "stream",
       "stream": "stdout",
       "text": [
        " 7.7e-10\n",
        "time"
       ]
      },
      {
       "output_type": "stream",
       "stream": "stdout",
       "text": [
        " 7.8e-10\n",
        "time"
       ]
      },
      {
       "output_type": "stream",
       "stream": "stdout",
       "text": [
        " 7.9e-10\n",
        "time"
       ]
      },
      {
       "output_type": "stream",
       "stream": "stdout",
       "text": [
        " 8e-10\n",
        "time"
       ]
      },
      {
       "output_type": "stream",
       "stream": "stdout",
       "text": [
        " 8.1e-10\n",
        "time"
       ]
      },
      {
       "output_type": "stream",
       "stream": "stdout",
       "text": [
        " 8.2e-10\n",
        "time"
       ]
      },
      {
       "output_type": "stream",
       "stream": "stdout",
       "text": [
        " 8.3e-10\n",
        "time"
       ]
      },
      {
       "output_type": "stream",
       "stream": "stdout",
       "text": [
        " 8.4e-10\n",
        "time"
       ]
      },
      {
       "output_type": "stream",
       "stream": "stdout",
       "text": [
        " 8.5e-10\n",
        "time"
       ]
      },
      {
       "output_type": "stream",
       "stream": "stdout",
       "text": [
        " 8.6e-10\n",
        "time"
       ]
      },
      {
       "output_type": "stream",
       "stream": "stdout",
       "text": [
        " 8.7e-10\n",
        "time"
       ]
      },
      {
       "output_type": "stream",
       "stream": "stdout",
       "text": [
        " 8.8e-10\n",
        "time"
       ]
      },
      {
       "output_type": "stream",
       "stream": "stdout",
       "text": [
        " 8.9e-10\n",
        "time"
       ]
      },
      {
       "output_type": "stream",
       "stream": "stdout",
       "text": [
        " 9e-10\n",
        "time"
       ]
      },
      {
       "output_type": "stream",
       "stream": "stdout",
       "text": [
        " 9.1e-10\n",
        "time"
       ]
      },
      {
       "output_type": "stream",
       "stream": "stdout",
       "text": [
        " 9.2e-10\n",
        "time"
       ]
      },
      {
       "output_type": "stream",
       "stream": "stdout",
       "text": [
        " 9.3e-10\n",
        "time"
       ]
      },
      {
       "output_type": "stream",
       "stream": "stdout",
       "text": [
        " 9.4e-10\n",
        "time"
       ]
      },
      {
       "output_type": "stream",
       "stream": "stdout",
       "text": [
        " 9.5e-10\n",
        "time"
       ]
      },
      {
       "output_type": "stream",
       "stream": "stdout",
       "text": [
        " 9.6e-10\n",
        "time"
       ]
      },
      {
       "output_type": "stream",
       "stream": "stdout",
       "text": [
        " 9.7e-10\n",
        "time"
       ]
      },
      {
       "output_type": "stream",
       "stream": "stdout",
       "text": [
        " 9.8e-10\n",
        "time"
       ]
      },
      {
       "output_type": "stream",
       "stream": "stdout",
       "text": [
        " 9.9e-10\n",
        "time"
       ]
      },
      {
       "output_type": "stream",
       "stream": "stdout",
       "text": [
        " 1e-09\n",
        "time"
       ]
      },
      {
       "output_type": "stream",
       "stream": "stdout",
       "text": [
        " 1.01e-09\n",
        "time"
       ]
      },
      {
       "output_type": "stream",
       "stream": "stdout",
       "text": [
        " 1.02e-09\n",
        "time"
       ]
      },
      {
       "output_type": "stream",
       "stream": "stdout",
       "text": [
        " 1.03e-09\n",
        "time"
       ]
      },
      {
       "output_type": "stream",
       "stream": "stdout",
       "text": [
        " 1.04e-09\n",
        "time"
       ]
      },
      {
       "output_type": "stream",
       "stream": "stdout",
       "text": [
        " 1.05e-09\n",
        "time"
       ]
      },
      {
       "output_type": "stream",
       "stream": "stdout",
       "text": [
        " 1.06e-09\n",
        "time"
       ]
      },
      {
       "output_type": "stream",
       "stream": "stdout",
       "text": [
        " 1.07e-09\n",
        "time"
       ]
      },
      {
       "output_type": "stream",
       "stream": "stdout",
       "text": [
        " 1.08e-09\n",
        "time"
       ]
      },
      {
       "output_type": "stream",
       "stream": "stdout",
       "text": [
        " 1.09e-09\n",
        "time"
       ]
      },
      {
       "output_type": "stream",
       "stream": "stdout",
       "text": [
        " 1.1e-09\n",
        "time"
       ]
      },
      {
       "output_type": "stream",
       "stream": "stdout",
       "text": [
        " 1.11e-09\n",
        "time"
       ]
      },
      {
       "output_type": "stream",
       "stream": "stdout",
       "text": [
        " 1.12e-09\n",
        "time"
       ]
      },
      {
       "output_type": "stream",
       "stream": "stdout",
       "text": [
        " 1.13e-09\n",
        "time"
       ]
      },
      {
       "output_type": "stream",
       "stream": "stdout",
       "text": [
        " 1.14e-09\n",
        "time"
       ]
      },
      {
       "output_type": "stream",
       "stream": "stdout",
       "text": [
        " 1.15e-09\n",
        "time"
       ]
      },
      {
       "output_type": "stream",
       "stream": "stdout",
       "text": [
        " 1.16e-09\n",
        "time"
       ]
      },
      {
       "output_type": "stream",
       "stream": "stdout",
       "text": [
        " 1.17e-09\n",
        "time"
       ]
      },
      {
       "output_type": "stream",
       "stream": "stdout",
       "text": [
        " 1.18e-09\n",
        "time"
       ]
      },
      {
       "output_type": "stream",
       "stream": "stdout",
       "text": [
        " 1.19e-09\n",
        "time"
       ]
      },
      {
       "output_type": "stream",
       "stream": "stdout",
       "text": [
        " 1.2e-09\n",
        "time"
       ]
      },
      {
       "output_type": "stream",
       "stream": "stdout",
       "text": [
        " 1.21e-09\n",
        "time"
       ]
      },
      {
       "output_type": "stream",
       "stream": "stdout",
       "text": [
        " 1.22e-09\n",
        "time"
       ]
      },
      {
       "output_type": "stream",
       "stream": "stdout",
       "text": [
        " 1.23e-09\n",
        "time"
       ]
      },
      {
       "output_type": "stream",
       "stream": "stdout",
       "text": [
        " 1.24e-09\n",
        "time"
       ]
      },
      {
       "output_type": "stream",
       "stream": "stdout",
       "text": [
        " 1.25e-09\n",
        "time"
       ]
      },
      {
       "output_type": "stream",
       "stream": "stdout",
       "text": [
        " 1.26e-09\n",
        "time"
       ]
      },
      {
       "output_type": "stream",
       "stream": "stdout",
       "text": [
        " 1.27e-09\n",
        "time"
       ]
      },
      {
       "output_type": "stream",
       "stream": "stdout",
       "text": [
        " 1.28e-09\n",
        "time"
       ]
      },
      {
       "output_type": "stream",
       "stream": "stdout",
       "text": [
        " 1.29e-09\n",
        "time"
       ]
      },
      {
       "output_type": "stream",
       "stream": "stdout",
       "text": [
        " 1.3e-09\n",
        "time"
       ]
      },
      {
       "output_type": "stream",
       "stream": "stdout",
       "text": [
        " 1.31e-09\n",
        "time"
       ]
      },
      {
       "output_type": "stream",
       "stream": "stdout",
       "text": [
        " 1.32e-09\n",
        "time"
       ]
      },
      {
       "output_type": "stream",
       "stream": "stdout",
       "text": [
        " 1.33e-09\n",
        "time"
       ]
      },
      {
       "output_type": "stream",
       "stream": "stdout",
       "text": [
        " 1.34e-09\n",
        "time"
       ]
      },
      {
       "output_type": "stream",
       "stream": "stdout",
       "text": [
        " 1.35e-09\n",
        "time"
       ]
      },
      {
       "output_type": "stream",
       "stream": "stdout",
       "text": [
        " 1.36e-09\n",
        "time"
       ]
      },
      {
       "output_type": "stream",
       "stream": "stdout",
       "text": [
        " 1.37e-09\n",
        "time"
       ]
      },
      {
       "output_type": "stream",
       "stream": "stdout",
       "text": [
        " 1.38e-09\n",
        "time"
       ]
      },
      {
       "output_type": "stream",
       "stream": "stdout",
       "text": [
        " 1.39e-09\n",
        "time"
       ]
      },
      {
       "output_type": "stream",
       "stream": "stdout",
       "text": [
        " 1.4e-09\n",
        "time"
       ]
      },
      {
       "output_type": "stream",
       "stream": "stdout",
       "text": [
        " 1.41e-09\n",
        "time"
       ]
      },
      {
       "output_type": "stream",
       "stream": "stdout",
       "text": [
        " 1.42e-09\n",
        "time"
       ]
      },
      {
       "output_type": "stream",
       "stream": "stdout",
       "text": [
        " 1.43e-09\n",
        "time"
       ]
      },
      {
       "output_type": "stream",
       "stream": "stdout",
       "text": [
        " 1.44e-09\n",
        "time"
       ]
      },
      {
       "output_type": "stream",
       "stream": "stdout",
       "text": [
        " 1.45e-09\n",
        "time"
       ]
      },
      {
       "output_type": "stream",
       "stream": "stdout",
       "text": [
        " 1.46e-09\n",
        "time"
       ]
      },
      {
       "output_type": "stream",
       "stream": "stdout",
       "text": [
        " 1.47e-09\n",
        "time"
       ]
      },
      {
       "output_type": "stream",
       "stream": "stdout",
       "text": [
        " 1.48e-09\n",
        "time"
       ]
      },
      {
       "output_type": "stream",
       "stream": "stdout",
       "text": [
        " 1.49e-09\n",
        "time"
       ]
      },
      {
       "output_type": "stream",
       "stream": "stdout",
       "text": [
        " 1.5e-09\n",
        "time"
       ]
      },
      {
       "output_type": "stream",
       "stream": "stdout",
       "text": [
        " 1.51e-09\n",
        "time"
       ]
      },
      {
       "output_type": "stream",
       "stream": "stdout",
       "text": [
        " 1.52e-09\n",
        "time"
       ]
      },
      {
       "output_type": "stream",
       "stream": "stdout",
       "text": [
        " 1.53e-09\n",
        "time"
       ]
      },
      {
       "output_type": "stream",
       "stream": "stdout",
       "text": [
        " 1.54e-09\n",
        "time"
       ]
      },
      {
       "output_type": "stream",
       "stream": "stdout",
       "text": [
        " 1.55e-09\n",
        "time"
       ]
      },
      {
       "output_type": "stream",
       "stream": "stdout",
       "text": [
        " 1.56e-09\n",
        "time"
       ]
      },
      {
       "output_type": "stream",
       "stream": "stdout",
       "text": [
        " 1.57e-09\n",
        "time"
       ]
      },
      {
       "output_type": "stream",
       "stream": "stdout",
       "text": [
        " 1.58e-09\n",
        "time"
       ]
      },
      {
       "output_type": "stream",
       "stream": "stdout",
       "text": [
        " 1.59e-09\n",
        "time"
       ]
      },
      {
       "output_type": "stream",
       "stream": "stdout",
       "text": [
        " 1.6e-09\n",
        "time"
       ]
      },
      {
       "output_type": "stream",
       "stream": "stdout",
       "text": [
        " 1.61e-09\n",
        "time"
       ]
      },
      {
       "output_type": "stream",
       "stream": "stdout",
       "text": [
        " 1.62e-09\n",
        "time"
       ]
      },
      {
       "output_type": "stream",
       "stream": "stdout",
       "text": [
        " 1.63e-09\n",
        "time"
       ]
      },
      {
       "output_type": "stream",
       "stream": "stdout",
       "text": [
        " 1.64e-09\n",
        "time"
       ]
      },
      {
       "output_type": "stream",
       "stream": "stdout",
       "text": [
        " 1.65e-09\n",
        "time"
       ]
      },
      {
       "output_type": "stream",
       "stream": "stdout",
       "text": [
        " 1.66e-09\n",
        "time"
       ]
      },
      {
       "output_type": "stream",
       "stream": "stdout",
       "text": [
        " 1.67e-09\n",
        "time"
       ]
      },
      {
       "output_type": "stream",
       "stream": "stdout",
       "text": [
        " 1.68e-09\n",
        "time"
       ]
      },
      {
       "output_type": "stream",
       "stream": "stdout",
       "text": [
        " 1.69e-09\n",
        "time"
       ]
      },
      {
       "output_type": "stream",
       "stream": "stdout",
       "text": [
        " 1.7e-09\n",
        "time"
       ]
      },
      {
       "output_type": "stream",
       "stream": "stdout",
       "text": [
        " 1.71e-09\n",
        "time"
       ]
      },
      {
       "output_type": "stream",
       "stream": "stdout",
       "text": [
        " 1.72e-09\n",
        "time"
       ]
      },
      {
       "output_type": "stream",
       "stream": "stdout",
       "text": [
        " 1.73e-09\n",
        "time"
       ]
      },
      {
       "output_type": "stream",
       "stream": "stdout",
       "text": [
        " 1.74e-09\n",
        "time"
       ]
      },
      {
       "output_type": "stream",
       "stream": "stdout",
       "text": [
        " 1.75e-09\n",
        "time"
       ]
      },
      {
       "output_type": "stream",
       "stream": "stdout",
       "text": [
        " 1.76e-09\n",
        "time"
       ]
      },
      {
       "output_type": "stream",
       "stream": "stdout",
       "text": [
        " 1.77e-09\n",
        "time"
       ]
      },
      {
       "output_type": "stream",
       "stream": "stdout",
       "text": [
        " 1.78e-09\n",
        "time"
       ]
      },
      {
       "output_type": "stream",
       "stream": "stdout",
       "text": [
        " 1.79e-09\n",
        "time"
       ]
      },
      {
       "output_type": "stream",
       "stream": "stdout",
       "text": [
        " 1.8e-09\n",
        "time"
       ]
      },
      {
       "output_type": "stream",
       "stream": "stdout",
       "text": [
        " 1.81e-09\n",
        "time"
       ]
      },
      {
       "output_type": "stream",
       "stream": "stdout",
       "text": [
        " 1.82e-09\n",
        "time"
       ]
      },
      {
       "output_type": "stream",
       "stream": "stdout",
       "text": [
        " 1.83e-09\n",
        "time"
       ]
      },
      {
       "output_type": "stream",
       "stream": "stdout",
       "text": [
        " 1.84e-09\n",
        "time"
       ]
      },
      {
       "output_type": "stream",
       "stream": "stdout",
       "text": [
        " 1.85e-09\n",
        "time"
       ]
      },
      {
       "output_type": "stream",
       "stream": "stdout",
       "text": [
        " 1.86e-09\n",
        "time"
       ]
      },
      {
       "output_type": "stream",
       "stream": "stdout",
       "text": [
        " 1.87e-09\n",
        "time"
       ]
      },
      {
       "output_type": "stream",
       "stream": "stdout",
       "text": [
        " 1.88e-09\n",
        "time"
       ]
      },
      {
       "output_type": "stream",
       "stream": "stdout",
       "text": [
        " 1.89e-09\n",
        "time"
       ]
      },
      {
       "output_type": "stream",
       "stream": "stdout",
       "text": [
        " 1.9e-09\n",
        "time"
       ]
      },
      {
       "output_type": "stream",
       "stream": "stdout",
       "text": [
        " 1.91e-09\n",
        "time"
       ]
      },
      {
       "output_type": "stream",
       "stream": "stdout",
       "text": [
        " 1.92e-09\n",
        "time"
       ]
      },
      {
       "output_type": "stream",
       "stream": "stdout",
       "text": [
        " 1.93e-09\n",
        "time"
       ]
      },
      {
       "output_type": "stream",
       "stream": "stdout",
       "text": [
        " 1.94e-09\n",
        "time"
       ]
      },
      {
       "output_type": "stream",
       "stream": "stdout",
       "text": [
        " 1.95e-09\n",
        "time"
       ]
      },
      {
       "output_type": "stream",
       "stream": "stdout",
       "text": [
        " 1.96e-09\n",
        "time"
       ]
      },
      {
       "output_type": "stream",
       "stream": "stdout",
       "text": [
        " 1.97e-09\n",
        "time"
       ]
      },
      {
       "output_type": "stream",
       "stream": "stdout",
       "text": [
        " 1.98e-09\n",
        "time"
       ]
      },
      {
       "output_type": "stream",
       "stream": "stdout",
       "text": [
        " 1.99e-09\n",
        "time"
       ]
      },
      {
       "output_type": "stream",
       "stream": "stdout",
       "text": [
        " 2e-09\n",
        "time"
       ]
      },
      {
       "output_type": "stream",
       "stream": "stdout",
       "text": [
        " 2.01e-09\n",
        "time"
       ]
      },
      {
       "output_type": "stream",
       "stream": "stdout",
       "text": [
        " 2.02e-09\n",
        "time"
       ]
      },
      {
       "output_type": "stream",
       "stream": "stdout",
       "text": [
        " 2.03e-09\n",
        "time"
       ]
      },
      {
       "output_type": "stream",
       "stream": "stdout",
       "text": [
        " 2.04e-09\n",
        "time"
       ]
      },
      {
       "output_type": "stream",
       "stream": "stdout",
       "text": [
        " 2.05e-09\n",
        "time"
       ]
      },
      {
       "output_type": "stream",
       "stream": "stdout",
       "text": [
        " 2.06e-09\n",
        "time"
       ]
      },
      {
       "output_type": "stream",
       "stream": "stdout",
       "text": [
        " 2.07e-09\n",
        "time"
       ]
      },
      {
       "output_type": "stream",
       "stream": "stdout",
       "text": [
        " 2.08e-09\n",
        "time"
       ]
      },
      {
       "output_type": "stream",
       "stream": "stdout",
       "text": [
        " 2.09e-09\n",
        "time"
       ]
      },
      {
       "output_type": "stream",
       "stream": "stdout",
       "text": [
        " 2.1e-09\n",
        "time"
       ]
      },
      {
       "output_type": "stream",
       "stream": "stdout",
       "text": [
        " 2.11e-09\n",
        "time"
       ]
      },
      {
       "output_type": "stream",
       "stream": "stdout",
       "text": [
        " 2.12e-09\n",
        "time"
       ]
      },
      {
       "output_type": "stream",
       "stream": "stdout",
       "text": [
        " 2.13e-09\n",
        "time"
       ]
      },
      {
       "output_type": "stream",
       "stream": "stdout",
       "text": [
        " 2.14e-09\n",
        "time"
       ]
      },
      {
       "output_type": "stream",
       "stream": "stdout",
       "text": [
        " 2.15e-09\n",
        "time"
       ]
      },
      {
       "output_type": "stream",
       "stream": "stdout",
       "text": [
        " 2.16e-09\n",
        "time"
       ]
      },
      {
       "output_type": "stream",
       "stream": "stdout",
       "text": [
        " 2.17e-09\n",
        "time"
       ]
      },
      {
       "output_type": "stream",
       "stream": "stdout",
       "text": [
        " 2.18e-09\n",
        "time"
       ]
      },
      {
       "output_type": "stream",
       "stream": "stdout",
       "text": [
        " 2.19e-09\n",
        "time"
       ]
      },
      {
       "output_type": "stream",
       "stream": "stdout",
       "text": [
        " 2.2e-09\n",
        "time"
       ]
      },
      {
       "output_type": "stream",
       "stream": "stdout",
       "text": [
        " 2.21e-09\n",
        "time"
       ]
      },
      {
       "output_type": "stream",
       "stream": "stdout",
       "text": [
        " 2.22e-09\n",
        "time"
       ]
      },
      {
       "output_type": "stream",
       "stream": "stdout",
       "text": [
        " 2.23e-09\n",
        "time"
       ]
      },
      {
       "output_type": "stream",
       "stream": "stdout",
       "text": [
        " 2.24e-09\n",
        "time"
       ]
      },
      {
       "output_type": "stream",
       "stream": "stdout",
       "text": [
        " 2.25e-09\n",
        "time"
       ]
      },
      {
       "output_type": "stream",
       "stream": "stdout",
       "text": [
        " 2.26e-09\n",
        "time"
       ]
      },
      {
       "output_type": "stream",
       "stream": "stdout",
       "text": [
        " 2.27e-09\n",
        "time"
       ]
      },
      {
       "output_type": "stream",
       "stream": "stdout",
       "text": [
        " 2.28e-09\n",
        "time"
       ]
      },
      {
       "output_type": "stream",
       "stream": "stdout",
       "text": [
        " 2.29e-09\n",
        "time"
       ]
      },
      {
       "output_type": "stream",
       "stream": "stdout",
       "text": [
        " 2.3e-09\n",
        "time"
       ]
      },
      {
       "output_type": "stream",
       "stream": "stdout",
       "text": [
        " 2.31e-09\n",
        "time"
       ]
      },
      {
       "output_type": "stream",
       "stream": "stdout",
       "text": [
        " 2.32e-09\n",
        "time"
       ]
      },
      {
       "output_type": "stream",
       "stream": "stdout",
       "text": [
        " 2.33e-09\n",
        "time"
       ]
      },
      {
       "output_type": "stream",
       "stream": "stdout",
       "text": [
        " 2.34e-09\n",
        "time"
       ]
      },
      {
       "output_type": "stream",
       "stream": "stdout",
       "text": [
        " 2.35e-09\n",
        "time"
       ]
      },
      {
       "output_type": "stream",
       "stream": "stdout",
       "text": [
        " 2.36e-09\n",
        "time"
       ]
      },
      {
       "output_type": "stream",
       "stream": "stdout",
       "text": [
        " 2.37e-09\n",
        "time"
       ]
      },
      {
       "output_type": "stream",
       "stream": "stdout",
       "text": [
        " 2.38e-09\n",
        "time"
       ]
      },
      {
       "output_type": "stream",
       "stream": "stdout",
       "text": [
        " 2.39e-09\n",
        "time"
       ]
      },
      {
       "output_type": "stream",
       "stream": "stdout",
       "text": [
        " 2.4e-09\n",
        "time"
       ]
      },
      {
       "output_type": "stream",
       "stream": "stdout",
       "text": [
        " 2.41e-09\n",
        "time"
       ]
      },
      {
       "output_type": "stream",
       "stream": "stdout",
       "text": [
        " 2.42e-09\n",
        "time"
       ]
      },
      {
       "output_type": "stream",
       "stream": "stdout",
       "text": [
        " 2.43e-09\n",
        "time"
       ]
      },
      {
       "output_type": "stream",
       "stream": "stdout",
       "text": [
        " 2.44e-09\n",
        "time"
       ]
      },
      {
       "output_type": "stream",
       "stream": "stdout",
       "text": [
        " 2.45e-09\n",
        "time"
       ]
      },
      {
       "output_type": "stream",
       "stream": "stdout",
       "text": [
        " 2.46e-09\n",
        "time"
       ]
      },
      {
       "output_type": "stream",
       "stream": "stdout",
       "text": [
        " 2.47e-09\n",
        "time"
       ]
      },
      {
       "output_type": "stream",
       "stream": "stdout",
       "text": [
        " 2.48e-09\n",
        "time"
       ]
      },
      {
       "output_type": "stream",
       "stream": "stdout",
       "text": [
        " 2.49e-09\n",
        "time"
       ]
      },
      {
       "output_type": "stream",
       "stream": "stdout",
       "text": [
        " 2.5e-09\n",
        "time"
       ]
      },
      {
       "output_type": "stream",
       "stream": "stdout",
       "text": [
        " 2.51e-09\n",
        "time"
       ]
      },
      {
       "output_type": "stream",
       "stream": "stdout",
       "text": [
        " 2.52e-09\n",
        "time"
       ]
      },
      {
       "output_type": "stream",
       "stream": "stdout",
       "text": [
        " 2.53e-09\n",
        "time"
       ]
      },
      {
       "output_type": "stream",
       "stream": "stdout",
       "text": [
        " 2.54e-09\n",
        "time"
       ]
      },
      {
       "output_type": "stream",
       "stream": "stdout",
       "text": [
        " 2.55e-09\n",
        "time"
       ]
      },
      {
       "output_type": "stream",
       "stream": "stdout",
       "text": [
        " 2.56e-09\n",
        "time"
       ]
      },
      {
       "output_type": "stream",
       "stream": "stdout",
       "text": [
        " 2.57e-09\n",
        "time"
       ]
      },
      {
       "output_type": "stream",
       "stream": "stdout",
       "text": [
        " 2.58e-09\n",
        "time"
       ]
      },
      {
       "output_type": "stream",
       "stream": "stdout",
       "text": [
        " 2.59e-09\n",
        "time"
       ]
      },
      {
       "output_type": "stream",
       "stream": "stdout",
       "text": [
        " 2.6e-09\n",
        "time"
       ]
      },
      {
       "output_type": "stream",
       "stream": "stdout",
       "text": [
        " 2.61e-09\n",
        "time"
       ]
      },
      {
       "output_type": "stream",
       "stream": "stdout",
       "text": [
        " 2.62e-09\n",
        "time"
       ]
      },
      {
       "output_type": "stream",
       "stream": "stdout",
       "text": [
        " 2.63e-09\n",
        "time"
       ]
      },
      {
       "output_type": "stream",
       "stream": "stdout",
       "text": [
        " 2.64e-09\n",
        "time"
       ]
      },
      {
       "output_type": "stream",
       "stream": "stdout",
       "text": [
        " 2.65e-09\n",
        "time"
       ]
      },
      {
       "output_type": "stream",
       "stream": "stdout",
       "text": [
        " 2.66e-09\n",
        "time"
       ]
      },
      {
       "output_type": "stream",
       "stream": "stdout",
       "text": [
        " 2.67e-09\n",
        "time"
       ]
      },
      {
       "output_type": "stream",
       "stream": "stdout",
       "text": [
        " 2.68e-09\n",
        "time"
       ]
      },
      {
       "output_type": "stream",
       "stream": "stdout",
       "text": [
        " 2.69e-09\n",
        "time"
       ]
      },
      {
       "output_type": "stream",
       "stream": "stdout",
       "text": [
        " 2.7e-09\n",
        "time"
       ]
      },
      {
       "output_type": "stream",
       "stream": "stdout",
       "text": [
        " 2.71e-09\n",
        "time"
       ]
      },
      {
       "output_type": "stream",
       "stream": "stdout",
       "text": [
        " 2.72e-09\n",
        "time"
       ]
      },
      {
       "output_type": "stream",
       "stream": "stdout",
       "text": [
        " 2.73e-09\n",
        "time"
       ]
      },
      {
       "output_type": "stream",
       "stream": "stdout",
       "text": [
        " 2.74e-09\n",
        "time"
       ]
      },
      {
       "output_type": "stream",
       "stream": "stdout",
       "text": [
        " 2.75e-09\n",
        "time"
       ]
      },
      {
       "output_type": "stream",
       "stream": "stdout",
       "text": [
        " 2.76e-09\n",
        "time"
       ]
      },
      {
       "output_type": "stream",
       "stream": "stdout",
       "text": [
        " 2.77e-09\n",
        "time"
       ]
      },
      {
       "output_type": "stream",
       "stream": "stdout",
       "text": [
        " 2.78e-09\n",
        "time"
       ]
      },
      {
       "output_type": "stream",
       "stream": "stdout",
       "text": [
        " 2.79e-09\n",
        "time"
       ]
      },
      {
       "output_type": "stream",
       "stream": "stdout",
       "text": [
        " 2.8e-09\n",
        "time"
       ]
      },
      {
       "output_type": "stream",
       "stream": "stdout",
       "text": [
        " 2.81e-09\n",
        "time"
       ]
      },
      {
       "output_type": "stream",
       "stream": "stdout",
       "text": [
        " 2.82e-09\n",
        "time"
       ]
      },
      {
       "output_type": "stream",
       "stream": "stdout",
       "text": [
        " 2.83e-09\n",
        "time"
       ]
      },
      {
       "output_type": "stream",
       "stream": "stdout",
       "text": [
        " 2.84e-09\n",
        "time"
       ]
      },
      {
       "output_type": "stream",
       "stream": "stdout",
       "text": [
        " 2.85e-09\n",
        "time"
       ]
      },
      {
       "output_type": "stream",
       "stream": "stdout",
       "text": [
        " 2.86e-09\n",
        "time"
       ]
      },
      {
       "output_type": "stream",
       "stream": "stdout",
       "text": [
        " 2.87e-09\n",
        "time"
       ]
      },
      {
       "output_type": "stream",
       "stream": "stdout",
       "text": [
        " 2.88e-09\n",
        "time"
       ]
      },
      {
       "output_type": "stream",
       "stream": "stdout",
       "text": [
        " 2.89e-09\n",
        "time"
       ]
      },
      {
       "output_type": "stream",
       "stream": "stdout",
       "text": [
        " 2.9e-09\n",
        "time"
       ]
      },
      {
       "output_type": "stream",
       "stream": "stdout",
       "text": [
        " 2.91e-09\n",
        "time"
       ]
      },
      {
       "output_type": "stream",
       "stream": "stdout",
       "text": [
        " 2.92e-09\n",
        "time"
       ]
      },
      {
       "output_type": "stream",
       "stream": "stdout",
       "text": [
        " 2.93e-09\n",
        "time"
       ]
      },
      {
       "output_type": "stream",
       "stream": "stdout",
       "text": [
        " 2.94e-09\n",
        "time"
       ]
      },
      {
       "output_type": "stream",
       "stream": "stdout",
       "text": [
        " 2.95e-09\n",
        "time"
       ]
      },
      {
       "output_type": "stream",
       "stream": "stdout",
       "text": [
        " 2.96e-09\n",
        "time"
       ]
      },
      {
       "output_type": "stream",
       "stream": "stdout",
       "text": [
        " 2.97e-09\n",
        "time"
       ]
      },
      {
       "output_type": "stream",
       "stream": "stdout",
       "text": [
        " 2.98e-09\n",
        "time"
       ]
      },
      {
       "output_type": "stream",
       "stream": "stdout",
       "text": [
        " 2.99e-09\n",
        "time"
       ]
      },
      {
       "output_type": "stream",
       "stream": "stdout",
       "text": [
        " 3e-09\n",
        "time"
       ]
      },
      {
       "output_type": "stream",
       "stream": "stdout",
       "text": [
        " 3.01e-09\n",
        "time"
       ]
      },
      {
       "output_type": "stream",
       "stream": "stdout",
       "text": [
        " 3.02e-09\n",
        "time"
       ]
      },
      {
       "output_type": "stream",
       "stream": "stdout",
       "text": [
        " 3.03e-09\n",
        "time"
       ]
      },
      {
       "output_type": "stream",
       "stream": "stdout",
       "text": [
        " 3.04e-09\n",
        "time"
       ]
      },
      {
       "output_type": "stream",
       "stream": "stdout",
       "text": [
        " 3.05e-09\n",
        "time"
       ]
      },
      {
       "output_type": "stream",
       "stream": "stdout",
       "text": [
        " 3.06e-09\n",
        "time"
       ]
      },
      {
       "output_type": "stream",
       "stream": "stdout",
       "text": [
        " 3.07e-09\n",
        "time"
       ]
      },
      {
       "output_type": "stream",
       "stream": "stdout",
       "text": [
        " 3.08e-09\n",
        "time"
       ]
      },
      {
       "output_type": "stream",
       "stream": "stdout",
       "text": [
        " 3.09e-09\n",
        "time"
       ]
      },
      {
       "output_type": "stream",
       "stream": "stdout",
       "text": [
        " 3.1e-09\n",
        "time"
       ]
      },
      {
       "output_type": "stream",
       "stream": "stdout",
       "text": [
        " 3.11e-09\n",
        "time"
       ]
      },
      {
       "output_type": "stream",
       "stream": "stdout",
       "text": [
        " 3.12e-09\n",
        "time"
       ]
      },
      {
       "output_type": "stream",
       "stream": "stdout",
       "text": [
        " 3.13e-09\n",
        "time"
       ]
      },
      {
       "output_type": "stream",
       "stream": "stdout",
       "text": [
        " 3.14e-09\n",
        "time"
       ]
      },
      {
       "output_type": "stream",
       "stream": "stdout",
       "text": [
        " 3.15e-09\n",
        "time"
       ]
      },
      {
       "output_type": "stream",
       "stream": "stdout",
       "text": [
        " 3.16e-09\n",
        "time"
       ]
      },
      {
       "output_type": "stream",
       "stream": "stdout",
       "text": [
        " 3.17e-09\n",
        "time"
       ]
      },
      {
       "output_type": "stream",
       "stream": "stdout",
       "text": [
        " 3.18e-09\n",
        "time"
       ]
      },
      {
       "output_type": "stream",
       "stream": "stdout",
       "text": [
        " 3.19e-09\n",
        "time"
       ]
      },
      {
       "output_type": "stream",
       "stream": "stdout",
       "text": [
        " 3.2e-09\n",
        "time"
       ]
      },
      {
       "output_type": "stream",
       "stream": "stdout",
       "text": [
        " 3.21e-09\n",
        "time"
       ]
      },
      {
       "output_type": "stream",
       "stream": "stdout",
       "text": [
        " 3.22e-09\n",
        "time"
       ]
      },
      {
       "output_type": "stream",
       "stream": "stdout",
       "text": [
        " 3.23e-09\n",
        "time"
       ]
      },
      {
       "output_type": "stream",
       "stream": "stdout",
       "text": [
        " 3.24e-09\n",
        "time"
       ]
      },
      {
       "output_type": "stream",
       "stream": "stdout",
       "text": [
        " 3.25e-09\n",
        "time"
       ]
      },
      {
       "output_type": "stream",
       "stream": "stdout",
       "text": [
        " 3.26e-09\n",
        "time"
       ]
      },
      {
       "output_type": "stream",
       "stream": "stdout",
       "text": [
        " 3.27e-09\n",
        "time"
       ]
      },
      {
       "output_type": "stream",
       "stream": "stdout",
       "text": [
        " 3.28e-09\n",
        "time"
       ]
      },
      {
       "output_type": "stream",
       "stream": "stdout",
       "text": [
        " 3.29e-09\n",
        "time"
       ]
      },
      {
       "output_type": "stream",
       "stream": "stdout",
       "text": [
        " 3.3e-09\n",
        "time"
       ]
      },
      {
       "output_type": "stream",
       "stream": "stdout",
       "text": [
        " 3.31e-09\n",
        "time"
       ]
      },
      {
       "output_type": "stream",
       "stream": "stdout",
       "text": [
        " 3.32e-09\n",
        "time"
       ]
      },
      {
       "output_type": "stream",
       "stream": "stdout",
       "text": [
        " 3.33e-09\n",
        "time"
       ]
      },
      {
       "output_type": "stream",
       "stream": "stdout",
       "text": [
        " 3.34e-09\n",
        "time"
       ]
      },
      {
       "output_type": "stream",
       "stream": "stdout",
       "text": [
        " 3.35e-09\n",
        "time"
       ]
      },
      {
       "output_type": "stream",
       "stream": "stdout",
       "text": [
        " 3.36e-09\n",
        "time"
       ]
      },
      {
       "output_type": "stream",
       "stream": "stdout",
       "text": [
        " 3.37e-09\n",
        "time"
       ]
      },
      {
       "output_type": "stream",
       "stream": "stdout",
       "text": [
        " 3.38e-09\n",
        "time"
       ]
      },
      {
       "output_type": "stream",
       "stream": "stdout",
       "text": [
        " 3.39e-09\n",
        "time"
       ]
      },
      {
       "output_type": "stream",
       "stream": "stdout",
       "text": [
        " 3.4e-09\n",
        "time"
       ]
      },
      {
       "output_type": "stream",
       "stream": "stdout",
       "text": [
        " 3.41e-09\n",
        "time"
       ]
      },
      {
       "output_type": "stream",
       "stream": "stdout",
       "text": [
        " 3.42e-09\n",
        "time"
       ]
      },
      {
       "output_type": "stream",
       "stream": "stdout",
       "text": [
        " 3.43e-09\n",
        "time"
       ]
      },
      {
       "output_type": "stream",
       "stream": "stdout",
       "text": [
        " 3.44e-09\n",
        "time"
       ]
      },
      {
       "output_type": "stream",
       "stream": "stdout",
       "text": [
        " 3.45e-09\n",
        "time"
       ]
      },
      {
       "output_type": "stream",
       "stream": "stdout",
       "text": [
        " 3.46e-09\n",
        "time"
       ]
      },
      {
       "output_type": "stream",
       "stream": "stdout",
       "text": [
        " 3.47e-09\n",
        "time"
       ]
      },
      {
       "output_type": "stream",
       "stream": "stdout",
       "text": [
        " 3.48e-09\n",
        "time"
       ]
      },
      {
       "output_type": "stream",
       "stream": "stdout",
       "text": [
        " 3.49e-09\n",
        "time"
       ]
      },
      {
       "output_type": "stream",
       "stream": "stdout",
       "text": [
        " 3.5e-09\n",
        "time"
       ]
      },
      {
       "output_type": "stream",
       "stream": "stdout",
       "text": [
        " 3.51e-09\n",
        "time"
       ]
      },
      {
       "output_type": "stream",
       "stream": "stdout",
       "text": [
        " 3.52e-09\n",
        "time"
       ]
      },
      {
       "output_type": "stream",
       "stream": "stdout",
       "text": [
        " 3.53e-09\n",
        "time"
       ]
      },
      {
       "output_type": "stream",
       "stream": "stdout",
       "text": [
        " 3.54e-09\n",
        "time"
       ]
      },
      {
       "output_type": "stream",
       "stream": "stdout",
       "text": [
        " 3.55e-09\n",
        "time"
       ]
      },
      {
       "output_type": "stream",
       "stream": "stdout",
       "text": [
        " 3.56e-09\n",
        "time"
       ]
      },
      {
       "output_type": "stream",
       "stream": "stdout",
       "text": [
        " 3.57e-09\n",
        "time"
       ]
      },
      {
       "output_type": "stream",
       "stream": "stdout",
       "text": [
        " 3.58e-09\n",
        "time"
       ]
      },
      {
       "output_type": "stream",
       "stream": "stdout",
       "text": [
        " 3.59e-09\n",
        "time"
       ]
      },
      {
       "output_type": "stream",
       "stream": "stdout",
       "text": [
        " 3.6e-09\n",
        "time"
       ]
      },
      {
       "output_type": "stream",
       "stream": "stdout",
       "text": [
        " 3.61e-09\n",
        "time"
       ]
      },
      {
       "output_type": "stream",
       "stream": "stdout",
       "text": [
        " 3.62e-09\n",
        "time"
       ]
      },
      {
       "output_type": "stream",
       "stream": "stdout",
       "text": [
        " 3.63e-09\n",
        "time"
       ]
      },
      {
       "output_type": "stream",
       "stream": "stdout",
       "text": [
        " 3.64e-09\n",
        "time"
       ]
      },
      {
       "output_type": "stream",
       "stream": "stdout",
       "text": [
        " 3.65e-09\n",
        "time"
       ]
      },
      {
       "output_type": "stream",
       "stream": "stdout",
       "text": [
        " 3.66e-09\n",
        "time"
       ]
      },
      {
       "output_type": "stream",
       "stream": "stdout",
       "text": [
        " 3.67e-09\n",
        "time"
       ]
      },
      {
       "output_type": "stream",
       "stream": "stdout",
       "text": [
        " 3.68e-09\n",
        "time"
       ]
      },
      {
       "output_type": "stream",
       "stream": "stdout",
       "text": [
        " 3.69e-09\n",
        "time"
       ]
      },
      {
       "output_type": "stream",
       "stream": "stdout",
       "text": [
        " 3.7e-09\n",
        "time"
       ]
      },
      {
       "output_type": "stream",
       "stream": "stdout",
       "text": [
        " 3.71e-09\n",
        "time"
       ]
      },
      {
       "output_type": "stream",
       "stream": "stdout",
       "text": [
        " 3.72e-09\n",
        "time"
       ]
      },
      {
       "output_type": "stream",
       "stream": "stdout",
       "text": [
        " 3.73e-09\n",
        "time"
       ]
      },
      {
       "output_type": "stream",
       "stream": "stdout",
       "text": [
        " 3.74e-09\n",
        "time"
       ]
      },
      {
       "output_type": "stream",
       "stream": "stdout",
       "text": [
        " 3.75e-09\n",
        "time"
       ]
      },
      {
       "output_type": "stream",
       "stream": "stdout",
       "text": [
        " 3.76e-09\n",
        "time"
       ]
      },
      {
       "output_type": "stream",
       "stream": "stdout",
       "text": [
        " 3.77e-09\n",
        "time"
       ]
      },
      {
       "output_type": "stream",
       "stream": "stdout",
       "text": [
        " 3.78e-09\n",
        "time"
       ]
      },
      {
       "output_type": "stream",
       "stream": "stdout",
       "text": [
        " 3.79e-09\n",
        "time"
       ]
      },
      {
       "output_type": "stream",
       "stream": "stdout",
       "text": [
        " 3.8e-09\n",
        "time"
       ]
      },
      {
       "output_type": "stream",
       "stream": "stdout",
       "text": [
        " 3.81e-09\n",
        "time"
       ]
      },
      {
       "output_type": "stream",
       "stream": "stdout",
       "text": [
        " 3.82e-09\n",
        "time"
       ]
      },
      {
       "output_type": "stream",
       "stream": "stdout",
       "text": [
        " 3.83e-09\n",
        "time"
       ]
      },
      {
       "output_type": "stream",
       "stream": "stdout",
       "text": [
        " 3.84e-09\n",
        "time"
       ]
      },
      {
       "output_type": "stream",
       "stream": "stdout",
       "text": [
        " 3.85e-09\n",
        "time"
       ]
      },
      {
       "output_type": "stream",
       "stream": "stdout",
       "text": [
        " 3.86e-09\n",
        "time"
       ]
      },
      {
       "output_type": "stream",
       "stream": "stdout",
       "text": [
        " 3.87e-09\n",
        "time"
       ]
      },
      {
       "output_type": "stream",
       "stream": "stdout",
       "text": [
        " 3.88e-09\n",
        "time"
       ]
      },
      {
       "output_type": "stream",
       "stream": "stdout",
       "text": [
        " 3.89e-09\n",
        "time"
       ]
      },
      {
       "output_type": "stream",
       "stream": "stdout",
       "text": [
        " 3.9e-09\n",
        "time"
       ]
      },
      {
       "output_type": "stream",
       "stream": "stdout",
       "text": [
        " 3.91e-09\n",
        "time"
       ]
      },
      {
       "output_type": "stream",
       "stream": "stdout",
       "text": [
        " 3.92e-09\n",
        "time"
       ]
      },
      {
       "output_type": "stream",
       "stream": "stdout",
       "text": [
        " 3.93e-09\n",
        "time"
       ]
      },
      {
       "output_type": "stream",
       "stream": "stdout",
       "text": [
        " 3.94e-09\n",
        "time"
       ]
      },
      {
       "output_type": "stream",
       "stream": "stdout",
       "text": [
        " 3.95e-09\n",
        "time"
       ]
      },
      {
       "output_type": "stream",
       "stream": "stdout",
       "text": [
        " 3.96e-09\n",
        "time"
       ]
      },
      {
       "output_type": "stream",
       "stream": "stdout",
       "text": [
        " 3.97e-09\n",
        "time"
       ]
      },
      {
       "output_type": "stream",
       "stream": "stdout",
       "text": [
        " 3.98e-09\n",
        "time"
       ]
      },
      {
       "output_type": "stream",
       "stream": "stdout",
       "text": [
        " 3.99e-09\n",
        "time"
       ]
      },
      {
       "output_type": "stream",
       "stream": "stdout",
       "text": [
        " 4e-09\n",
        "time"
       ]
      },
      {
       "output_type": "stream",
       "stream": "stdout",
       "text": [
        " 4.01e-09\n",
        "time"
       ]
      },
      {
       "output_type": "stream",
       "stream": "stdout",
       "text": [
        " 4.02e-09\n",
        "time"
       ]
      },
      {
       "output_type": "stream",
       "stream": "stdout",
       "text": [
        " 4.03e-09\n",
        "time"
       ]
      },
      {
       "output_type": "stream",
       "stream": "stdout",
       "text": [
        " 4.04e-09\n",
        "time"
       ]
      },
      {
       "output_type": "stream",
       "stream": "stdout",
       "text": [
        " 4.05e-09\n",
        "time"
       ]
      },
      {
       "output_type": "stream",
       "stream": "stdout",
       "text": [
        " 4.06e-09\n",
        "time"
       ]
      },
      {
       "output_type": "stream",
       "stream": "stdout",
       "text": [
        " 4.07e-09\n",
        "time"
       ]
      },
      {
       "output_type": "stream",
       "stream": "stdout",
       "text": [
        " 4.08e-09\n",
        "time"
       ]
      },
      {
       "output_type": "stream",
       "stream": "stdout",
       "text": [
        " 4.09e-09\n",
        "time"
       ]
      },
      {
       "output_type": "stream",
       "stream": "stdout",
       "text": [
        " 4.1e-09\n",
        "time"
       ]
      },
      {
       "output_type": "stream",
       "stream": "stdout",
       "text": [
        " 4.11e-09\n",
        "time"
       ]
      },
      {
       "output_type": "stream",
       "stream": "stdout",
       "text": [
        " 4.12e-09\n",
        "time"
       ]
      },
      {
       "output_type": "stream",
       "stream": "stdout",
       "text": [
        " 4.13e-09\n",
        "time"
       ]
      },
      {
       "output_type": "stream",
       "stream": "stdout",
       "text": [
        " 4.14e-09\n",
        "time"
       ]
      },
      {
       "output_type": "stream",
       "stream": "stdout",
       "text": [
        " 4.15e-09\n",
        "time"
       ]
      },
      {
       "output_type": "stream",
       "stream": "stdout",
       "text": [
        " 4.16e-09\n",
        "time"
       ]
      },
      {
       "output_type": "stream",
       "stream": "stdout",
       "text": [
        " 4.17e-09\n",
        "time"
       ]
      },
      {
       "output_type": "stream",
       "stream": "stdout",
       "text": [
        " 4.18e-09\n",
        "time"
       ]
      },
      {
       "output_type": "stream",
       "stream": "stdout",
       "text": [
        " 4.19e-09\n",
        "time"
       ]
      },
      {
       "output_type": "stream",
       "stream": "stdout",
       "text": [
        " 4.2e-09\n",
        "time"
       ]
      },
      {
       "output_type": "stream",
       "stream": "stdout",
       "text": [
        " 4.21e-09\n",
        "time"
       ]
      },
      {
       "output_type": "stream",
       "stream": "stdout",
       "text": [
        " 4.22e-09\n",
        "time"
       ]
      },
      {
       "output_type": "stream",
       "stream": "stdout",
       "text": [
        " 4.23e-09\n",
        "time"
       ]
      },
      {
       "output_type": "stream",
       "stream": "stdout",
       "text": [
        " 4.24e-09\n",
        "time"
       ]
      },
      {
       "output_type": "stream",
       "stream": "stdout",
       "text": [
        " 4.25e-09\n",
        "time"
       ]
      },
      {
       "output_type": "stream",
       "stream": "stdout",
       "text": [
        " 4.26e-09\n",
        "time"
       ]
      },
      {
       "output_type": "stream",
       "stream": "stdout",
       "text": [
        " 4.27e-09\n",
        "time"
       ]
      },
      {
       "output_type": "stream",
       "stream": "stdout",
       "text": [
        " 4.28e-09\n",
        "time"
       ]
      },
      {
       "output_type": "stream",
       "stream": "stdout",
       "text": [
        " 4.29e-09\n",
        "time"
       ]
      },
      {
       "output_type": "stream",
       "stream": "stdout",
       "text": [
        " 4.3e-09\n",
        "time"
       ]
      },
      {
       "output_type": "stream",
       "stream": "stdout",
       "text": [
        " 4.31e-09\n",
        "time"
       ]
      },
      {
       "output_type": "stream",
       "stream": "stdout",
       "text": [
        " 4.32e-09\n",
        "time"
       ]
      },
      {
       "output_type": "stream",
       "stream": "stdout",
       "text": [
        " 4.33e-09\n",
        "time"
       ]
      },
      {
       "output_type": "stream",
       "stream": "stdout",
       "text": [
        " 4.34e-09\n",
        "time"
       ]
      },
      {
       "output_type": "stream",
       "stream": "stdout",
       "text": [
        " 4.35e-09\n",
        "time"
       ]
      },
      {
       "output_type": "stream",
       "stream": "stdout",
       "text": [
        " 4.36e-09\n",
        "time"
       ]
      },
      {
       "output_type": "stream",
       "stream": "stdout",
       "text": [
        " 4.37e-09\n",
        "time"
       ]
      },
      {
       "output_type": "stream",
       "stream": "stdout",
       "text": [
        " 4.38e-09\n",
        "time"
       ]
      },
      {
       "output_type": "stream",
       "stream": "stdout",
       "text": [
        " 4.39e-09\n",
        "time"
       ]
      },
      {
       "output_type": "stream",
       "stream": "stdout",
       "text": [
        " 4.4e-09\n",
        "time"
       ]
      },
      {
       "output_type": "stream",
       "stream": "stdout",
       "text": [
        " 4.41e-09\n",
        "time"
       ]
      },
      {
       "output_type": "stream",
       "stream": "stdout",
       "text": [
        " 4.42e-09\n",
        "time"
       ]
      },
      {
       "output_type": "stream",
       "stream": "stdout",
       "text": [
        " 4.43e-09\n",
        "time"
       ]
      },
      {
       "output_type": "stream",
       "stream": "stdout",
       "text": [
        " 4.44e-09\n",
        "time"
       ]
      },
      {
       "output_type": "stream",
       "stream": "stdout",
       "text": [
        " 4.45e-09\n",
        "time"
       ]
      },
      {
       "output_type": "stream",
       "stream": "stdout",
       "text": [
        " 4.46e-09\n",
        "time"
       ]
      },
      {
       "output_type": "stream",
       "stream": "stdout",
       "text": [
        " 4.47e-09\n",
        "time"
       ]
      },
      {
       "output_type": "stream",
       "stream": "stdout",
       "text": [
        " 4.48e-09\n",
        "time"
       ]
      },
      {
       "output_type": "stream",
       "stream": "stdout",
       "text": [
        " 4.49e-09\n",
        "time"
       ]
      },
      {
       "output_type": "stream",
       "stream": "stdout",
       "text": [
        " 4.5e-09\n",
        "time"
       ]
      },
      {
       "output_type": "stream",
       "stream": "stdout",
       "text": [
        " 4.51e-09\n",
        "time"
       ]
      },
      {
       "output_type": "stream",
       "stream": "stdout",
       "text": [
        " 4.52e-09\n",
        "time"
       ]
      },
      {
       "output_type": "stream",
       "stream": "stdout",
       "text": [
        " 4.53e-09\n",
        "time"
       ]
      },
      {
       "output_type": "stream",
       "stream": "stdout",
       "text": [
        " 4.54e-09\n",
        "time"
       ]
      },
      {
       "output_type": "stream",
       "stream": "stdout",
       "text": [
        " 4.55e-09\n",
        "time"
       ]
      },
      {
       "output_type": "stream",
       "stream": "stdout",
       "text": [
        " 4.56e-09\n",
        "time"
       ]
      },
      {
       "output_type": "stream",
       "stream": "stdout",
       "text": [
        " 4.57e-09\n",
        "time"
       ]
      },
      {
       "output_type": "stream",
       "stream": "stdout",
       "text": [
        " 4.58e-09\n",
        "time"
       ]
      },
      {
       "output_type": "stream",
       "stream": "stdout",
       "text": [
        " 4.59e-09\n",
        "time"
       ]
      },
      {
       "output_type": "stream",
       "stream": "stdout",
       "text": [
        " 4.6e-09\n",
        "time"
       ]
      },
      {
       "output_type": "stream",
       "stream": "stdout",
       "text": [
        " 4.61e-09\n",
        "time"
       ]
      },
      {
       "output_type": "stream",
       "stream": "stdout",
       "text": [
        " 4.62e-09\n",
        "time"
       ]
      },
      {
       "output_type": "stream",
       "stream": "stdout",
       "text": [
        " 4.63e-09\n",
        "time"
       ]
      },
      {
       "output_type": "stream",
       "stream": "stdout",
       "text": [
        " 4.64e-09\n",
        "time"
       ]
      },
      {
       "output_type": "stream",
       "stream": "stdout",
       "text": [
        " 4.65e-09\n",
        "time"
       ]
      },
      {
       "output_type": "stream",
       "stream": "stdout",
       "text": [
        " 4.66e-09\n",
        "time"
       ]
      },
      {
       "output_type": "stream",
       "stream": "stdout",
       "text": [
        " 4.67e-09\n",
        "time"
       ]
      },
      {
       "output_type": "stream",
       "stream": "stdout",
       "text": [
        " 4.68e-09\n",
        "time"
       ]
      },
      {
       "output_type": "stream",
       "stream": "stdout",
       "text": [
        " 4.69e-09\n",
        "time"
       ]
      },
      {
       "output_type": "stream",
       "stream": "stdout",
       "text": [
        " 4.7e-09\n",
        "time"
       ]
      },
      {
       "output_type": "stream",
       "stream": "stdout",
       "text": [
        " 4.71e-09\n",
        "time"
       ]
      },
      {
       "output_type": "stream",
       "stream": "stdout",
       "text": [
        " 4.72e-09\n",
        "time"
       ]
      },
      {
       "output_type": "stream",
       "stream": "stdout",
       "text": [
        " 4.73e-09\n",
        "time"
       ]
      },
      {
       "output_type": "stream",
       "stream": "stdout",
       "text": [
        " 4.74e-09\n",
        "time"
       ]
      },
      {
       "output_type": "stream",
       "stream": "stdout",
       "text": [
        " 4.75e-09\n",
        "time"
       ]
      },
      {
       "output_type": "stream",
       "stream": "stdout",
       "text": [
        " 4.76e-09\n",
        "time"
       ]
      },
      {
       "output_type": "stream",
       "stream": "stdout",
       "text": [
        " 4.77e-09\n",
        "time"
       ]
      },
      {
       "output_type": "stream",
       "stream": "stdout",
       "text": [
        " 4.78e-09\n",
        "time"
       ]
      },
      {
       "output_type": "stream",
       "stream": "stdout",
       "text": [
        " 4.79e-09\n",
        "time"
       ]
      },
      {
       "output_type": "stream",
       "stream": "stdout",
       "text": [
        " 4.8e-09\n",
        "time"
       ]
      },
      {
       "output_type": "stream",
       "stream": "stdout",
       "text": [
        " 4.81e-09\n",
        "time"
       ]
      },
      {
       "output_type": "stream",
       "stream": "stdout",
       "text": [
        " 4.82e-09\n",
        "time"
       ]
      },
      {
       "output_type": "stream",
       "stream": "stdout",
       "text": [
        " 4.83e-09\n",
        "time"
       ]
      },
      {
       "output_type": "stream",
       "stream": "stdout",
       "text": [
        " 4.84e-09\n",
        "time"
       ]
      },
      {
       "output_type": "stream",
       "stream": "stdout",
       "text": [
        " 4.85e-09\n",
        "time"
       ]
      },
      {
       "output_type": "stream",
       "stream": "stdout",
       "text": [
        " 4.86e-09\n",
        "time"
       ]
      },
      {
       "output_type": "stream",
       "stream": "stdout",
       "text": [
        " 4.87e-09\n",
        "time"
       ]
      },
      {
       "output_type": "stream",
       "stream": "stdout",
       "text": [
        " 4.88e-09\n",
        "time"
       ]
      },
      {
       "output_type": "stream",
       "stream": "stdout",
       "text": [
        " 4.89e-09\n",
        "time"
       ]
      },
      {
       "output_type": "stream",
       "stream": "stdout",
       "text": [
        " 4.9e-09\n",
        "time"
       ]
      },
      {
       "output_type": "stream",
       "stream": "stdout",
       "text": [
        " 4.91e-09\n",
        "time"
       ]
      },
      {
       "output_type": "stream",
       "stream": "stdout",
       "text": [
        " 4.92e-09\n",
        "time"
       ]
      },
      {
       "output_type": "stream",
       "stream": "stdout",
       "text": [
        " 4.93e-09\n",
        "time"
       ]
      },
      {
       "output_type": "stream",
       "stream": "stdout",
       "text": [
        " 4.94e-09\n",
        "time"
       ]
      },
      {
       "output_type": "stream",
       "stream": "stdout",
       "text": [
        " 4.95e-09\n",
        "time"
       ]
      },
      {
       "output_type": "stream",
       "stream": "stdout",
       "text": [
        " 4.96e-09\n",
        "time"
       ]
      },
      {
       "output_type": "stream",
       "stream": "stdout",
       "text": [
        " 4.97e-09\n",
        "time"
       ]
      },
      {
       "output_type": "stream",
       "stream": "stdout",
       "text": [
        " 4.98e-09\n",
        "time"
       ]
      },
      {
       "output_type": "stream",
       "stream": "stdout",
       "text": [
        " 4.99e-09\n",
        "time"
       ]
      },
      {
       "output_type": "stream",
       "stream": "stdout",
       "text": [
        " 5e-09\n"
       ]
      }
     ],
     "prompt_number": 12
    },
    {
     "cell_type": "markdown",
     "metadata": {},
     "source": [
      "We plot once again to compare the initial state with the ones excited by the STT"
     ]
    },
    {
     "cell_type": "code",
     "collapsed": false,
     "input": [
      "# We can plot the m_x component for a number snapshots\n",
      "# to observe the DW motion\n",
      "# We will plot the 200th and 499th file (the last one\n",
      "# is the system at ~5 ns)\n",
      "plot_magnetisation([['m0.npy', 'mx'],\n",
      "                    ['dyn_npys/m_200.npy', 'mx'],\n",
      "                    ['dyn_npys/m_200.npy', 'mz'],\n",
      "                    ['dyn_npys/m_499.npy', 'mx'],\n",
      "                    ['dyn_npys/m_499.npy', 'mz']\n",
      "                    ],\n",
      "                   # save_file='dw_motion_stt.pdf'\n",
      "                   )"
     ],
     "language": "python",
     "metadata": {},
     "outputs": [
      {
       "metadata": {},
       "output_type": "display_data",
       "png": "[encoded data removed]",
       "text": [
        "<matplotlib.figure.Figure at 0x7f58b3ac4190>"
       ]
      }
     ],
     "prompt_number": 13
    },
    {
     "cell_type": "markdown",
     "metadata": {},
     "source": [
      "We can test the DW position of these systems:"
     ]
    },
    {
     "cell_type": "code",
     "collapsed": false,
     "input": [
      "m0_z = np.load('dyn_npys/m_200.npy').reshape(3, -1)[2]\n",
      "x = np.arange(len(m0_z))\n",
      "\n",
      "print 'Maximum |m_z| in the 200th snapshot, at x =', x[np.argmax(np.abs(m0_z))]"
     ],
     "language": "python",
     "metadata": {},
     "outputs": [
      {
       "output_type": "stream",
       "stream": "stdout",
       "text": [
        "Maximum |m_z| in the 200th snapshot, at x = 260\n"
       ]
      }
     ],
     "prompt_number": 14
    },
    {
     "cell_type": "code",
     "collapsed": false,
     "input": [
      "m0_z = np.load('dyn_npys/m_499.npy').reshape(3, -1)[2]\n",
      "\n",
      "print 'Maximum |m_z| in the 499th snapshot, at x =', x[np.argmax(np.abs(m0_z))]"
     ],
     "language": "python",
     "metadata": {},
     "outputs": [
      {
       "output_type": "stream",
       "stream": "stdout",
       "text": [
        "Maximum |m_z| in the 499th snapshot, at x = 312\n"
       ]
      }
     ],
     "prompt_number": 15
    }
   ],
   "metadata": {}
  }
 ]
}