{
 "metadata": {
  "name": "",
  "signature": "sha256:dcbd1091b2601f5ab7b03f2d5984548f913c4bbf4d1d4af06aeb02ee45173a4c"
 },
 "nbformat": 3,
 "nbformat_minor": 0,
 "worksheets": [
  {
   "cells": [
    {
     "cell_type": "heading",
     "level": 1,
     "metadata": {},
     "source": [
      "DW motion using Spin Polarised Currents"
     ]
    },
    {
     "cell_type": "heading",
     "level": 2,
     "metadata": {},
     "source": [
      "Libraries"
     ]
    },
    {
     "cell_type": "code",
     "collapsed": false,
     "input": [
      "import matplotlib as mpl\n",
      "mpl.use(\"Agg\")\n",
      "import matplotlib.pyplot as plt\n",
      "import numpy as np\n",
      "\n",
      "# FIDIMAG libraries\n",
      "from micro import Sim\n",
      "from micro import FDMesh\n",
      "\n",
      "# The energies (we can use DMI in a future simulation)\n",
      "from micro import UniformExchange\n",
      "from micro import UniaxialAnisotropy\n",
      "# from micro import DMI"
     ],
     "language": "python",
     "metadata": {},
     "outputs": [
      {
       "output_type": "stream",
       "stream": "stderr",
       "text": [
        "/usr/local/lib/python2.7/dist-packages/matplotlib/__init__.py:1312: UserWarning:  This call to matplotlib.use() has no effect\n",
        "because the backend has already been chosen;\n",
        "matplotlib.use() must be called *before* pylab, matplotlib.pyplot,\n",
        "or matplotlib.backends is imported for the first time.\n",
        "\n",
        "  warnings.warn(_use_error_msg)\n"
       ]
      },
      {
       "ename": "ImportError",
       "evalue": "No module named micro",
       "output_type": "pyerr",
       "traceback": [
        "\u001b[1;31m---------------------------------------------------------------------------\u001b[0m\n\u001b[1;31mImportError\u001b[0m                               Traceback (most recent call last)",
        "\u001b[1;32m<ipython-input-2-bcb584c7629d>\u001b[0m in \u001b[0;36m<module>\u001b[1;34m()\u001b[0m\n\u001b[0;32m      5\u001b[0m \u001b[1;33m\u001b[0m\u001b[0m\n\u001b[0;32m      6\u001b[0m \u001b[1;31m# FIDIMAG libraries\u001b[0m\u001b[1;33m\u001b[0m\u001b[1;33m\u001b[0m\u001b[0m\n\u001b[1;32m----> 7\u001b[1;33m \u001b[1;32mfrom\u001b[0m \u001b[0mmicro\u001b[0m \u001b[1;32mimport\u001b[0m \u001b[0mSim\u001b[0m\u001b[1;33m\u001b[0m\u001b[0m\n\u001b[0m\u001b[0;32m      8\u001b[0m \u001b[1;32mfrom\u001b[0m \u001b[0mmicro\u001b[0m \u001b[1;32mimport\u001b[0m \u001b[0mFDMesh\u001b[0m\u001b[1;33m\u001b[0m\u001b[0m\n\u001b[0;32m      9\u001b[0m \u001b[1;33m\u001b[0m\u001b[0m\n",
        "\u001b[1;31mImportError\u001b[0m: No module named micro"
       ]
      }
     ],
     "prompt_number": 2
    },
    {
     "cell_type": "heading",
     "level": 2,
     "metadata": {},
     "source": [
      "Simulation Functions"
     ]
    },
    {
     "cell_type": "markdown",
     "metadata": {},
     "source": [
      "We start defining functions to run the Fidimag simulations. The initial state is a rough approximation of a Domain Wall (DW):"
     ]
    },
    {
     "cell_type": "code",
     "collapsed": false,
     "input": [
      "mu0 = 4 * np.pi * 1e-7\n",
      "\n",
      "# Initial State, a rough DW in a 1D chain\n",
      "def init_m(pos):\n",
      "\n",
      "    x = pos[0]\n",
      "\n",
      "    if x < 400:\n",
      "        return (1, 0, 0)\n",
      "    elif 400 <= x < 500:\n",
      "        return (0, 1, 1)\n",
      "    else:\n",
      "        return (-1, 0, 0)\n"
     ],
     "language": "python",
     "metadata": {},
     "outputs": []
    },
    {
     "cell_type": "markdown",
     "metadata": {},
     "source": [
      "The initial state will be relaxed for a specific mesh:"
     ]
    },
    {
     "cell_type": "code",
     "collapsed": false,
     "input": [
      "def relax_system(mesh):\n",
      "\n",
      "    # Only relaxation\n",
      "    sim = Sim(mesh, name='relax')\n",
      "\n",
      "    # Simulation parameters\n",
      "    sim.set_tols(rtol=1e-8, atol=1e-10)\n",
      "    sim.alpha = 0.5\n",
      "    sim.gamma = 2.211e5\n",
      "    sim.Ms = 8.6e5\n",
      "    sim.do_procession = False\n",
      "\n",
      "    # The initial state passed as a function\n",
      "    sim.set_m(init_m)\n",
      "    # sim.set_m(np.load('m0.npy'))\n",
      "\n",
      "    # Energies\n",
      "    A = 1.3e-11\n",
      "    exch = UniformExchange(A=A)\n",
      "    sim.add(exch)\n",
      "\n",
      "    anis = UniaxialAnisotropy(5e4)\n",
      "    sim.add(anis)\n",
      "\n",
      "    # dmi = DMI(D=8e-4)\n",
      "    # sim.add(dmi)\n",
      "\n",
      "    # Start relaxation and save the state in m0.npy\n",
      "    sim.relax(dt=1e-14, stopping_dmdt=0.00001, max_steps=5000,\n",
      "              save_m_steps=None, save_vtk_steps=None)\n",
      "\n",
      "    np.save('m0.npy', sim.spin)"
     ],
     "language": "python",
     "metadata": {},
     "outputs": []
    },
    {
     "cell_type": "markdown",
     "metadata": {},
     "source": [
      "A plot of the system can be done with the following function, which shows a specific magnetisation component along the 1D chain of spins."
     ]
    },
    {
     "cell_type": "code",
     "collapsed": false,
     "input": [
      "def plot_magnetisation(_list, save_file=None):\n",
      "    \"\"\"\n",
      "    The list contain any number of list with two entries:\n",
      "    the _file path and the component of the magnetisation\n",
      "    in the formats:\n",
      "\n",
      "            mx, my, mz\n",
      "\n",
      "    e.g.\n",
      "            _list = [ ['m0.npy', 'mz'], ... ]\n",
      "    \n",
      "    Optional:\n",
      "        save_file     :: output file name in a string\n",
      "\n",
      "    \"\"\"\n",
      "\n",
      "    plt.figure()\n",
      "\n",
      "    comp = {'mx': 0, 'my': 1, 'mz': 2}\n",
      "\n",
      "    for element in _list:\n",
      "        # element[0]  --> _file\n",
      "        # element[1]  --> m component: mx, my or mz\n",
      "        \n",
      "        # The npy files contain the spin vector components in the\n",
      "        # format:\n",
      "        #     [mx1, mx2, mx3, ... , my1, my2, my3, ... , mz1, mz2, mz3, ...]\n",
      "        #\n",
      "        # Thus we convert this to a  3 x N array and extract the\n",
      "        # component specified in every list\n",
      "        data = np.load(element[0])\n",
      "        data.shape = (3, -1)\n",
      "\n",
      "        mx = data[comp[element[1]]]\n",
      "        \n",
      "        # The label is the component and the file name\n",
      "        plt.plot(mx, '--',\n",
      "                 label=element[1] + ' / %s' % element[0],\n",
      "                 dashes=(2, 2))\n",
      "\n",
      "    plt.legend()\n",
      "    # We assume the chain is in the x direction\n",
      "    plt.xlabel(r'x')\n",
      "    \n",
      "    if save_file:\n",
      "        plt.savefig(output_file)\n",
      "    \n",
      "    plt.show()"
     ],
     "language": "python",
     "metadata": {},
     "outputs": []
    },
    {
     "cell_type": "markdown",
     "metadata": {},
     "source": [
      "The last function is the excitation with a current in the -x direction. This will cause the DW to motion, which we will plot later to observe the dynamical process."
     ]
    },
    {
     "cell_type": "code",
     "collapsed": false,
     "input": [
      "# This function excites the system with a\n",
      "# current in the x-direction using Spin Transfer Torque\n",
      "# formalism\n",
      "def excite_system(mesh):\n",
      "\n",
      "    # Specify the stt dynamics in the simulation\n",
      "    sim = Sim(mesh, name='dyn', driver='llg_stt')\n",
      "    \n",
      "    # Set the simulation parameters\n",
      "    sim.set_tols(rtol=1e-12, atol=1e-14)\n",
      "    sim.alpha = 0.05\n",
      "    sim.gamma = 2.211e5\n",
      "    sim.Ms = 8.6e5\n",
      "\n",
      "    # Load the initial state from the npy file saved\n",
      "    # in the realxation\n",
      "    sim.set_m(np.load('m0.npy'))\n",
      "\n",
      "    # Add the energies\n",
      "    A = 1.3e-11\n",
      "    exch = UniformExchange(A=A)\n",
      "    sim.add(exch)\n",
      "\n",
      "    anis = UniaxialAnisotropy(5e4)\n",
      "    sim.add(anis)\n",
      "\n",
      "    # dmi = DMI(D=8e-4)\n",
      "    # sim.add(dmi)\n",
      "\n",
      "    # Set the current in the x direction, in A / m\n",
      "    # beta is the parameter in the STT torque\n",
      "    sim.jx = -1e12\n",
      "    sim.beta = 1\n",
      "\n",
      "    # The simulation will run for 5 ns and save\n",
      "    # 500 snapshots of the system in the process\n",
      "    ts = np.linspace(0, 5e-9, 501)\n",
      "\n",
      "    for t in ts:\n",
      "        print 'time', t\n",
      "        sim.run_until(t)\n",
      "        sim.save_vtk()\n",
      "        sim.save_m()\n"
     ],
     "language": "python",
     "metadata": {},
     "outputs": []
    },
    {
     "cell_type": "heading",
     "level": 2,
     "metadata": {},
     "source": [
      "Initiate Simulation"
     ]
    },
    {
     "cell_type": "markdown",
     "metadata": {},
     "source": [
      "In Fidimag, `nx`, `ny` and `nz` are the number of `dx`, `dy` and `dz` elements in the corresponding directions. The mesh is used in the previously defined functions: "
     ]
    },
    {
     "cell_type": "code",
     "collapsed": false,
     "input": [
      "# We will crate a mesh with 1000 elements of elements\n",
      "# in the x direction, and 1 along y and z\n",
      "# (so we have a 1D system)\n",
      "mesh = FDMesh(nx=1000, ny=1, nz=1,\n",
      "              dx=2, dy=2, dz=2.0,\n",
      "              unit_length=1e-9)\n",
      "\n",
      "# Relax the initial state. It will save the last state\n",
      "# to the m0.npy file\n",
      "relax_system(mesh)\n",
      "\n",
      "# Plot the initial State mx component. Uncomment the\n",
      "# file name to save the figure\n",
      "deal_plot([['m0.npy', 'mx']], \n",
      "          # save_file='initial_state.pdf'\n",
      "          )"
     ],
     "language": "python",
     "metadata": {},
     "outputs": []
    },
    {
     "cell_type": "code",
     "collapsed": false,
     "input": [
      "\n",
      "\n",
      "# Now we excite the system with the current\n",
      "excite_system(mesh)\n",
      "\n",
      "# Plot the dynamics of a single spin\n",
      "# deal_plot_dynamics()\n",
      "\n",
      "# We can plot the m_z component for a number snapshots\n",
      "# to observe the DW motion\n",
      "# We will plot the 200th and 499th file (the last one\n",
      "# is the system at ~5 ns)\n",
      "deal_plot([['m0.npy', 'mx'],\n",
      "           ['dyn_npys/m_200.npy', 'mx'],\n",
      "           ['dyn_npys/m_499.npy', 'mx']\n",
      "           ],\n",
      "          'dw_motion_stt.pdf')"
     ],
     "language": "python",
     "metadata": {},
     "outputs": []
    }
   ],
   "metadata": {}
  }
 ]
}