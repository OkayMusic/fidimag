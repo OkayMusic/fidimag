{
 "cells": [
  {
   "cell_type": "markdown",
   "metadata": {},
   "source": [
    "# Spin-polarised-current-driven domain wall"
   ]
  },
  {
   "cell_type": "markdown",
   "metadata": {},
   "source": [
    "**Author**: Marijan Beg, Weiwei Wang\n",
    "\n",
    "**Date**: 18 Mar 2016\n",
    "\n",
    "This notebook can be downloaded from the github repository, found [here](https://github.com/computationalmodelling/fidimag/blob/master/doc/ipynb/current-driven-domain-wall.ipynb)."
   ]
  },
  {
   "cell_type": "markdown",
   "metadata": {},
   "source": [
    "### Problem specification"
   ]
  },
  {
   "cell_type": "markdown",
   "metadata": {},
   "source": [
    "The simulated sample is a 1D nanowire cuboid with $L=1000 \\,\\text{nm}$ length with finite difference discretisation $d_{x} = d_{y} = d_{z} = 2 \\,\\text{nm}$.\n",
    "\n",
    "The material parameters (similar to permalloy) are:\n",
    "    \n",
    "- exchange energy constant $A = 1.3 \\times 10^{-11} \\,\\text{J/m}$,\n",
    "- magnetisation saturation $M_\\text{s} = 8.6 \\times 10^{5} \\,\\text{A/m}$,\n",
    "- uniaxial anisotropy constant $K=5 \\times 10^{4} \\,\\text{J/m}^{3}$ with $(0, 0, 1)$ easy-axis,\n",
    "- Gilbert damping $\\alpha = 0.5$.\n",
    "\n",
    "After the system is relaxed to a domain wall, a spin-polarised current with $J=1 \\times 10^{12} \\text{A/m}^{2}$ density is applied in the positive x direction $(1, 0, 0)$."
   ]
  },
  {
   "cell_type": "markdown",
   "metadata": {},
   "source": [
    "### Simulation functions"
   ]
  },
  {
   "cell_type": "code",
   "execution_count": 1,
   "metadata": {
    "collapsed": false
   },
   "outputs": [],
   "source": [
    "import matplotlib.pyplot as plt\n",
    "import numpy as np\n",
    "from fidimag.micro import Sim, UniformExchange, UniaxialAnisotropy\n",
    "from fidimag.common import CuboidMesh\n",
    "%matplotlib inline"
   ]
  },
  {
   "cell_type": "markdown",
   "metadata": {},
   "source": [
    "We start by defining parameters and a function for initialising the system so that it relaxes to the domain wall."
   ]
  },
  {
   "cell_type": "code",
   "execution_count": 2,
   "metadata": {
    "collapsed": false
   },
   "outputs": [],
   "source": [
    "Ms = 8.6e5  # magnetisation saturation (A/m)\n",
    "A = 1.3e-11  # exchange energy constant (J/m)\n",
    "alpha = 0.5  # Gilbert damping\n",
    "gamma = 2.211e5  # gyromagnetic ration (m/As)\n",
    "K = 5e4  # uniaxial anisotropy constant (J/m**3)\n",
    "J = 1e12  # spin-polarised current density (A/m**2)\n",
    "beta = 1  # STT parameter\n",
    "\n",
    "def init_m(pos):\n",
    "    x = pos[0]\n",
    "\n",
    "    if x < 200:\n",
    "        return (1, 0, 0)\n",
    "    elif 200 <= x < 300:\n",
    "        return (0, 1, 1)\n",
    "    else:\n",
    "        return (-1, 0, 0)"
   ]
  },
  {
   "cell_type": "markdown",
   "metadata": {},
   "source": [
    "Using this function, we create a new function which relaxes the system to its equilibrium (domain wall) state according to the problem specification."
   ]
  },
  {
   "cell_type": "code",
   "execution_count": 3,
   "metadata": {
    "collapsed": false
   },
   "outputs": [],
   "source": [
    "def relax_system(mesh):\n",
    "    # Create a simulation object.\n",
    "    sim = Sim(mesh)\n",
    "\n",
    "    # Set simulation parameters.\n",
    "    sim.driver.set_tols(rtol=1e-8, atol=1e-8)\n",
    "    sim.driver.alpha = alpha\n",
    "    sim.driver.gamma = gamma\n",
    "    sim.Ms = Ms\n",
    "\n",
    "    # Add energies to the system.\n",
    "    sim.add(UniformExchange(A=A))\n",
    "    sim.add(UniaxialAnisotropy(K))\n",
    "\n",
    "    # Initialise the system.\n",
    "    sim.set_m(init_m)\n",
    "    \n",
    "    # Relax the system and save the state in m0.npy\n",
    "    sim.driver.relax(dt=1e-14, stopping_dmdt=0.01, max_steps=5000,\n",
    "                     save_m_steps=None, save_vtk_steps=None)\n",
    "\n",
    "    np.save('m0.npy', sim.spin)"
   ]
  },
  {
   "cell_type": "markdown",
   "metadata": {},
   "source": [
    "A plot of the system's magnetisation can be created using the following convenience function."
   ]
  },
  {
   "cell_type": "code",
   "execution_count": 4,
   "metadata": {
    "collapsed": false
   },
   "outputs": [],
   "source": [
    "def plot_magnetisation(components):\n",
    "    plt.figure(figsize=(8, 6))\n",
    "\n",
    "    comp = {'mx': 0, 'my': 1, 'mz': 2}\n",
    "\n",
    "    for element in components:\n",
    "        data = np.load(element[0])\n",
    "        data.shape = (-1, 3)\n",
    "\n",
    "        mc = data[:, comp[element[1]]]\n",
    "        \n",
    "        # The label is the component and the file name\n",
    "        plt.plot(mc, label=element[1])\n",
    "\n",
    "    plt.legend()\n",
    "    plt.xlabel('x (nm)')\n",
    "    plt.ylabel('mx, my')\n",
    "    plt.grid()\n",
    "    plt.ylim([-1.05, 1.05])"
   ]
  },
  {
   "cell_type": "markdown",
   "metadata": {},
   "source": [
    "Finally, we create a function for driving a domain wall using the spin-polarised current. All *npy* and *vtk* files are saved in the **\\{simulation_name\\}_npys** and **\\{simulation_name\\}_vtks** folders, respectively."
   ]
  },
  {
   "cell_type": "code",
   "execution_count": 5,
   "metadata": {
    "collapsed": false
   },
   "outputs": [],
   "source": [
    "def excite_system(mesh, time, snapshots):\n",
    "    # Specify the stt dynamics in the simulation\n",
    "    sim = Sim(mesh, name='dyn', driver='llg_stt')\n",
    "    \n",
    "    # Set the simulation parameters\n",
    "    sim.driver.set_tols(rtol=1e-12, atol=1e-14)\n",
    "    sim.driver.alpha = alpha\n",
    "    sim.driver.gamma = gamma\n",
    "    sim.Ms = Ms\n",
    "\n",
    "    # Add energies to the system.\n",
    "    sim.add(UniformExchange(A=A))\n",
    "    sim.add(UniaxialAnisotropy(K))\n",
    "\n",
    "    # Load the initial state from the npy file saved in the realxation stage.\n",
    "    sim.set_m(np.load('m0.npy'))\n",
    "\n",
    "    # Set the spin-polarised current in the x direction.\n",
    "    sim.driver.jx = J\n",
    "    sim.driver.beta = beta\n",
    "\n",
    "    # The simulation will run for x ns and save\n",
    "    # 'snaps' snapshots of the system in the process\n",
    "    ts = np.linspace(0, time, snapshots)\n",
    "\n",
    "    for t in ts:\n",
    "        sim.driver.run_until(t)\n",
    "        sim.save_vtk()\n",
    "        sim.save_m()\n"
   ]
  },
  {
   "cell_type": "markdown",
   "metadata": {},
   "source": [
    "### Simulation"
   ]
  },
  {
   "cell_type": "markdown",
   "metadata": {},
   "source": [
    "Before we run a simulation using previously defined functions, a finite difference mesh must be created."
   ]
  },
  {
   "cell_type": "code",
   "execution_count": 6,
   "metadata": {
    "collapsed": true
   },
   "outputs": [],
   "source": [
    "L = 2000  # nm\n",
    "dx = dy = dz = 2  # nm\n",
    "\n",
    "mesh = CuboidMesh(nx=int(L/dx), ny=1, nz=1, dx=dx, dy=dy, dz=dz, unit_length=1e-9)"
   ]
  },
  {
   "cell_type": "markdown",
   "metadata": {},
   "source": [
    "Now, the system is relaxed and the domain wall equilibrium state is obtained, saved, and later used in the next stage."
   ]
  },
  {
   "cell_type": "code",
   "execution_count": 7,
   "metadata": {
    "collapsed": false,
    "scrolled": true
   },
   "outputs": [],
   "source": [
    "%%capture\n",
    "relax_system(mesh);"
   ]
  },
  {
   "cell_type": "markdown",
   "metadata": {},
   "source": [
    "Plot the magnetisation components of the relaxed state."
   ]
  },
  {
   "cell_type": "code",
   "execution_count": 8,
   "metadata": {
    "collapsed": false
   },
   "outputs": [
    {
     "data": {
      "image/png": "[encoded data removed]",
      "text/plain": [
       "<matplotlib.figure.Figure at 0x7f9df1043be0>"
      ]
     },
     "metadata": {},
     "output_type": "display_data"
    }
   ],
   "source": [
    "plot_magnetisation([['m0.npy', 'mx'], ['m0.npy', 'my'], ['m0.npy', 'mz']])"
   ]
  },
  {
   "cell_type": "markdown",
   "metadata": {},
   "source": [
    "The DW is at the maximum value of $|m_z|$ or $|m_y|$. Consequently, the domain wall position is:"
   ]
  },
  {
   "cell_type": "code",
   "execution_count": 9,
   "metadata": {
    "collapsed": false
   },
   "outputs": [
    {
     "name": "stdout",
     "output_type": "stream",
     "text": [
      "Maximum |m_z| at x = 124\n"
     ]
    }
   ],
   "source": [
    "m0_z = np.load('m0.npy').reshape(-1, 3)[:, 2]\n",
    "x = np.arange(len(m0_z))\n",
    "index_max = np.argmax(np.abs(m0_z))\n",
    "\n",
    "print('Maximum |m_z| at x = %s' % x[index_max])"
   ]
  },
  {
   "cell_type": "markdown",
   "metadata": {},
   "source": [
    "Using the obtained domain wall equilibrium state, we now simulate its motion in presence of a spin-polarised current."
   ]
  },
  {
   "cell_type": "code",
   "execution_count": 10,
   "metadata": {
    "collapsed": false,
    "scrolled": true
   },
   "outputs": [],
   "source": [
    "# PYTEST_VALIDATE_IGNORE_OUTPUT\n",
    "excite_system(mesh, 1.5e-9, 151);"
   ]
  },
  {
   "cell_type": "markdown",
   "metadata": {},
   "source": [
    "We plot once again to compare the initial state with the ones after a SP current was applied."
   ]
  },
  {
   "cell_type": "code",
   "execution_count": 11,
   "metadata": {
    "collapsed": false
   },
   "outputs": [
    {
     "data": {
      "text/plain": [
       "(0, 200)"
      ]
     },
     "execution_count": 11,
     "metadata": {},
     "output_type": "execute_result"
    },
    {
     "data": {
      "image/png": "[encoded data removed]",
      "text/plain": [
       "<matplotlib.figure.Figure at 0x7f9df0f90748>"
      ]
     },
     "metadata": {},
     "output_type": "display_data"
    }
   ],
   "source": [
    "# We can plot the m_x component for a number snapshots\n",
    "# to observe the DW motion\n",
    "# We will plot the 100th and 150th files (we can also compute\n",
    "# until the system reaches ~5 ns to improve the effect)\n",
    "plot_magnetisation([['m0.npy', 'mx'],\n",
    "                    ['dyn_npys/m_100.npy', 'mx'],\n",
    "                    ['dyn_npys/m_150.npy', 'mx']])\n",
    "plt.xlim([0, 200])"
   ]
  }
 ],
 "metadata": {
  "anaconda-cloud": {},
  "kernelspec": {
   "display_name": "Python [conda root]",
   "language": "python",
   "name": "conda-root-py"
  },
  "language_info": {
   "codemirror_mode": {
    "name": "ipython",
    "version": 3
   },
   "file_extension": ".py",
   "mimetype": "text/x-python",
   "name": "python",
   "nbconvert_exporter": "python",
   "pygments_lexer": "ipython3",
   "version": "3.5.2"
  }
 },
 "nbformat": 4,
 "nbformat_minor": 0
}
